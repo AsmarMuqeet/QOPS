{
 "cells": [
  {
   "cell_type": "code",
   "execution_count": 1,
   "id": "5148d62d",
   "metadata": {},
   "outputs": [],
   "source": [
    "import os\n",
    "import pandas as pd\n",
    "import numpy as np\n",
    "from sklearn.metrics import classification_report\n",
    "import json\n",
    "from tqdm.notebook import tqdm\n",
    "from mqt import qcec\n",
    "from qiskit import QuantumCircuit, transpile, qasm2\n",
    "from qiskit_aer import Aer\n",
    "from scipy.stats import chisquare\n",
    "from mqt import qcec\n",
    "import requests\n",
    "from qiskit.quantum_info import Statevector\n",
    "from qiskit.quantum_info import hellinger_distance\n",
    "from distance_metrics_mcda import distance_metrics as dists\n",
    "import pyzx as zx\n",
    "try: \n",
    "    from BeautifulSoup import BeautifulSoup\n",
    "except ImportError:\n",
    "    from bs4 import BeautifulSoup\n",
    "ideal_simulator = Aer.get_backend('qasm_simulator')"
   ]
  },
  {
   "cell_type": "code",
   "execution_count": null,
   "id": "59ab5292",
   "metadata": {
    "scrolled": true
   },
   "outputs": [
    {
     "data": {
      "application/vnd.jupyter.widget-view+json": {
       "model_id": "d52d2bfe2d9142e6ba05855ee95011e8",
       "version_major": 2,
       "version_minor": 0
      },
      "text/plain": [
       "  0%|          | 0/115 [00:00<?, ?it/s]"
      ]
     },
     "metadata": {},
     "output_type": "display_data"
    },
    {
     "data": {
      "application/vnd.jupyter.widget-view+json": {
       "model_id": "",
       "version_major": 2,
       "version_minor": 0
      },
      "text/plain": [
       "  0%|          | 0/3483 [00:00<?, ?it/s]"
      ]
     },
     "metadata": {},
     "output_type": "display_data"
    },
    {
     "data": {
      "application/vnd.jupyter.widget-view+json": {
       "model_id": "",
       "version_major": 2,
       "version_minor": 0
      },
      "text/plain": [
       "  0%|          | 0/504 [00:00<?, ?it/s]"
      ]
     },
     "metadata": {},
     "output_type": "display_data"
    },
    {
     "data": {
      "application/vnd.jupyter.widget-view+json": {
       "model_id": "",
       "version_major": 2,
       "version_minor": 0
      },
      "text/plain": [
       "  0%|          | 0/816 [00:00<?, ?it/s]"
      ]
     },
     "metadata": {},
     "output_type": "display_data"
    },
    {
     "data": {
      "application/vnd.jupyter.widget-view+json": {
       "model_id": "",
       "version_major": 2,
       "version_minor": 0
      },
      "text/plain": [
       "  0%|          | 0/1200 [00:00<?, ?it/s]"
      ]
     },
     "metadata": {},
     "output_type": "display_data"
    },
    {
     "data": {
      "application/vnd.jupyter.widget-view+json": {
       "model_id": "",
       "version_major": 2,
       "version_minor": 0
      },
      "text/plain": [
       "  0%|          | 0/1656 [00:00<?, ?it/s]"
      ]
     },
     "metadata": {},
     "output_type": "display_data"
    },
    {
     "data": {
      "application/vnd.jupyter.widget-view+json": {
       "model_id": "",
       "version_major": 2,
       "version_minor": 0
      },
      "text/plain": [
       "  0%|          | 0/2184 [00:00<?, ?it/s]"
      ]
     },
     "metadata": {},
     "output_type": "display_data"
    },
    {
     "data": {
      "application/vnd.jupyter.widget-view+json": {
       "model_id": "",
       "version_major": 2,
       "version_minor": 0
      },
      "text/plain": [
       "  0%|          | 0/2784 [00:00<?, ?it/s]"
      ]
     },
     "metadata": {},
     "output_type": "display_data"
    },
    {
     "data": {
      "application/vnd.jupyter.widget-view+json": {
       "model_id": "",
       "version_major": 2,
       "version_minor": 0
      },
      "text/plain": [
       "  0%|          | 0/3456 [00:00<?, ?it/s]"
      ]
     },
     "metadata": {},
     "output_type": "display_data"
    },
    {
     "data": {
      "application/vnd.jupyter.widget-view+json": {
       "model_id": "",
       "version_major": 2,
       "version_minor": 0
      },
      "text/plain": [
       "  0%|          | 0/360 [00:00<?, ?it/s]"
      ]
     },
     "metadata": {},
     "output_type": "display_data"
    },
    {
     "data": {
      "application/vnd.jupyter.widget-view+json": {
       "model_id": "",
       "version_major": 2,
       "version_minor": 0
      },
      "text/plain": [
       "  0%|          | 0/480 [00:00<?, ?it/s]"
      ]
     },
     "metadata": {},
     "output_type": "display_data"
    },
    {
     "data": {
      "application/vnd.jupyter.widget-view+json": {
       "model_id": "",
       "version_major": 2,
       "version_minor": 0
      },
      "text/plain": [
       "  0%|          | 0/600 [00:00<?, ?it/s]"
      ]
     },
     "metadata": {},
     "output_type": "display_data"
    },
    {
     "data": {
      "application/vnd.jupyter.widget-view+json": {
       "model_id": "",
       "version_major": 2,
       "version_minor": 0
      },
      "text/plain": [
       "  0%|          | 0/720 [00:00<?, ?it/s]"
      ]
     },
     "metadata": {},
     "output_type": "display_data"
    },
    {
     "data": {
      "application/vnd.jupyter.widget-view+json": {
       "model_id": "",
       "version_major": 2,
       "version_minor": 0
      },
      "text/plain": [
       "  0%|          | 0/840 [00:00<?, ?it/s]"
      ]
     },
     "metadata": {},
     "output_type": "display_data"
    },
    {
     "data": {
      "application/vnd.jupyter.widget-view+json": {
       "model_id": "",
       "version_major": 2,
       "version_minor": 0
      },
      "text/plain": [
       "  0%|          | 0/960 [00:00<?, ?it/s]"
      ]
     },
     "metadata": {},
     "output_type": "display_data"
    },
    {
     "data": {
      "application/vnd.jupyter.widget-view+json": {
       "model_id": "",
       "version_major": 2,
       "version_minor": 0
      },
      "text/plain": [
       "  0%|          | 0/1080 [00:00<?, ?it/s]"
      ]
     },
     "metadata": {},
     "output_type": "display_data"
    },
    {
     "data": {
      "application/vnd.jupyter.widget-view+json": {
       "model_id": "",
       "version_major": 2,
       "version_minor": 0
      },
      "text/plain": [
       "  0%|          | 0/96 [00:00<?, ?it/s]"
      ]
     },
     "metadata": {},
     "output_type": "display_data"
    },
    {
     "data": {
      "application/vnd.jupyter.widget-view+json": {
       "model_id": "",
       "version_major": 2,
       "version_minor": 0
      },
      "text/plain": [
       "  0%|          | 0/168 [00:00<?, ?it/s]"
      ]
     },
     "metadata": {},
     "output_type": "display_data"
    },
    {
     "data": {
      "application/vnd.jupyter.widget-view+json": {
       "model_id": "",
       "version_major": 2,
       "version_minor": 0
      },
      "text/plain": [
       "  0%|          | 0/288 [00:00<?, ?it/s]"
      ]
     },
     "metadata": {},
     "output_type": "display_data"
    },
    {
     "data": {
      "application/vnd.jupyter.widget-view+json": {
       "model_id": "",
       "version_major": 2,
       "version_minor": 0
      },
      "text/plain": [
       "  0%|          | 0/408 [00:00<?, ?it/s]"
      ]
     },
     "metadata": {},
     "output_type": "display_data"
    },
    {
     "data": {
      "application/vnd.jupyter.widget-view+json": {
       "model_id": "",
       "version_major": 2,
       "version_minor": 0
      },
      "text/plain": [
       "  0%|          | 0/576 [00:00<?, ?it/s]"
      ]
     },
     "metadata": {},
     "output_type": "display_data"
    },
    {
     "data": {
      "application/vnd.jupyter.widget-view+json": {
       "model_id": "",
       "version_major": 2,
       "version_minor": 0
      },
      "text/plain": [
       "  0%|          | 0/744 [00:00<?, ?it/s]"
      ]
     },
     "metadata": {},
     "output_type": "display_data"
    },
    {
     "data": {
      "application/vnd.jupyter.widget-view+json": {
       "model_id": "",
       "version_major": 2,
       "version_minor": 0
      },
      "text/plain": [
       "  0%|          | 0/960 [00:00<?, ?it/s]"
      ]
     },
     "metadata": {},
     "output_type": "display_data"
    },
    {
     "data": {
      "application/vnd.jupyter.widget-view+json": {
       "model_id": "",
       "version_major": 2,
       "version_minor": 0
      },
      "text/plain": [
       "  0%|          | 0/1176 [00:00<?, ?it/s]"
      ]
     },
     "metadata": {},
     "output_type": "display_data"
    },
    {
     "data": {
      "application/vnd.jupyter.widget-view+json": {
       "model_id": "",
       "version_major": 2,
       "version_minor": 0
      },
      "text/plain": [
       "  0%|          | 0/144 [00:00<?, ?it/s]"
      ]
     },
     "metadata": {},
     "output_type": "display_data"
    },
    {
     "data": {
      "application/vnd.jupyter.widget-view+json": {
       "model_id": "",
       "version_major": 2,
       "version_minor": 0
      },
      "text/plain": [
       "  0%|          | 0/240 [00:00<?, ?it/s]"
      ]
     },
     "metadata": {},
     "output_type": "display_data"
    },
    {
     "data": {
      "application/vnd.jupyter.widget-view+json": {
       "model_id": "",
       "version_major": 2,
       "version_minor": 0
      },
      "text/plain": [
       "  0%|          | 0/384 [00:00<?, ?it/s]"
      ]
     },
     "metadata": {},
     "output_type": "display_data"
    },
    {
     "data": {
      "application/vnd.jupyter.widget-view+json": {
       "model_id": "",
       "version_major": 2,
       "version_minor": 0
      },
      "text/plain": [
       "  0%|          | 0/528 [00:00<?, ?it/s]"
      ]
     },
     "metadata": {},
     "output_type": "display_data"
    },
    {
     "data": {
      "application/vnd.jupyter.widget-view+json": {
       "model_id": "",
       "version_major": 2,
       "version_minor": 0
      },
      "text/plain": [
       "  0%|          | 0/720 [00:00<?, ?it/s]"
      ]
     },
     "metadata": {},
     "output_type": "display_data"
    },
    {
     "data": {
      "application/vnd.jupyter.widget-view+json": {
       "model_id": "",
       "version_major": 2,
       "version_minor": 0
      },
      "text/plain": [
       "  0%|          | 0/912 [00:00<?, ?it/s]"
      ]
     },
     "metadata": {},
     "output_type": "display_data"
    },
    {
     "data": {
      "application/vnd.jupyter.widget-view+json": {
       "model_id": "",
       "version_major": 2,
       "version_minor": 0
      },
      "text/plain": [
       "  0%|          | 0/1152 [00:00<?, ?it/s]"
      ]
     },
     "metadata": {},
     "output_type": "display_data"
    },
    {
     "data": {
      "application/vnd.jupyter.widget-view+json": {
       "model_id": "",
       "version_major": 2,
       "version_minor": 0
      },
      "text/plain": [
       "  0%|          | 0/1392 [00:00<?, ?it/s]"
      ]
     },
     "metadata": {},
     "output_type": "display_data"
    },
    {
     "data": {
      "application/vnd.jupyter.widget-view+json": {
       "model_id": "",
       "version_major": 2,
       "version_minor": 0
      },
      "text/plain": [
       "  0%|          | 0/364 [00:00<?, ?it/s]"
      ]
     },
     "metadata": {},
     "output_type": "display_data"
    },
    {
     "data": {
      "application/vnd.jupyter.widget-view+json": {
       "model_id": "",
       "version_major": 2,
       "version_minor": 0
      },
      "text/plain": [
       "  0%|          | 0/774 [00:00<?, ?it/s]"
      ]
     },
     "metadata": {},
     "output_type": "display_data"
    },
    {
     "data": {
      "application/vnd.jupyter.widget-view+json": {
       "model_id": "",
       "version_major": 2,
       "version_minor": 0
      },
      "text/plain": [
       "  0%|          | 0/1328 [00:00<?, ?it/s]"
      ]
     },
     "metadata": {},
     "output_type": "display_data"
    },
    {
     "data": {
      "application/vnd.jupyter.widget-view+json": {
       "model_id": "",
       "version_major": 2,
       "version_minor": 0
      },
      "text/plain": [
       "  0%|          | 0/2026 [00:00<?, ?it/s]"
      ]
     },
     "metadata": {},
     "output_type": "display_data"
    },
    {
     "data": {
      "application/vnd.jupyter.widget-view+json": {
       "model_id": "",
       "version_major": 2,
       "version_minor": 0
      },
      "text/plain": [
       "  0%|          | 0/2868 [00:00<?, ?it/s]"
      ]
     },
     "metadata": {},
     "output_type": "display_data"
    },
    {
     "data": {
      "application/vnd.jupyter.widget-view+json": {
       "model_id": "",
       "version_major": 2,
       "version_minor": 0
      },
      "text/plain": [
       "  0%|          | 0/3854 [00:00<?, ?it/s]"
      ]
     },
     "metadata": {},
     "output_type": "display_data"
    },
    {
     "data": {
      "application/vnd.jupyter.widget-view+json": {
       "model_id": "",
       "version_major": 2,
       "version_minor": 0
      },
      "text/plain": [
       "  0%|          | 0/4984 [00:00<?, ?it/s]"
      ]
     },
     "metadata": {},
     "output_type": "display_data"
    },
    {
     "data": {
      "application/vnd.jupyter.widget-view+json": {
       "model_id": "3a302102b0f94c3ca4cb7cea0640a50a",
       "version_major": 2,
       "version_minor": 0
      },
      "text/plain": [
       "  0%|          | 0/6258 [00:00<?, ?it/s]"
      ]
     },
     "metadata": {},
     "output_type": "display_data"
    }
   ],
   "source": [
    "#!/usr/bin/env python\n",
    "# coding: utf-8\n",
    "\n",
    "# In[ ]:\n",
    "\n",
    "\n",
    "from qiskit.quantum_info import hellinger_distance, SparsePauliOp\n",
    "import json\n",
    "import shutil\n",
    "import itertools\n",
    "from psfam_update.pauli_organizer import *\n",
    "from scipy.stats import chisquare\n",
    "\n",
    "\n",
    "# In[ ]:\n",
    "\n",
    "\n",
    "def load_program(name):\n",
    "    \n",
    "    qc = QuantumCircuit.from_qasm_file(\"benchmarkFilteration/benchmark/{}\".format(name))\n",
    "    qc.remove_final_measurements()\n",
    "    if len(qc.clbits)>0:\n",
    "        for i in range(len(qc.clbits)):\n",
    "            qc.measure(i,i)\n",
    "    else:\n",
    "        qc.measure_all()\n",
    "        \n",
    "    return qc.copy()\n",
    "\n",
    "\n",
    "def load_mutants(name):\n",
    "    \n",
    "    qc_list = []\n",
    "    for mutant in sorted(os.listdir(\"benchmarkFilteration/mutants/mutants_{}/\".format(name.replace(\".qasm\",\"\")))):\n",
    "        qc = QuantumCircuit.from_qasm_file(\"benchmarkFilteration/mutants/mutants_{}/{}\".format(name.replace(\".qasm\",\"\"),mutant))\n",
    "        qc.remove_final_measurements()\n",
    "        if len(qc.clbits)>0:\n",
    "            for i in range(len(qc.clbits)):\n",
    "                qc.measure(i,i)\n",
    "        else:\n",
    "            qc.measure_all()\n",
    "        \n",
    "        qc_list.append(qc.copy())\n",
    "        \n",
    "    return qc_list\n",
    "\n",
    "def load_zero_input(name):\n",
    "    file = open(\"benchmarkFilteration/zero_input/{}\".format(name.replace(\".qasm\",\".json\")),\"r\")\n",
    "    inp = json.load(file)\n",
    "    file.close()\n",
    "    return inp\n",
    "\n",
    "\n",
    "def get_ps(qc,simulator,prob=True):\n",
    "    \n",
    "    counts = simulator.run(transpile(qc,basis_gates=simulator.operation_names,\n",
    "                                     optimization_level=0,seed_transpiler=42),\n",
    "                           shots=4000,seed_simulator=42).result().get_counts()\n",
    "    if isinstance(counts,list):\n",
    "        PS = []\n",
    "        for count in counts:\n",
    "            temp = dict(sorted(count.items(),key=lambda x: int(x[0],2)))\n",
    "            if prob:\n",
    "                for k in temp.keys():\n",
    "                    temp[k] = temp[k]/4000\n",
    "            PS.append(temp)\n",
    "        return PS\n",
    "    else:\n",
    "        ps = dict(sorted(counts.items(),key=lambda x: int(x[0],2)))\n",
    "        if prob:\n",
    "            for k in ps.keys():\n",
    "                ps[k] = ps[k]/4000\n",
    "        return ps\n",
    "    \n",
    "\n",
    "def get_random_hamoltonian(fam):\n",
    "    pauli_dict = {}\n",
    "    commuting_pauli = fam.to_string()\n",
    "    for s in commuting_pauli:\n",
    "        pauli_dict[s] = np.random.random()\n",
    "    return pauli_dict\n",
    "\n",
    "    \n",
    "def get_n_hamoltonian_coeff(qubits,n=1):\n",
    "    PO = PauliOrganizer(qubits)\n",
    "    fam  = PO.get_families()[-1]\n",
    "    if n>1:\n",
    "        families = []\n",
    "        for i in tqdm(range(n),leave=False):\n",
    "            Hamiltonian_decomp = get_random_hamoltonian(fam)\n",
    "            for s in Hamiltonian_decomp.keys():\n",
    "                PO.input_pauli_decomp(s,Hamiltonian_decomp[s])\n",
    "\n",
    "            f = PO.calc_coefficients()\n",
    "            fam1 = f[-1]\n",
    "            families.append({\"pauli\":fam1.to_string(),\n",
    "                             \"coeff\":fam1.get_coefficients()})\n",
    "\n",
    "        return families\n",
    "    else:\n",
    "        Hamiltonian_decomp = get_random_hamoltonian(fam)\n",
    "        for s in Hamiltonian_decomp.keys():\n",
    "            PO.input_pauli_decomp(s,Hamiltonian_decomp[s])\n",
    "\n",
    "        f = PO.calc_coefficients()\n",
    "        fam1 = f[-1]\n",
    "        return {\"pauli\":fam1.to_string(),\"coeff\":fam1.get_coefficients(),\"decomp\":Hamiltonian_decomp}\n",
    "        \n",
    "\n",
    "\n",
    "\n",
    "def get_exp_from_family(counts,cfs):\n",
    "    measurement = 0\n",
    "    for k in counts.keys():\n",
    "        measurement = measurement+ counts[k]*(cfs[int(k,2)]/4000)\n",
    "        \n",
    "    return measurement\n",
    "\n",
    "\n",
    "def qucat_oracle(ps,observed):\n",
    "    A = set(ps.keys())\n",
    "    B = set(observed.keys())\n",
    "    if len(A.difference(B))!=0 or len(B.difference(A))!=0:\n",
    "        return 0\n",
    "    else:\n",
    "        _,pvalue = chisquare(list(observed.values()),list(ps.values()))\n",
    "        if pvalue<0.01:\n",
    "            return 0\n",
    "        else:\n",
    "            return 1\n",
    "        \n",
    "\n",
    "    \n",
    "\n",
    "def evaluate(simulator):\n",
    "    \n",
    "    programs_name_list = sorted(os.listdir(\"benchmarkFilteration/benchmark/\"))\n",
    "    \n",
    "    for program_name in tqdm(programs_name_list[42+43::]):\n",
    "        \n",
    "        if int(program_name.split(\"_\")[-1].replace(\".qasm\",\"\"))>9:\n",
    "            continue\n",
    "        \n",
    "        ps = load_program(program_name)\n",
    "        mutants = load_mutants(program_name)\n",
    "\n",
    "        result = {}\n",
    "        \n",
    "        mutant_number = 1\n",
    "        for mutant in tqdm(mutants,leave=False):\n",
    "            A = zx.Circuit.from_qasm(qasm2.dumps(transpile(ps,basis_gates=[\"cx\", \"id\", \"rz\", \"sx\", \"x\"],\n",
    "                                     optimization_level=3,seed_transpiler=42)))\n",
    "            B = zx.Circuit.from_qasm(qasm2.dumps(transpile(mutant,basis_gates=[\"cx\", \"id\", \"rz\", \"sx\", \"x\"],\n",
    "                                     optimization_level=3,seed_transpiler=42)))\n",
    "            #ps.remove_final_measurements()\n",
    "            #mutant.remove_final_measurements()\n",
    "            #A = Statevector(ps)\n",
    "            #B = Statevector(mutant)\n",
    "            #probA = A.probabilities()\n",
    "            #probB = B.probabilities()\n",
    "            #if dists.hellinger(probA,probB)<0.05:\n",
    "            #    ground=1\n",
    "            #else:\n",
    "            #    ground=0\n",
    "            if A.verify_equality(B):\n",
    "                ground=1\n",
    "            else:\n",
    "                ground=0\n",
    "            \n",
    "            \n",
    "            result[\"mutant_{}\".format(mutant_number)] = ground\n",
    "            mutant_number+=1\n",
    "\n",
    "        file = open(\"ground_truth/{}\".format(program_name.replace(\".qasm\",\".json\")),\"w\")\n",
    "        json.dump(result,file)\n",
    "        file.close()\n",
    "\n",
    "if __name__ == '__main__':    \n",
    "    evaluate(ideal_simulator)"
   ]
  },
  {
   "cell_type": "code",
   "execution_count": null,
   "id": "49f2d7db",
   "metadata": {},
   "outputs": [],
   "source": [
    "for files in tqdm(os.listdir(\"hamiltonian_result/\")):\n",
    "    file = open(\"hamiltonian_result/\"+files,\"r\")\n",
    "    data = json.load(file)\n",
    "    file.close()\n",
    "    ground = {}\n",
    "    for k in data.keys():\n",
    "        if data[k][\"qucat_oracle\"]==1 and data[k][\"ham_oracle\"]==0:\n",
    "            ground[k] = 0\n",
    "        else:\n",
    "            ground[k] = data[k][\"qucat_oracle\"]\n",
    "            \n",
    "    file = open(\"ground_truth/\"+files,\"w\")\n",
    "    json.dump(ground,file)\n",
    "    file.close()"
   ]
  },
  {
   "cell_type": "code",
   "execution_count": null,
   "id": "da08f343",
   "metadata": {},
   "outputs": [],
   "source": []
  }
 ],
 "metadata": {
  "kernelspec": {
   "display_name": "Python [conda env:quota]",
   "language": "python",
   "name": "conda-env-quota-py"
  },
  "language_info": {
   "codemirror_mode": {
    "name": "ipython",
    "version": 3
   },
   "file_extension": ".py",
   "mimetype": "text/x-python",
   "name": "python",
   "nbconvert_exporter": "python",
   "pygments_lexer": "ipython3",
   "version": "3.9.19"
  }
 },
 "nbformat": 4,
 "nbformat_minor": 5
}
