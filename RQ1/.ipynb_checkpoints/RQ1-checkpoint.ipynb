{
 "cells": [
  {
   "cell_type": "code",
   "execution_count": 2,
   "id": "5148d62d",
   "metadata": {
    "slideshow": {
     "slide_type": "skip"
    }
   },
   "outputs": [],
   "source": [
    "import os\n",
    "import pandas as pd\n",
    "import numpy as np\n",
    "from sklearn.metrics import classification_report\n",
    "import json\n",
    "from tqdm.notebook import tqdm\n",
    "from mqt import qcec\n",
    "from qiskit import QuantumCircuit, transpile\n",
    "from qiskit_aer import Aer\n",
    "from scipy.stats import chisquare\n",
    "from mqt import qcec\n",
    "import requests\n",
    "from qiskit.quantum_info import Statevector\n",
    "from qiskit.quantum_info.operators.predicates import matrix_equal\n",
    "import matplotlib.pyplot as plt\n",
    "import qiskit as qk\n",
    "try: \n",
    "    from BeautifulSoup import BeautifulSoup\n",
    "except ImportError:\n",
    "    from bs4 import BeautifulSoup\n",
    "ideal_simulator = Aer.get_backend('qasm_simulator')"
   ]
  },
  {
   "cell_type": "code",
   "execution_count": 6,
   "id": "b759fa48",
   "metadata": {},
   "outputs": [],
   "source": [
    "def perf_measure(y_actual, y_hat):\n",
    "    TP = 0\n",
    "    FP = 0\n",
    "    TN = 0\n",
    "    FN = 0\n",
    "\n",
    "    for i in range(len(y_hat)): \n",
    "        if y_actual[i]==y_hat[i]==1:\n",
    "            TP += 1\n",
    "        if y_hat[i]==1 and y_actual[i]!=y_hat[i]:\n",
    "            FP += 1\n",
    "        if y_actual[i]==y_hat[i]==0:\n",
    "            TN += 1\n",
    "        if y_hat[i]==0 and y_actual[i]!=y_hat[i]:\n",
    "            FN += 1\n",
    "\n",
    "    return(TP, FP, TN, FN)"
   ]
  },
  {
   "cell_type": "code",
   "execution_count": 3,
   "id": "49f2d7db",
   "metadata": {
    "slideshow": {
     "slide_type": "skip"
    }
   },
   "outputs": [
    {
     "data": {
      "application/vnd.jupyter.widget-view+json": {
       "model_id": "6fd43bab870244ae98de06564223095b",
       "version_major": 2,
       "version_minor": 0
      },
      "text/plain": [
       "  0%|          | 0/157 [00:00<?, ?it/s]"
      ]
     },
     "metadata": {},
     "output_type": "display_data"
    },
    {
     "data": {
      "application/vnd.jupyter.widget-view+json": {
       "model_id": "ada8ac4700a2446abcdea6395abb4062",
       "version_major": 2,
       "version_minor": 0
      },
      "text/plain": [
       "  0%|          | 0/157 [00:00<?, ?it/s]"
      ]
     },
     "metadata": {},
     "output_type": "display_data"
    }
   ],
   "source": [
    "ground,qpredicted,hpredicted = [],[],[]\n",
    "for files in tqdm(os.listdir(\"ground_truth/\")):\n",
    "    file = open(\"ground_truth/\"+files,\"r\")\n",
    "    data = json.load(file)\n",
    "    file.close()\n",
    "    for k,v in data.items():\n",
    "        ground.append(v)\n",
    "\n",
    "\n",
    "for files in tqdm(os.listdir(\"hamiltonian_result/\")):\n",
    "    file = open(\"hamiltonian_result/\"+files,\"r\")\n",
    "    data = json.load(file)\n",
    "    file.close()\n",
    "    for k,v in data.items():\n",
    "        qpredicted.append(v[\"qucat_oracle\"])\n",
    "        hpredicted.append(v[\"ham_oracle\"])"
   ]
  },
  {
   "cell_type": "code",
   "execution_count": 4,
   "id": "ecefd995",
   "metadata": {
    "slideshow": {
     "slide_type": "slide"
    }
   },
   "outputs": [
    {
     "name": "stdout",
     "output_type": "stream",
     "text": [
      "------------------Old Oracle-----------------\n",
      "              precision    recall  f1-score   support\n",
      "\n",
      "      Killed      1.000     0.997     0.999    164898\n",
      "    Survived      0.984     1.000     0.992     30084\n",
      "\n",
      "    accuracy                          0.997    194982\n",
      "   macro avg      0.992     0.998     0.995    194982\n",
      "weighted avg      0.998     0.997     0.998    194982\n",
      "\n",
      "------------------QOPS------------------\n",
      "\n",
      "              precision    recall  f1-score   support\n",
      "\n",
      "      Killed      1.000     1.000     1.000    164898\n",
      "    Survived      1.000     1.000     1.000     30084\n",
      "\n",
      "    accuracy                          1.000    194982\n",
      "   macro avg      1.000     1.000     1.000    194982\n",
      "weighted avg      1.000     1.000     1.000    194982\n",
      "\n"
     ]
    }
   ],
   "source": [
    "print(\"------------------Old Oracle-----------------\")\n",
    "print(classification_report(ground,qpredicted,target_names=[\"Killed\",\"Survived\"],digits=3))\n",
    "print(\"------------------QOPS------------------\\n\")\n",
    "print(classification_report(ground,hpredicted,target_names=[\"Killed\",\"Survived\"],digits=3))"
   ]
  },
  {
   "cell_type": "markdown",
   "id": "23b04891",
   "metadata": {
    "slideshow": {
     "slide_type": "subslide"
    }
   },
   "source": [
    "# Case 1 (Q=0, G=1)  i.e False Positives"
   ]
  },
  {
   "cell_type": "code",
   "execution_count": 7,
   "id": "b24ea424",
   "metadata": {
    "slideshow": {
     "slide_type": "skip"
    }
   },
   "outputs": [],
   "source": [
    "TP, FN, TN, FP = perf_measure(ground,qpredicted)\n",
    "case1_percentage = round(FP/len(ground)*100,2)"
   ]
  },
  {
   "cell_type": "code",
   "execution_count": 8,
   "id": "e34f2c13",
   "metadata": {
    "slideshow": {
     "slide_type": "subslide"
    }
   },
   "outputs": [
    {
     "name": "stdout",
     "output_type": "stream",
     "text": [
      "case1_percentage = 0.0\n",
      "i.e from 194982 only 5\n"
     ]
    }
   ],
   "source": [
    "print(f\"{case1_percentage = }\\ni.e from {len(ground)} only {FP}\")"
   ]
  },
  {
   "cell_type": "markdown",
   "id": "85a400f8",
   "metadata": {
    "slideshow": {
     "slide_type": "subslide"
    }
   },
   "source": [
    "# Case 1 (H=0, G=1)  i.e False Positives"
   ]
  },
  {
   "cell_type": "code",
   "execution_count": 9,
   "id": "22979cf9",
   "metadata": {
    "slideshow": {
     "slide_type": "skip"
    }
   },
   "outputs": [],
   "source": [
    "TP, FN, TN, FP = perf_measure(ground,hpredicted)\n",
    "case1_percentage = round(FP/len(ground)*100,2)"
   ]
  },
  {
   "cell_type": "code",
   "execution_count": 10,
   "id": "d31fc1f8",
   "metadata": {
    "slideshow": {
     "slide_type": "subslide"
    }
   },
   "outputs": [
    {
     "name": "stdout",
     "output_type": "stream",
     "text": [
      "case1_percentage = 0.0\n",
      "i.e from 194982 only 0\n"
     ]
    }
   ],
   "source": [
    "print(f\"{case1_percentage = }\\ni.e from {len(ground)} only {FP}\")"
   ]
  },
  {
   "cell_type": "markdown",
   "id": "42d19de1",
   "metadata": {
    "slideshow": {
     "slide_type": "subslide"
    }
   },
   "source": [
    "# Case 2 (Q=1, G=0) False Negatives"
   ]
  },
  {
   "cell_type": "code",
   "execution_count": 11,
   "id": "9ea37c39",
   "metadata": {
    "slideshow": {
     "slide_type": "skip"
    }
   },
   "outputs": [],
   "source": [
    "TP, FN, TN, FP = perf_measure(ground,qpredicted)\n",
    "case2_percentage = round(FN/len(ground)*100,2)"
   ]
  },
  {
   "cell_type": "code",
   "execution_count": 12,
   "id": "a112bafb",
   "metadata": {
    "slideshow": {
     "slide_type": "subslide"
    }
   },
   "outputs": [
    {
     "name": "stdout",
     "output_type": "stream",
     "text": [
      "case2_percentage = 0.25\n",
      "i.e from 194982 only 484\n"
     ]
    }
   ],
   "source": [
    "print(f\"{case2_percentage = }\\ni.e from {len(ground)} only {FN}\")"
   ]
  },
  {
   "cell_type": "markdown",
   "id": "7dd2eff7",
   "metadata": {
    "slideshow": {
     "slide_type": "subslide"
    }
   },
   "source": [
    "# Case 2 (H=1, G=0) False Negatives"
   ]
  },
  {
   "cell_type": "code",
   "execution_count": 13,
   "id": "485ccc5f",
   "metadata": {
    "slideshow": {
     "slide_type": "skip"
    }
   },
   "outputs": [],
   "source": [
    "TP, FN, TN, FP = perf_measure(ground,hpredicted)\n",
    "case2_percentage = round(FN/len(ground)*100,2)"
   ]
  },
  {
   "cell_type": "code",
   "execution_count": 14,
   "id": "3a2c1d7d",
   "metadata": {
    "slideshow": {
     "slide_type": "subslide"
    }
   },
   "outputs": [
    {
     "name": "stdout",
     "output_type": "stream",
     "text": [
      "case2_percentage = 0.0\n",
      "i.e from 194982 only 0\n"
     ]
    }
   ],
   "source": [
    "print(f\"{case2_percentage = }\\ni.e from {len(ground)} only {FN}\")"
   ]
  },
  {
   "cell_type": "code",
   "execution_count": null,
   "id": "a3b431d8",
   "metadata": {},
   "outputs": [],
   "source": []
  }
 ],
 "metadata": {
  "celltoolbar": "Slideshow",
  "kernelspec": {
   "display_name": "Python [conda env:quota]",
   "language": "python",
   "name": "conda-env-quota-py"
  },
  "language_info": {
   "codemirror_mode": {
    "name": "ipython",
    "version": 3
   },
   "file_extension": ".py",
   "mimetype": "text/x-python",
   "name": "python",
   "nbconvert_exporter": "python",
   "pygments_lexer": "ipython3",
   "version": "3.9.19"
  }
 },
 "nbformat": 4,
 "nbformat_minor": 5
}
