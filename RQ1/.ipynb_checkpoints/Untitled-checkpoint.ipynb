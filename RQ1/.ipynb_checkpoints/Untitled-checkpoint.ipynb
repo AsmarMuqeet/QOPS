{
 "cells": [
  {
   "cell_type": "code",
   "execution_count": 1,
   "id": "7f1f9052",
   "metadata": {},
   "outputs": [],
   "source": [
    "from qiskit.circuit.random import random_circuit\n",
    "from psfam.pauli_organizer import *\n",
    "import numpy as np\n",
    "from qiskit import *\n",
    "from qiskit.circuit.library import DraperQFTAdder"
   ]
  },
  {
   "cell_type": "code",
   "execution_count": 2,
   "id": "3639dd1d",
   "metadata": {},
   "outputs": [
    {
     "data": {
      "image/png": "[encoded data removed]",
      "text/plain": [
       "<Figure size 287.294x200.667 with 1 Axes>"
      ]
     },
     "execution_count": 2,
     "metadata": {},
     "output_type": "execute_result"
    }
   ],
   "source": [
    "qubits = 2\n",
    "qc = QuantumCircuit(qubits)\n",
    "qc.h(0)\n",
    "qc.cx(0,1)\n",
    "#qc.cx(0,2)\n",
    "#qc.measure_all()\n",
    "qc.draw(\"mpl\")"
   ]
  },
  {
   "cell_type": "code",
   "execution_count": 3,
   "id": "0009c7c4",
   "metadata": {},
   "outputs": [],
   "source": [
    "def gen_random_pauli_dict(m):\n",
    "    pauli_dict = dict()\n",
    "    cp = ['I']*m\n",
    "    coords = ([0]*m,[0]*m)\n",
    "    pauli_dict[\"\".join(cp)] = np.random.random()\n",
    "    for i in range(4 ** m): \n",
    "        coords = increment_coords(coords,m - 1)\n",
    "        cp = increment_string(cp,m - 1)\n",
    "        if \"X\" in cp or \"Y\" in cp:\n",
    "            continue\n",
    "        pauli_dict[\"\".join(cp)] = np.random.random()\n",
    "    return pauli_dict"
   ]
  },
  {
   "cell_type": "code",
   "execution_count": 23,
   "id": "c7ea89f3",
   "metadata": {},
   "outputs": [
    {
     "name": "stdout",
     "output_type": "stream",
     "text": [
      "Qubits: 2\n",
      "Generating Matrix:\n",
      "[1, 1]\n",
      "[1, 0]\n",
      "\n",
      "XZ,YX,ZY\n",
      "     ┌───┐     ┌─────────────┐┌───┐┌─────┐┌───┐   ┌─────┐    ┌────────────┐\n",
      "q_0: ┤ H ├──■──┤ U(-π/2,0,0) ├┤ X ├┤ Sdg ├┤ X ├───┤ Sdg ├────┤ U(π/2,0,0) ├\n",
      "     └───┘┌─┴─┐├─────────────┤└─┬─┘└─────┘└─┬─┘┌──┴─────┴───┐└────────────┘\n",
      "q_1: ─────┤ X ├┤ U(-π/2,0,0) ├──■───────────■──┤ U(π/2,0,0) ├──────────────\n",
      "          └───┘└─────────────┘                 └────────────┘              \n",
      "XY,ZX,YZ\n",
      "     ┌───┐     ┌─────────────┐       ┌───┐┌─────┐┌───┐┌────────────┐\n",
      "q_0: ┤ H ├──■──┤ U(-π/2,0,0) ├───────┤ X ├┤ Sdg ├┤ X ├┤ U(π/2,0,0) ├\n",
      "     └───┘┌─┴─┐├─────────────┤┌─────┐└─┬─┘└─────┘└─┬─┘├────────────┤\n",
      "q_1: ─────┤ X ├┤ U(-π/2,0,0) ├┤ Sdg ├──■───────────■──┤ U(π/2,0,0) ├\n",
      "          └───┘└─────────────┘└─────┘                 └────────────┘\n",
      "IY,YI,YY\n",
      "     ┌───┐     ┌─────────────┐┌─────┐┌────────────┐\n",
      "q_0: ┤ H ├──■──┤ U(-π/2,0,0) ├┤ Sdg ├┤ U(π/2,0,0) ├\n",
      "     └───┘┌─┴─┐├─────────────┤├─────┤├────────────┤\n",
      "q_1: ─────┤ X ├┤ U(-π/2,0,0) ├┤ Sdg ├┤ U(π/2,0,0) ├\n",
      "          └───┘└─────────────┘└─────┘└────────────┘\n",
      "IX,XI,XX\n",
      "     ┌───┐     ┌─────────────┐\n",
      "q_0: ┤ H ├──■──┤ U(-π/2,0,0) ├\n",
      "     └───┘┌─┴─┐├─────────────┤\n",
      "q_1: ─────┤ X ├┤ U(-π/2,0,0) ├\n",
      "          └───┘└─────────────┘\n",
      "II,IZ,ZI,ZZ\n",
      "     ┌───┐     \n",
      "q_0: ┤ H ├──■──\n",
      "     └───┘┌─┴─┐\n",
      "q_1: ─────┤ X ├\n",
      "          └───┘\n"
     ]
    }
   ],
   "source": [
    "m=qubits\n",
    "PO = PauliOrganizer(m)\n",
    "\n",
    "print(PO.properties())\n",
    "\n",
    "print()\n",
    "\n",
    "len(PO.get_families())\n",
    "\n",
    "for fam in PO.get_families():\n",
    "    print(fam)\n",
    "    temp = qc.copy()\n",
    "    fam.apply_to_circuit(temp)\n",
    "    print(temp.draw())"
   ]
  },
  {
   "cell_type": "code",
   "execution_count": 92,
   "id": "f1593af8",
   "metadata": {},
   "outputs": [
    {
     "data": {
      "text/plain": [
       "0.0"
      ]
     },
     "execution_count": 92,
     "metadata": {},
     "output_type": "execute_result"
    }
   ],
   "source": [
    "Hamiltonian_decomp = {\"ZI\":1,}\n",
    "#Hamiltonian_decomp = {\"IZ\":1}\n",
    "#Hamiltonian_decomp = {\"ZZ\":0.2,\"ZI\":0.5,\"IZ\":0.3}\n",
    "\n",
    "#ZZ = [1, -1, -1, 1]\n",
    "#ZI = [1, 1, -1, -1] \n",
    "#IZ = [1,-1, 1, -1]\n",
    "#[0.2+0.5+0.3, -0.2+0.5-0.3]\n",
    "(0.3*-1*0.25 + 0.3*1*0.25 + 0.3*-1*0.25 + 0.3*1*0.25) + (0.2*-1*0.25 + 0.2*1*0.25 + 0.2*1*0.25 + 0.2*-1*0.25)"
   ]
  },
  {
   "cell_type": "code",
   "execution_count": 90,
   "id": "75ed07fa",
   "metadata": {},
   "outputs": [
    {
     "name": "stdout",
     "output_type": "stream",
     "text": [
      "z family\n",
      "Qubits: 2\n",
      "Coefficients: [1, 1, -1, -1]\n"
     ]
    }
   ],
   "source": [
    "PO = PauliOrganizer(m)\n",
    "for s in Hamiltonian_decomp.keys():\n",
    "    PO.input_pauli_decomp(s,Hamiltonian_decomp[s])\n",
    "f = PO.calc_coefficients()\n",
    "fam1 = f[-1]\n",
    "print(fam1.properties())"
   ]
  },
  {
   "cell_type": "code",
   "execution_count": 83,
   "id": "a53ce50c",
   "metadata": {},
   "outputs": [
    {
     "data": {
      "text/plain": [
       "[[0, 0, 0, 0], [3, 0, 0, 0], [0, 0, 0, 0], [0, 0, 0, 0]]"
      ]
     },
     "execution_count": 83,
     "metadata": {},
     "output_type": "execute_result"
    }
   ],
   "source": [
    "PO.pauli_decomposition"
   ]
  },
  {
   "cell_type": "code",
   "execution_count": 23,
   "id": "89f002ed",
   "metadata": {},
   "outputs": [
    {
     "data": {
      "text/html": [
       "<pre style=\"word-wrap: normal;white-space: pre;background: #fff0;line-height: 1.1;font-family: &quot;Courier New&quot;,Courier,monospace\">   ┌─────────────┐\n",
       "q: ┤ U(-π/2,0,0) ├\n",
       "   └─────────────┘</pre>"
      ],
      "text/plain": [
       "   ┌─────────────┐\n",
       "q: ┤ U(-π/2,0,0) ├\n",
       "   └─────────────┘"
      ]
     },
     "execution_count": 23,
     "metadata": {},
     "output_type": "execute_result"
    }
   ],
   "source": [
    "qc = QuantumCircuit(1)\n",
    "qc.u(-np.pi/2,0,0,0)\n",
    "qc.draw()"
   ]
  },
  {
   "cell_type": "code",
   "execution_count": 26,
   "id": "6a7056bf",
   "metadata": {},
   "outputs": [
    {
     "data": {
      "text/html": [
       "<pre style=\"word-wrap: normal;white-space: pre;background: #fff0;line-height: 1.1;font-family: &quot;Courier New&quot;,Courier,monospace\">   ┌──────────┐\n",
       "q: ┤ Ry(-π/2) ├\n",
       "   └──────────┘</pre>"
      ],
      "text/plain": [
       "   ┌──────────┐\n",
       "q: ┤ Ry(-π/2) ├\n",
       "   └──────────┘"
      ]
     },
     "execution_count": 26,
     "metadata": {},
     "output_type": "execute_result"
    }
   ],
   "source": [
    "transpile(qc,basis_gates=[\"rx\",\"ry\",\"rz\"]).draw()"
   ]
  },
  {
   "cell_type": "code",
   "execution_count": 3,
   "id": "20e4c59d",
   "metadata": {},
   "outputs": [],
   "source": [
    "from qiskit.quantum_info import SparsePauliOp\n",
    "from qiskit.transpiler.preset_passmanagers import generate_preset_pass_manager\n",
    "from qiskit_aer import AerSimulator\n",
    "from qiskit_aer.primitives import EstimatorV2 as Estimator"
   ]
  },
  {
   "cell_type": "code",
   "execution_count": 55,
   "id": "05dd1ecd",
   "metadata": {},
   "outputs": [],
   "source": [
    "observable = SparsePauliOp(\"XX\")"
   ]
  },
  {
   "cell_type": "code",
   "execution_count": 58,
   "id": "a28b6857",
   "metadata": {},
   "outputs": [
    {
     "data": {
      "text/plain": [
       "1.0"
      ]
     },
     "execution_count": 58,
     "metadata": {},
     "output_type": "execute_result"
    }
   ],
   "source": [
    "qubits = 2\n",
    "qc = QuantumCircuit(qubits)\n",
    "qc.h(0)\n",
    "qc.cx(0,1)\n",
    "# qc.sdg(1)\n",
    "# qc.sdg(0)\n",
    "# qc.h(1)\n",
    "# qc.h(0)\n",
    "\n",
    "exact_estimator = Estimator()\n",
    "# The circuit needs to be transpiled to the AerSimulator target\n",
    "pass_manager = generate_preset_pass_manager(0, AerSimulator())\n",
    "isa_circuit = pass_manager.run(qc)\n",
    "pub = (isa_circuit, observable)\n",
    "job = exact_estimator.run([pub])\n",
    "result = job.result()\n",
    "pub_result = result[0]\n",
    "exact_value = float(pub_result.data.evs)\n",
    "exact_value"
   ]
  },
  {
   "cell_type": "code",
   "execution_count": 59,
   "id": "1f3b9ebd",
   "metadata": {},
   "outputs": [
    {
     "name": "stdout",
     "output_type": "stream",
     "text": [
      "Operator([[0.+0.j, 0.+0.j, 0.+0.j, 1.+0.j],\n",
      "          [0.+0.j, 0.+0.j, 1.+0.j, 0.+0.j],\n",
      "          [0.+0.j, 1.+0.j, 0.+0.j, 0.+0.j],\n",
      "          [1.+0.j, 0.+0.j, 0.+0.j, 0.+0.j]],\n",
      "         input_dims=(2, 2), output_dims=(2, 2))\n"
     ]
    }
   ],
   "source": [
    "operator = observable.to_operator()\n",
    "operator"
   ]
  },
  {
   "cell_type": "code",
   "execution_count": 41,
   "id": "541e79bb",
   "metadata": {},
   "outputs": [
    {
     "data": {
      "image/png": "[encoded data removed]",
      "text/plain": [
       "<Figure size 1473.68x618.722 with 1 Axes>"
      ]
     },
     "execution_count": 41,
     "metadata": {},
     "output_type": "execute_result"
    }
   ],
   "source": [
    "qc = DraperQFTAdder(3,kind=\"fixed\")\n",
    "creg = ClassicalRegister(3)\n",
    "areg,breg = qc.qregs\n",
    "qc.add_register(creg)\n",
    "\n",
    "iqc = QuantumCircuit()\n",
    "iqc.add_register(areg)\n",
    "iqc.add_register(breg)\n",
    "\n",
    "iqc.x(areg[0])\n",
    "iqc.x(breg[0])\n",
    "iqc.barrier(areg)\n",
    "iqc.barrier(breg)\n",
    "\n",
    "qc = iqc.compose(qc)\n",
    "\n",
    "qc.measure(breg[0],creg[0])\n",
    "qc.measure(breg[1],creg[1])\n",
    "qc.measure(breg[2],creg[2])\n",
    "qc.decompose().draw(\"mpl\")"
   ]
  },
  {
   "cell_type": "code",
   "execution_count": 42,
   "id": "f687210c",
   "metadata": {},
   "outputs": [],
   "source": [
    "sim = AerSimulator()\n",
    "res = sim.run(qc.decompose(reps=3),run_options={\"shots\":1024}).result()"
   ]
  },
  {
   "cell_type": "code",
   "execution_count": 43,
   "id": "9cc90b22",
   "metadata": {},
   "outputs": [
    {
     "data": {
      "text/plain": [
       "{'010': 1024}"
      ]
     },
     "execution_count": 43,
     "metadata": {},
     "output_type": "execute_result"
    }
   ],
   "source": [
    "res.get_counts()"
   ]
  },
  {
   "cell_type": "code",
   "execution_count": 188,
   "id": "4e3c7e8f",
   "metadata": {},
   "outputs": [
    {
     "data": {
      "image/png": "[encoded data removed]",
      "text/plain": [
       "<Figure size 1473.88x618.722 with 1 Axes>"
      ]
     },
     "execution_count": 188,
     "metadata": {},
     "output_type": "execute_result"
    }
   ],
   "source": [
    "qc = DraperQFTAdder(3,kind=\"fixed\")\n",
    "creg = ClassicalRegister(3)\n",
    "areg,breg = qc.qregs\n",
    "qc.add_register(creg)\n",
    "\n",
    "#input\n",
    "iqc = QuantumCircuit()\n",
    "iqc.add_register(areg)\n",
    "iqc.add_register(breg)\n",
    "\n",
    "iqc.x(areg[1])\n",
    "#iqc.x(breg[0])\n",
    "iqc.x(breg[1])\n",
    "iqc.barrier(areg)\n",
    "iqc.barrier(breg)\n",
    "\n",
    "#mutation\n",
    "# mqc = QuantumCircuit()\n",
    "# mqc.add_register(areg)\n",
    "# mqc.add_register(breg)\n",
    "# mqc.rz(np.pi/3,breg[1])\n",
    "# qc = mqc.compose(qc)\n",
    "#composition\n",
    "qc = iqc.compose(qc)\n",
    "\n",
    "qc.measure(breg[0],creg[0])\n",
    "qc.measure(breg[1],creg[1])\n",
    "qc.measure(breg[2],creg[2])\n",
    "qc.decompose().draw(\"mpl\")"
   ]
  },
  {
   "cell_type": "code",
   "execution_count": 189,
   "id": "ce5a2763",
   "metadata": {},
   "outputs": [
    {
     "data": {
      "text/plain": [
       "{'100': 1024}"
      ]
     },
     "execution_count": 189,
     "metadata": {},
     "output_type": "execute_result"
    }
   ],
   "source": [
    "sim = AerSimulator()\n",
    "res = sim.run(qc.decompose(reps=3),run_options={\"shots\":1024}).result()\n",
    "res.get_counts()"
   ]
  },
  {
   "cell_type": "code",
   "execution_count": 169,
   "id": "35464d43",
   "metadata": {},
   "outputs": [
    {
     "name": "stdout",
     "output_type": "stream",
     "text": [
      "('I', 'I', 'I', 'I', 'I', 'I') [1.0000000000000009, 1.000000000000001]\n",
      "('I', 'I', 'I', 'I', 'I', 'Z') [-1.0000000000000009, -1.000000000000001]\n",
      "('I', 'I', 'I', 'I', 'Z', 'Z') [-1.0000000000000009, -1.000000000000001]\n",
      "('I', 'I', 'I', 'Z', 'Z', 'Z') [-1.0000000000000009, -1.000000000000001]\n",
      "('I', 'I', 'Z', 'Z', 'Z', 'Z') [-1.0000000000000009, -1.000000000000001]\n",
      "('I', 'Z', 'Z', 'Z', 'Z', 'Z') [1.0000000000000009, 1.000000000000001]\n",
      "('Z', 'Z', 'Z', 'Z', 'Z', 'Z') [1.0000000000000009, 1.000000000000001]\n"
     ]
    }
   ],
   "source": [
    "from itertools import permutations, combinations,combinations_with_replacement\n",
    "\n",
    "qc = DraperQFTAdder(3,kind=\"fixed\")\n",
    "creg = ClassicalRegister(3)\n",
    "areg,breg = qc.qregs\n",
    "\n",
    "#input\n",
    "iqc = QuantumCircuit()\n",
    "iqc.add_register(areg)\n",
    "iqc.add_register(breg)\n",
    "\n",
    "iqc.x(areg[0])\n",
    "#iqc.x(areg[2])\n",
    "iqc.x(breg[0])\n",
    "iqc.barrier(areg)\n",
    "iqc.barrier(breg)\n",
    "\n",
    "mqc = QuantumCircuit()\n",
    "mqc.add_register(areg)\n",
    "mqc.add_register(breg)\n",
    "mqc.rz(np.pi/3,breg[1])\n",
    "qcm = mqc.compose(qc)\n",
    "\n",
    "\n",
    "qc = iqc.compose(qc)\n",
    "qcm = iqc.compose(qcm)\n",
    "\n",
    "exact_estimator = Estimator()\n",
    "sim = AerSimulator()\n",
    "pass_manager = generate_preset_pass_manager(0, sim)\n",
    "\n",
    "for string in combinations_with_replacement([\"I\",\"Z\",\"X\",\"Y\"],6):\n",
    "    observable = SparsePauliOp(\"\".join(string))\n",
    "    \n",
    "    # The circuit needs to be transpiled to the AerSimulator target\n",
    "    isa_circuit = pass_manager.run(qc)\n",
    "    pub = (isa_circuit, observable)\n",
    "    job = exact_estimator.run([pub])\n",
    "    result = job.result()\n",
    "    pub_result = result[0]\n",
    "    exact_value = float(pub_result.data.evs)\n",
    "    \n",
    "    isa_circuit = pass_manager.run(qcm)\n",
    "    pub = (isa_circuit, observable)\n",
    "    job = exact_estimator.run([pub])\n",
    "    result = job.result()\n",
    "    pub_result = result[0]\n",
    "    exact_valuem = float(pub_result.data.evs)\n",
    "    \n",
    "    if exact_valuem!=exact_value:\n",
    "        print(string, [exact_value,exact_valuem])"
   ]
  },
  {
   "cell_type": "code",
   "execution_count": 200,
   "id": "73337f2c",
   "metadata": {},
   "outputs": [
    {
     "ename": "AttributeError",
     "evalue": "'QuantumCircuit' object has no attribute 'rrz'",
     "output_type": "error",
     "traceback": [
      "\u001b[1;31m---------------------------------------------------------------------------\u001b[0m",
      "\u001b[1;31mAttributeError\u001b[0m                            Traceback (most recent call last)",
      "Cell \u001b[1;32mIn[200], line 23\u001b[0m\n\u001b[0;32m     21\u001b[0m mqc\u001b[38;5;241m.\u001b[39madd_register(areg)\n\u001b[0;32m     22\u001b[0m mqc\u001b[38;5;241m.\u001b[39madd_register(breg)\n\u001b[1;32m---> 23\u001b[0m \u001b[43mmqc\u001b[49m\u001b[38;5;241;43m.\u001b[39;49m\u001b[43mrrz\u001b[49m(np\u001b[38;5;241m.\u001b[39mpi\u001b[38;5;241m/\u001b[39m\u001b[38;5;241m2\u001b[39m,breg[\u001b[38;5;241m2\u001b[39m])\n\u001b[0;32m     24\u001b[0m qcm \u001b[38;5;241m=\u001b[39m mqc\u001b[38;5;241m.\u001b[39mcompose(qc)\n\u001b[0;32m     27\u001b[0m \u001b[38;5;66;03m#input\u001b[39;00m\n",
      "\u001b[1;31mAttributeError\u001b[0m: 'QuantumCircuit' object has no attribute 'rrz'"
     ]
    }
   ],
   "source": [
    "qc = DraperQFTAdder(3,kind=\"fixed\")\n",
    "creg = ClassicalRegister(3)\n",
    "areg,breg = qc.qregs\n",
    "qc.add_register(creg)\n",
    "\n",
    "mqc = QuantumCircuit()\n",
    "mqc.add_register(areg)\n",
    "mqc.add_register(breg)\n",
    "mqc.rz(np.pi/3,breg[1])\n",
    "qcm = mqc.compose(qc)\n",
    "\n",
    "\n",
    "for string in combinations_with_replacement([\"I\",\"X\"],6):\n",
    "    \n",
    "    qc = DraperQFTAdder(3,kind=\"fixed\")\n",
    "    creg = ClassicalRegister(3)\n",
    "    areg,breg = qc.qregs\n",
    "    qc.add_register(creg)\n",
    "\n",
    "    mqc = QuantumCircuit()\n",
    "    mqc.add_register(areg)\n",
    "    mqc.add_register(breg)\n",
    "    mqc.rz(np.pi/2,breg[2])\n",
    "    qcm = mqc.compose(qc)\n",
    "\n",
    "    \n",
    "    #input\n",
    "    iqc = QuantumCircuit()\n",
    "    iqc.add_register(areg)\n",
    "    iqc.add_register(breg)\n",
    "\n",
    "    for i,s in enumerate(string):\n",
    "        if i>2:\n",
    "            if s==\"X\":\n",
    "                iqc.x(breg[i%3])\n",
    "        else:\n",
    "            if s==\"X\":\n",
    "                iqc.x(areg[i])\n",
    "    \n",
    "    iqc.barrier(areg)\n",
    "    iqc.barrier(breg)\n",
    "\n",
    "    qc = iqc.compose(qc)\n",
    "    qcm = iqc.compose(qcm)\n",
    "    \n",
    "    qc.measure(breg[0],creg[0])\n",
    "    qc.measure(breg[1],creg[1])\n",
    "    qc.measure(breg[2],creg[2])\n",
    "    \n",
    "    qcm.measure(breg[0],creg[0])\n",
    "    qcm.measure(breg[1],creg[1])\n",
    "    qcm.measure(breg[2],creg[2])\n",
    "\n",
    "    \n",
    "    qccounts = sim.run(qc.decompose(reps=3),run_options={\"shots\":1024,\"seed_simulator\":42}).result().get_counts()\n",
    "    qcmcounts = sim.run(qcm.decompose(reps=3),run_options={\"shots\":1024,\"seed_simulator\":42}).result().get_counts()\n",
    "    print(qccounts,qcmcounts)"
   ]
  },
  {
   "cell_type": "code",
   "execution_count": 197,
   "id": "1bfb0958",
   "metadata": {},
   "outputs": [
    {
     "data": {
      "image/png": "[encoded data removed]",
      "text/plain": [
       "<Figure size 804.99x618.722 with 1 Axes>"
      ]
     },
     "execution_count": 197,
     "metadata": {},
     "output_type": "execute_result"
    }
   ],
   "source": [
    "qc.draw(\"mpl\")"
   ]
  },
  {
   "cell_type": "code",
   "execution_count": 15,
   "id": "b325af5f",
   "metadata": {},
   "outputs": [
    {
     "data": {
      "image/png": "[encoded data removed]",
      "text/plain": [
       "<Figure size 287.294x200.667 with 1 Axes>"
      ]
     },
     "execution_count": 15,
     "metadata": {},
     "output_type": "execute_result"
    }
   ],
   "source": [
    "qubits = 2\n",
    "qc = QuantumCircuit(qubits)\n",
    "qc.h(0)\n",
    "#qc.ry(np.pi/2,1)\n",
    "qc.cx(0,1)\n",
    "\n",
    "#qc.measure_all()\n",
    "qc.draw(\"mpl\")"
   ]
  },
  {
   "cell_type": "code",
   "execution_count": 20,
   "id": "215f273e",
   "metadata": {},
   "outputs": [
    {
     "data": {
      "text/plain": [
       "0.5"
      ]
     },
     "execution_count": 20,
     "metadata": {},
     "output_type": "execute_result"
    }
   ],
   "source": [
    "Testcase = 0.75*SparsePauliOp(\"ZZ\")+0.25*SparsePauliOp(\"ZI\")\n",
    "\n",
    "service = QiskitRuntimeService()\n",
    "backend = service.least_busy(operational=True, simulator=False)\n",
    "IBM_estimator = Estimator(backend, options={\"resilience_level\": 2})\n",
    "job = IBM_estimator.run(CUT,Testcase)\n",
    "observed_expectation = job.result().data.evs"
   ]
  },
  {
   "cell_type": "code",
   "execution_count": 21,
   "id": "cb245bf5",
   "metadata": {},
   "outputs": [
    {
     "data": {
      "text/plain": [
       "0.125"
      ]
     },
     "execution_count": 21,
     "metadata": {},
     "output_type": "execute_result"
    }
   ],
   "source": [
    "Testcase = PauliSentence({PauliWord( {0:\"Z\", 1:\"Z\"}): 0.75, PauliWord({0:\"Z\", 1:\"I\"}): 0.25})\n",
    "\n",
    "QPU = qml.device('forest.qpu', wires=2)\n",
    "\n",
    "CUT = qml.from_qiskit(QC)\n",
    "\n",
    "@qml.qnode(QPU)\n",
    "def execute(CUT):\n",
    "    CUT(wires=[0])\n",
    "    CUT(wires=[1])\n",
    "    qml.Hadamard(wires[0])\n",
    "    qml.CNOT(wires=[0,1])\n",
    "    return qml.expval(Testcase)\n",
    "\n",
    "result = execute(CUT)"
   ]
  },
  {
   "cell_type": "code",
   "execution_count": 22,
   "id": "682c96ef",
   "metadata": {},
   "outputs": [
    {
     "data": {
      "text/plain": [
       "SparsePauliOp(['ZZ', 'YY'],\n",
       "              coeffs=[0.75+0.j, 0.25+0.j])"
      ]
     },
     "execution_count": 22,
     "metadata": {},
     "output_type": "execute_result"
    }
   ],
   "source": [
    "observable"
   ]
  },
  {
   "cell_type": "code",
   "execution_count": null,
   "id": "9b339d20",
   "metadata": {},
   "outputs": [],
   "source": []
  }
 ],
 "metadata": {
  "kernelspec": {
   "display_name": "Python [conda env:quota]",
   "language": "python",
   "name": "conda-env-quota-py"
  },
  "language_info": {
   "codemirror_mode": {
    "name": "ipython",
    "version": 3
   },
   "file_extension": ".py",
   "mimetype": "text/x-python",
   "name": "python",
   "nbconvert_exporter": "python",
   "pygments_lexer": "ipython3",
   "version": "3.9.19"
  }
 },
 "nbformat": 4,
 "nbformat_minor": 5
}
