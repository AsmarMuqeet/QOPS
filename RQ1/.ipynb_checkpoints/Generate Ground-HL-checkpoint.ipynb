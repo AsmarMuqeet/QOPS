{
 "cells": [
  {
   "cell_type": "code",
   "execution_count": 1,
   "id": "5148d62d",
   "metadata": {},
   "outputs": [],
   "source": [
    "import os\n",
    "import pandas as pd\n",
    "import numpy as np\n",
    "from sklearn.metrics import classification_report\n",
    "import json\n",
    "from tqdm.notebook import tqdm\n",
    "from mqt import qcec\n",
    "from qiskit import QuantumCircuit, transpile, qasm2\n",
    "from qiskit_aer import Aer\n",
    "from scipy.stats import chisquare\n",
    "from mqt import qcec\n",
    "import requests\n",
    "from qiskit.quantum_info import Statevector\n",
    "from qiskit.quantum_info import hellinger_distance\n",
    "from distance_metrics_mcda import distance_metrics as dists\n",
    "try: \n",
    "    from BeautifulSoup import BeautifulSoup\n",
    "except ImportError:\n",
    "    from bs4 import BeautifulSoup\n",
    "ideal_simulator = Aer.get_backend('qasm_simulator')"
   ]
  },
  {
   "cell_type": "code",
   "execution_count": 4,
   "id": "59ab5292",
   "metadata": {
    "scrolled": true
   },
   "outputs": [
    {
     "data": {
      "application/vnd.jupyter.widget-view+json": {
       "model_id": "7854bc544537461998cde8305946fe93",
       "version_major": 2,
       "version_minor": 0
      },
      "text/plain": [
       "  0%|          | 0/157 [00:00<?, ?it/s]"
      ]
     },
     "metadata": {},
     "output_type": "display_data"
    },
    {
     "data": {
      "application/vnd.jupyter.widget-view+json": {
       "model_id": "",
       "version_major": 2,
       "version_minor": 0
      },
      "text/plain": [
       "0it [00:00, ?it/s]"
      ]
     },
     "metadata": {},
     "output_type": "display_data"
    },
    {
     "data": {
      "application/vnd.jupyter.widget-view+json": {
       "model_id": "",
       "version_major": 2,
       "version_minor": 0
      },
      "text/plain": [
       "0it [00:00, ?it/s]"
      ]
     },
     "metadata": {},
     "output_type": "display_data"
    },
    {
     "data": {
      "application/vnd.jupyter.widget-view+json": {
       "model_id": "",
       "version_major": 2,
       "version_minor": 0
      },
      "text/plain": [
       "0it [00:00, ?it/s]"
      ]
     },
     "metadata": {},
     "output_type": "display_data"
    },
    {
     "data": {
      "application/vnd.jupyter.widget-view+json": {
       "model_id": "",
       "version_major": 2,
       "version_minor": 0
      },
      "text/plain": [
       "0it [00:00, ?it/s]"
      ]
     },
     "metadata": {},
     "output_type": "display_data"
    },
    {
     "data": {
      "application/vnd.jupyter.widget-view+json": {
       "model_id": "",
       "version_major": 2,
       "version_minor": 0
      },
      "text/plain": [
       "0it [00:00, ?it/s]"
      ]
     },
     "metadata": {},
     "output_type": "display_data"
    },
    {
     "data": {
      "application/vnd.jupyter.widget-view+json": {
       "model_id": "",
       "version_major": 2,
       "version_minor": 0
      },
      "text/plain": [
       "0it [00:00, ?it/s]"
      ]
     },
     "metadata": {},
     "output_type": "display_data"
    },
    {
     "data": {
      "application/vnd.jupyter.widget-view+json": {
       "model_id": "",
       "version_major": 2,
       "version_minor": 0
      },
      "text/plain": [
       "0it [00:00, ?it/s]"
      ]
     },
     "metadata": {},
     "output_type": "display_data"
    },
    {
     "data": {
      "application/vnd.jupyter.widget-view+json": {
       "model_id": "",
       "version_major": 2,
       "version_minor": 0
      },
      "text/plain": [
       "0it [00:00, ?it/s]"
      ]
     },
     "metadata": {},
     "output_type": "display_data"
    },
    {
     "data": {
      "application/vnd.jupyter.widget-view+json": {
       "model_id": "",
       "version_major": 2,
       "version_minor": 0
      },
      "text/plain": [
       "0it [00:00, ?it/s]"
      ]
     },
     "metadata": {},
     "output_type": "display_data"
    },
    {
     "data": {
      "application/vnd.jupyter.widget-view+json": {
       "model_id": "",
       "version_major": 2,
       "version_minor": 0
      },
      "text/plain": [
       "0it [00:00, ?it/s]"
      ]
     },
     "metadata": {},
     "output_type": "display_data"
    },
    {
     "data": {
      "application/vnd.jupyter.widget-view+json": {
       "model_id": "",
       "version_major": 2,
       "version_minor": 0
      },
      "text/plain": [
       "0it [00:00, ?it/s]"
      ]
     },
     "metadata": {},
     "output_type": "display_data"
    },
    {
     "data": {
      "application/vnd.jupyter.widget-view+json": {
       "model_id": "",
       "version_major": 2,
       "version_minor": 0
      },
      "text/plain": [
       "0it [00:00, ?it/s]"
      ]
     },
     "metadata": {},
     "output_type": "display_data"
    },
    {
     "data": {
      "application/vnd.jupyter.widget-view+json": {
       "model_id": "",
       "version_major": 2,
       "version_minor": 0
      },
      "text/plain": [
       "0it [00:00, ?it/s]"
      ]
     },
     "metadata": {},
     "output_type": "display_data"
    },
    {
     "data": {
      "application/vnd.jupyter.widget-view+json": {
       "model_id": "",
       "version_major": 2,
       "version_minor": 0
      },
      "text/plain": [
       "0it [00:00, ?it/s]"
      ]
     },
     "metadata": {},
     "output_type": "display_data"
    },
    {
     "data": {
      "application/vnd.jupyter.widget-view+json": {
       "model_id": "",
       "version_major": 2,
       "version_minor": 0
      },
      "text/plain": [
       "0it [00:00, ?it/s]"
      ]
     },
     "metadata": {},
     "output_type": "display_data"
    },
    {
     "data": {
      "application/vnd.jupyter.widget-view+json": {
       "model_id": "",
       "version_major": 2,
       "version_minor": 0
      },
      "text/plain": [
       "0it [00:00, ?it/s]"
      ]
     },
     "metadata": {},
     "output_type": "display_data"
    },
    {
     "data": {
      "application/vnd.jupyter.widget-view+json": {
       "model_id": "",
       "version_major": 2,
       "version_minor": 0
      },
      "text/plain": [
       "0it [00:00, ?it/s]"
      ]
     },
     "metadata": {},
     "output_type": "display_data"
    },
    {
     "data": {
      "application/vnd.jupyter.widget-view+json": {
       "model_id": "",
       "version_major": 2,
       "version_minor": 0
      },
      "text/plain": [
       "0it [00:00, ?it/s]"
      ]
     },
     "metadata": {},
     "output_type": "display_data"
    },
    {
     "data": {
      "application/vnd.jupyter.widget-view+json": {
       "model_id": "",
       "version_major": 2,
       "version_minor": 0
      },
      "text/plain": [
       "0it [00:00, ?it/s]"
      ]
     },
     "metadata": {},
     "output_type": "display_data"
    },
    {
     "data": {
      "application/vnd.jupyter.widget-view+json": {
       "model_id": "",
       "version_major": 2,
       "version_minor": 0
      },
      "text/plain": [
       "0it [00:00, ?it/s]"
      ]
     },
     "metadata": {},
     "output_type": "display_data"
    },
    {
     "data": {
      "application/vnd.jupyter.widget-view+json": {
       "model_id": "",
       "version_major": 2,
       "version_minor": 0
      },
      "text/plain": [
       "0it [00:00, ?it/s]"
      ]
     },
     "metadata": {},
     "output_type": "display_data"
    },
    {
     "data": {
      "application/vnd.jupyter.widget-view+json": {
       "model_id": "",
       "version_major": 2,
       "version_minor": 0
      },
      "text/plain": [
       "0it [00:00, ?it/s]"
      ]
     },
     "metadata": {},
     "output_type": "display_data"
    },
    {
     "data": {
      "application/vnd.jupyter.widget-view+json": {
       "model_id": "",
       "version_major": 2,
       "version_minor": 0
      },
      "text/plain": [
       "0it [00:00, ?it/s]"
      ]
     },
     "metadata": {},
     "output_type": "display_data"
    },
    {
     "data": {
      "application/vnd.jupyter.widget-view+json": {
       "model_id": "",
       "version_major": 2,
       "version_minor": 0
      },
      "text/plain": [
       "0it [00:00, ?it/s]"
      ]
     },
     "metadata": {},
     "output_type": "display_data"
    },
    {
     "data": {
      "application/vnd.jupyter.widget-view+json": {
       "model_id": "",
       "version_major": 2,
       "version_minor": 0
      },
      "text/plain": [
       "0it [00:00, ?it/s]"
      ]
     },
     "metadata": {},
     "output_type": "display_data"
    },
    {
     "data": {
      "application/vnd.jupyter.widget-view+json": {
       "model_id": "",
       "version_major": 2,
       "version_minor": 0
      },
      "text/plain": [
       "0it [00:00, ?it/s]"
      ]
     },
     "metadata": {},
     "output_type": "display_data"
    },
    {
     "data": {
      "application/vnd.jupyter.widget-view+json": {
       "model_id": "",
       "version_major": 2,
       "version_minor": 0
      },
      "text/plain": [
       "0it [00:00, ?it/s]"
      ]
     },
     "metadata": {},
     "output_type": "display_data"
    },
    {
     "data": {
      "application/vnd.jupyter.widget-view+json": {
       "model_id": "",
       "version_major": 2,
       "version_minor": 0
      },
      "text/plain": [
       "0it [00:00, ?it/s]"
      ]
     },
     "metadata": {},
     "output_type": "display_data"
    },
    {
     "data": {
      "application/vnd.jupyter.widget-view+json": {
       "model_id": "",
       "version_major": 2,
       "version_minor": 0
      },
      "text/plain": [
       "0it [00:00, ?it/s]"
      ]
     },
     "metadata": {},
     "output_type": "display_data"
    },
    {
     "data": {
      "application/vnd.jupyter.widget-view+json": {
       "model_id": "",
       "version_major": 2,
       "version_minor": 0
      },
      "text/plain": [
       "0it [00:00, ?it/s]"
      ]
     },
     "metadata": {},
     "output_type": "display_data"
    },
    {
     "data": {
      "application/vnd.jupyter.widget-view+json": {
       "model_id": "",
       "version_major": 2,
       "version_minor": 0
      },
      "text/plain": [
       "0it [00:00, ?it/s]"
      ]
     },
     "metadata": {},
     "output_type": "display_data"
    },
    {
     "data": {
      "application/vnd.jupyter.widget-view+json": {
       "model_id": "",
       "version_major": 2,
       "version_minor": 0
      },
      "text/plain": [
       "0it [00:00, ?it/s]"
      ]
     },
     "metadata": {},
     "output_type": "display_data"
    },
    {
     "data": {
      "application/vnd.jupyter.widget-view+json": {
       "model_id": "",
       "version_major": 2,
       "version_minor": 0
      },
      "text/plain": [
       "0it [00:00, ?it/s]"
      ]
     },
     "metadata": {},
     "output_type": "display_data"
    },
    {
     "data": {
      "application/vnd.jupyter.widget-view+json": {
       "model_id": "",
       "version_major": 2,
       "version_minor": 0
      },
      "text/plain": [
       "0it [00:00, ?it/s]"
      ]
     },
     "metadata": {},
     "output_type": "display_data"
    },
    {
     "data": {
      "application/vnd.jupyter.widget-view+json": {
       "model_id": "",
       "version_major": 2,
       "version_minor": 0
      },
      "text/plain": [
       "0it [00:00, ?it/s]"
      ]
     },
     "metadata": {},
     "output_type": "display_data"
    },
    {
     "data": {
      "application/vnd.jupyter.widget-view+json": {
       "model_id": "",
       "version_major": 2,
       "version_minor": 0
      },
      "text/plain": [
       "0it [00:00, ?it/s]"
      ]
     },
     "metadata": {},
     "output_type": "display_data"
    },
    {
     "data": {
      "application/vnd.jupyter.widget-view+json": {
       "model_id": "",
       "version_major": 2,
       "version_minor": 0
      },
      "text/plain": [
       "0it [00:00, ?it/s]"
      ]
     },
     "metadata": {},
     "output_type": "display_data"
    },
    {
     "data": {
      "application/vnd.jupyter.widget-view+json": {
       "model_id": "",
       "version_major": 2,
       "version_minor": 0
      },
      "text/plain": [
       "0it [00:00, ?it/s]"
      ]
     },
     "metadata": {},
     "output_type": "display_data"
    },
    {
     "data": {
      "application/vnd.jupyter.widget-view+json": {
       "model_id": "",
       "version_major": 2,
       "version_minor": 0
      },
      "text/plain": [
       "0it [00:00, ?it/s]"
      ]
     },
     "metadata": {},
     "output_type": "display_data"
    },
    {
     "data": {
      "application/vnd.jupyter.widget-view+json": {
       "model_id": "",
       "version_major": 2,
       "version_minor": 0
      },
      "text/plain": [
       "0it [00:00, ?it/s]"
      ]
     },
     "metadata": {},
     "output_type": "display_data"
    },
    {
     "data": {
      "application/vnd.jupyter.widget-view+json": {
       "model_id": "",
       "version_major": 2,
       "version_minor": 0
      },
      "text/plain": [
       "0it [00:00, ?it/s]"
      ]
     },
     "metadata": {},
     "output_type": "display_data"
    },
    {
     "data": {
      "application/vnd.jupyter.widget-view+json": {
       "model_id": "",
       "version_major": 2,
       "version_minor": 0
      },
      "text/plain": [
       "0it [00:00, ?it/s]"
      ]
     },
     "metadata": {},
     "output_type": "display_data"
    },
    {
     "data": {
      "application/vnd.jupyter.widget-view+json": {
       "model_id": "",
       "version_major": 2,
       "version_minor": 0
      },
      "text/plain": [
       "0it [00:00, ?it/s]"
      ]
     },
     "metadata": {},
     "output_type": "display_data"
    },
    {
     "data": {
      "application/vnd.jupyter.widget-view+json": {
       "model_id": "",
       "version_major": 2,
       "version_minor": 0
      },
      "text/plain": [
       "0it [00:00, ?it/s]"
      ]
     },
     "metadata": {},
     "output_type": "display_data"
    },
    {
     "data": {
      "application/vnd.jupyter.widget-view+json": {
       "model_id": "",
       "version_major": 2,
       "version_minor": 0
      },
      "text/plain": [
       "0it [00:00, ?it/s]"
      ]
     },
     "metadata": {},
     "output_type": "display_data"
    },
    {
     "data": {
      "application/vnd.jupyter.widget-view+json": {
       "model_id": "",
       "version_major": 2,
       "version_minor": 0
      },
      "text/plain": [
       "0it [00:00, ?it/s]"
      ]
     },
     "metadata": {},
     "output_type": "display_data"
    },
    {
     "data": {
      "application/vnd.jupyter.widget-view+json": {
       "model_id": "",
       "version_major": 2,
       "version_minor": 0
      },
      "text/plain": [
       "0it [00:00, ?it/s]"
      ]
     },
     "metadata": {},
     "output_type": "display_data"
    },
    {
     "data": {
      "application/vnd.jupyter.widget-view+json": {
       "model_id": "",
       "version_major": 2,
       "version_minor": 0
      },
      "text/plain": [
       "0it [00:00, ?it/s]"
      ]
     },
     "metadata": {},
     "output_type": "display_data"
    },
    {
     "data": {
      "application/vnd.jupyter.widget-view+json": {
       "model_id": "",
       "version_major": 2,
       "version_minor": 0
      },
      "text/plain": [
       "0it [00:00, ?it/s]"
      ]
     },
     "metadata": {},
     "output_type": "display_data"
    },
    {
     "data": {
      "application/vnd.jupyter.widget-view+json": {
       "model_id": "",
       "version_major": 2,
       "version_minor": 0
      },
      "text/plain": [
       "0it [00:00, ?it/s]"
      ]
     },
     "metadata": {},
     "output_type": "display_data"
    },
    {
     "data": {
      "application/vnd.jupyter.widget-view+json": {
       "model_id": "",
       "version_major": 2,
       "version_minor": 0
      },
      "text/plain": [
       "0it [00:00, ?it/s]"
      ]
     },
     "metadata": {},
     "output_type": "display_data"
    },
    {
     "data": {
      "application/vnd.jupyter.widget-view+json": {
       "model_id": "",
       "version_major": 2,
       "version_minor": 0
      },
      "text/plain": [
       "0it [00:00, ?it/s]"
      ]
     },
     "metadata": {},
     "output_type": "display_data"
    },
    {
     "data": {
      "application/vnd.jupyter.widget-view+json": {
       "model_id": "",
       "version_major": 2,
       "version_minor": 0
      },
      "text/plain": [
       "0it [00:00, ?it/s]"
      ]
     },
     "metadata": {},
     "output_type": "display_data"
    },
    {
     "data": {
      "application/vnd.jupyter.widget-view+json": {
       "model_id": "",
       "version_major": 2,
       "version_minor": 0
      },
      "text/plain": [
       "0it [00:00, ?it/s]"
      ]
     },
     "metadata": {},
     "output_type": "display_data"
    },
    {
     "data": {
      "application/vnd.jupyter.widget-view+json": {
       "model_id": "",
       "version_major": 2,
       "version_minor": 0
      },
      "text/plain": [
       "0it [00:00, ?it/s]"
      ]
     },
     "metadata": {},
     "output_type": "display_data"
    },
    {
     "data": {
      "application/vnd.jupyter.widget-view+json": {
       "model_id": "",
       "version_major": 2,
       "version_minor": 0
      },
      "text/plain": [
       "0it [00:00, ?it/s]"
      ]
     },
     "metadata": {},
     "output_type": "display_data"
    },
    {
     "data": {
      "application/vnd.jupyter.widget-view+json": {
       "model_id": "",
       "version_major": 2,
       "version_minor": 0
      },
      "text/plain": [
       "0it [00:00, ?it/s]"
      ]
     },
     "metadata": {},
     "output_type": "display_data"
    },
    {
     "data": {
      "application/vnd.jupyter.widget-view+json": {
       "model_id": "",
       "version_major": 2,
       "version_minor": 0
      },
      "text/plain": [
       "0it [00:00, ?it/s]"
      ]
     },
     "metadata": {},
     "output_type": "display_data"
    },
    {
     "data": {
      "application/vnd.jupyter.widget-view+json": {
       "model_id": "",
       "version_major": 2,
       "version_minor": 0
      },
      "text/plain": [
       "0it [00:00, ?it/s]"
      ]
     },
     "metadata": {},
     "output_type": "display_data"
    },
    {
     "data": {
      "application/vnd.jupyter.widget-view+json": {
       "model_id": "",
       "version_major": 2,
       "version_minor": 0
      },
      "text/plain": [
       "0it [00:00, ?it/s]"
      ]
     },
     "metadata": {},
     "output_type": "display_data"
    },
    {
     "data": {
      "application/vnd.jupyter.widget-view+json": {
       "model_id": "",
       "version_major": 2,
       "version_minor": 0
      },
      "text/plain": [
       "0it [00:00, ?it/s]"
      ]
     },
     "metadata": {},
     "output_type": "display_data"
    },
    {
     "data": {
      "application/vnd.jupyter.widget-view+json": {
       "model_id": "",
       "version_major": 2,
       "version_minor": 0
      },
      "text/plain": [
       "0it [00:00, ?it/s]"
      ]
     },
     "metadata": {},
     "output_type": "display_data"
    },
    {
     "data": {
      "application/vnd.jupyter.widget-view+json": {
       "model_id": "",
       "version_major": 2,
       "version_minor": 0
      },
      "text/plain": [
       "0it [00:00, ?it/s]"
      ]
     },
     "metadata": {},
     "output_type": "display_data"
    },
    {
     "data": {
      "application/vnd.jupyter.widget-view+json": {
       "model_id": "",
       "version_major": 2,
       "version_minor": 0
      },
      "text/plain": [
       "0it [00:00, ?it/s]"
      ]
     },
     "metadata": {},
     "output_type": "display_data"
    },
    {
     "data": {
      "application/vnd.jupyter.widget-view+json": {
       "model_id": "",
       "version_major": 2,
       "version_minor": 0
      },
      "text/plain": [
       "0it [00:00, ?it/s]"
      ]
     },
     "metadata": {},
     "output_type": "display_data"
    },
    {
     "data": {
      "application/vnd.jupyter.widget-view+json": {
       "model_id": "",
       "version_major": 2,
       "version_minor": 0
      },
      "text/plain": [
       "0it [00:00, ?it/s]"
      ]
     },
     "metadata": {},
     "output_type": "display_data"
    },
    {
     "data": {
      "application/vnd.jupyter.widget-view+json": {
       "model_id": "",
       "version_major": 2,
       "version_minor": 0
      },
      "text/plain": [
       "0it [00:00, ?it/s]"
      ]
     },
     "metadata": {},
     "output_type": "display_data"
    },
    {
     "data": {
      "application/vnd.jupyter.widget-view+json": {
       "model_id": "",
       "version_major": 2,
       "version_minor": 0
      },
      "text/plain": [
       "0it [00:00, ?it/s]"
      ]
     },
     "metadata": {},
     "output_type": "display_data"
    },
    {
     "data": {
      "application/vnd.jupyter.widget-view+json": {
       "model_id": "",
       "version_major": 2,
       "version_minor": 0
      },
      "text/plain": [
       "0it [00:00, ?it/s]"
      ]
     },
     "metadata": {},
     "output_type": "display_data"
    },
    {
     "data": {
      "application/vnd.jupyter.widget-view+json": {
       "model_id": "",
       "version_major": 2,
       "version_minor": 0
      },
      "text/plain": [
       "0it [00:00, ?it/s]"
      ]
     },
     "metadata": {},
     "output_type": "display_data"
    },
    {
     "data": {
      "application/vnd.jupyter.widget-view+json": {
       "model_id": "",
       "version_major": 2,
       "version_minor": 0
      },
      "text/plain": [
       "0it [00:00, ?it/s]"
      ]
     },
     "metadata": {},
     "output_type": "display_data"
    },
    {
     "data": {
      "application/vnd.jupyter.widget-view+json": {
       "model_id": "",
       "version_major": 2,
       "version_minor": 0
      },
      "text/plain": [
       "0it [00:00, ?it/s]"
      ]
     },
     "metadata": {},
     "output_type": "display_data"
    },
    {
     "data": {
      "application/vnd.jupyter.widget-view+json": {
       "model_id": "",
       "version_major": 2,
       "version_minor": 0
      },
      "text/plain": [
       "0it [00:00, ?it/s]"
      ]
     },
     "metadata": {},
     "output_type": "display_data"
    },
    {
     "data": {
      "application/vnd.jupyter.widget-view+json": {
       "model_id": "",
       "version_major": 2,
       "version_minor": 0
      },
      "text/plain": [
       "0it [00:00, ?it/s]"
      ]
     },
     "metadata": {},
     "output_type": "display_data"
    },
    {
     "data": {
      "application/vnd.jupyter.widget-view+json": {
       "model_id": "",
       "version_major": 2,
       "version_minor": 0
      },
      "text/plain": [
       "0it [00:00, ?it/s]"
      ]
     },
     "metadata": {},
     "output_type": "display_data"
    },
    {
     "data": {
      "application/vnd.jupyter.widget-view+json": {
       "model_id": "",
       "version_major": 2,
       "version_minor": 0
      },
      "text/plain": [
       "0it [00:00, ?it/s]"
      ]
     },
     "metadata": {},
     "output_type": "display_data"
    },
    {
     "data": {
      "application/vnd.jupyter.widget-view+json": {
       "model_id": "",
       "version_major": 2,
       "version_minor": 0
      },
      "text/plain": [
       "0it [00:00, ?it/s]"
      ]
     },
     "metadata": {},
     "output_type": "display_data"
    },
    {
     "data": {
      "application/vnd.jupyter.widget-view+json": {
       "model_id": "",
       "version_major": 2,
       "version_minor": 0
      },
      "text/plain": [
       "0it [00:00, ?it/s]"
      ]
     },
     "metadata": {},
     "output_type": "display_data"
    },
    {
     "data": {
      "application/vnd.jupyter.widget-view+json": {
       "model_id": "",
       "version_major": 2,
       "version_minor": 0
      },
      "text/plain": [
       "0it [00:00, ?it/s]"
      ]
     },
     "metadata": {},
     "output_type": "display_data"
    },
    {
     "data": {
      "application/vnd.jupyter.widget-view+json": {
       "model_id": "",
       "version_major": 2,
       "version_minor": 0
      },
      "text/plain": [
       "0it [00:00, ?it/s]"
      ]
     },
     "metadata": {},
     "output_type": "display_data"
    },
    {
     "data": {
      "application/vnd.jupyter.widget-view+json": {
       "model_id": "",
       "version_major": 2,
       "version_minor": 0
      },
      "text/plain": [
       "0it [00:00, ?it/s]"
      ]
     },
     "metadata": {},
     "output_type": "display_data"
    },
    {
     "data": {
      "application/vnd.jupyter.widget-view+json": {
       "model_id": "",
       "version_major": 2,
       "version_minor": 0
      },
      "text/plain": [
       "0it [00:00, ?it/s]"
      ]
     },
     "metadata": {},
     "output_type": "display_data"
    },
    {
     "data": {
      "application/vnd.jupyter.widget-view+json": {
       "model_id": "",
       "version_major": 2,
       "version_minor": 0
      },
      "text/plain": [
       "0it [00:00, ?it/s]"
      ]
     },
     "metadata": {},
     "output_type": "display_data"
    },
    {
     "data": {
      "application/vnd.jupyter.widget-view+json": {
       "model_id": "",
       "version_major": 2,
       "version_minor": 0
      },
      "text/plain": [
       "0it [00:00, ?it/s]"
      ]
     },
     "metadata": {},
     "output_type": "display_data"
    },
    {
     "data": {
      "application/vnd.jupyter.widget-view+json": {
       "model_id": "",
       "version_major": 2,
       "version_minor": 0
      },
      "text/plain": [
       "0it [00:00, ?it/s]"
      ]
     },
     "metadata": {},
     "output_type": "display_data"
    },
    {
     "data": {
      "application/vnd.jupyter.widget-view+json": {
       "model_id": "",
       "version_major": 2,
       "version_minor": 0
      },
      "text/plain": [
       "0it [00:00, ?it/s]"
      ]
     },
     "metadata": {},
     "output_type": "display_data"
    },
    {
     "data": {
      "application/vnd.jupyter.widget-view+json": {
       "model_id": "",
       "version_major": 2,
       "version_minor": 0
      },
      "text/plain": [
       "0it [00:00, ?it/s]"
      ]
     },
     "metadata": {},
     "output_type": "display_data"
    },
    {
     "data": {
      "application/vnd.jupyter.widget-view+json": {
       "model_id": "",
       "version_major": 2,
       "version_minor": 0
      },
      "text/plain": [
       "0it [00:00, ?it/s]"
      ]
     },
     "metadata": {},
     "output_type": "display_data"
    },
    {
     "data": {
      "application/vnd.jupyter.widget-view+json": {
       "model_id": "",
       "version_major": 2,
       "version_minor": 0
      },
      "text/plain": [
       "0it [00:00, ?it/s]"
      ]
     },
     "metadata": {},
     "output_type": "display_data"
    },
    {
     "data": {
      "application/vnd.jupyter.widget-view+json": {
       "model_id": "",
       "version_major": 2,
       "version_minor": 0
      },
      "text/plain": [
       "0it [00:00, ?it/s]"
      ]
     },
     "metadata": {},
     "output_type": "display_data"
    },
    {
     "data": {
      "application/vnd.jupyter.widget-view+json": {
       "model_id": "",
       "version_major": 2,
       "version_minor": 0
      },
      "text/plain": [
       "0it [00:00, ?it/s]"
      ]
     },
     "metadata": {},
     "output_type": "display_data"
    },
    {
     "data": {
      "application/vnd.jupyter.widget-view+json": {
       "model_id": "",
       "version_major": 2,
       "version_minor": 0
      },
      "text/plain": [
       "0it [00:00, ?it/s]"
      ]
     },
     "metadata": {},
     "output_type": "display_data"
    },
    {
     "data": {
      "application/vnd.jupyter.widget-view+json": {
       "model_id": "",
       "version_major": 2,
       "version_minor": 0
      },
      "text/plain": [
       "0it [00:00, ?it/s]"
      ]
     },
     "metadata": {},
     "output_type": "display_data"
    },
    {
     "data": {
      "application/vnd.jupyter.widget-view+json": {
       "model_id": "",
       "version_major": 2,
       "version_minor": 0
      },
      "text/plain": [
       "0it [00:00, ?it/s]"
      ]
     },
     "metadata": {},
     "output_type": "display_data"
    },
    {
     "data": {
      "application/vnd.jupyter.widget-view+json": {
       "model_id": "",
       "version_major": 2,
       "version_minor": 0
      },
      "text/plain": [
       "0it [00:00, ?it/s]"
      ]
     },
     "metadata": {},
     "output_type": "display_data"
    },
    {
     "data": {
      "application/vnd.jupyter.widget-view+json": {
       "model_id": "",
       "version_major": 2,
       "version_minor": 0
      },
      "text/plain": [
       "0it [00:00, ?it/s]"
      ]
     },
     "metadata": {},
     "output_type": "display_data"
    },
    {
     "data": {
      "application/vnd.jupyter.widget-view+json": {
       "model_id": "",
       "version_major": 2,
       "version_minor": 0
      },
      "text/plain": [
       "0it [00:00, ?it/s]"
      ]
     },
     "metadata": {},
     "output_type": "display_data"
    },
    {
     "data": {
      "application/vnd.jupyter.widget-view+json": {
       "model_id": "",
       "version_major": 2,
       "version_minor": 0
      },
      "text/plain": [
       "0it [00:00, ?it/s]"
      ]
     },
     "metadata": {},
     "output_type": "display_data"
    },
    {
     "data": {
      "application/vnd.jupyter.widget-view+json": {
       "model_id": "",
       "version_major": 2,
       "version_minor": 0
      },
      "text/plain": [
       "0it [00:00, ?it/s]"
      ]
     },
     "metadata": {},
     "output_type": "display_data"
    },
    {
     "data": {
      "application/vnd.jupyter.widget-view+json": {
       "model_id": "",
       "version_major": 2,
       "version_minor": 0
      },
      "text/plain": [
       "0it [00:00, ?it/s]"
      ]
     },
     "metadata": {},
     "output_type": "display_data"
    },
    {
     "data": {
      "application/vnd.jupyter.widget-view+json": {
       "model_id": "",
       "version_major": 2,
       "version_minor": 0
      },
      "text/plain": [
       "0it [00:00, ?it/s]"
      ]
     },
     "metadata": {},
     "output_type": "display_data"
    },
    {
     "data": {
      "application/vnd.jupyter.widget-view+json": {
       "model_id": "",
       "version_major": 2,
       "version_minor": 0
      },
      "text/plain": [
       "0it [00:00, ?it/s]"
      ]
     },
     "metadata": {},
     "output_type": "display_data"
    },
    {
     "data": {
      "application/vnd.jupyter.widget-view+json": {
       "model_id": "",
       "version_major": 2,
       "version_minor": 0
      },
      "text/plain": [
       "0it [00:00, ?it/s]"
      ]
     },
     "metadata": {},
     "output_type": "display_data"
    },
    {
     "data": {
      "application/vnd.jupyter.widget-view+json": {
       "model_id": "",
       "version_major": 2,
       "version_minor": 0
      },
      "text/plain": [
       "0it [00:00, ?it/s]"
      ]
     },
     "metadata": {},
     "output_type": "display_data"
    },
    {
     "data": {
      "application/vnd.jupyter.widget-view+json": {
       "model_id": "",
       "version_major": 2,
       "version_minor": 0
      },
      "text/plain": [
       "0it [00:00, ?it/s]"
      ]
     },
     "metadata": {},
     "output_type": "display_data"
    },
    {
     "data": {
      "application/vnd.jupyter.widget-view+json": {
       "model_id": "",
       "version_major": 2,
       "version_minor": 0
      },
      "text/plain": [
       "0it [00:00, ?it/s]"
      ]
     },
     "metadata": {},
     "output_type": "display_data"
    },
    {
     "data": {
      "application/vnd.jupyter.widget-view+json": {
       "model_id": "",
       "version_major": 2,
       "version_minor": 0
      },
      "text/plain": [
       "0it [00:00, ?it/s]"
      ]
     },
     "metadata": {},
     "output_type": "display_data"
    },
    {
     "data": {
      "application/vnd.jupyter.widget-view+json": {
       "model_id": "",
       "version_major": 2,
       "version_minor": 0
      },
      "text/plain": [
       "0it [00:00, ?it/s]"
      ]
     },
     "metadata": {},
     "output_type": "display_data"
    },
    {
     "data": {
      "application/vnd.jupyter.widget-view+json": {
       "model_id": "",
       "version_major": 2,
       "version_minor": 0
      },
      "text/plain": [
       "0it [00:00, ?it/s]"
      ]
     },
     "metadata": {},
     "output_type": "display_data"
    },
    {
     "data": {
      "application/vnd.jupyter.widget-view+json": {
       "model_id": "",
       "version_major": 2,
       "version_minor": 0
      },
      "text/plain": [
       "0it [00:00, ?it/s]"
      ]
     },
     "metadata": {},
     "output_type": "display_data"
    },
    {
     "data": {
      "application/vnd.jupyter.widget-view+json": {
       "model_id": "",
       "version_major": 2,
       "version_minor": 0
      },
      "text/plain": [
       "0it [00:00, ?it/s]"
      ]
     },
     "metadata": {},
     "output_type": "display_data"
    },
    {
     "data": {
      "application/vnd.jupyter.widget-view+json": {
       "model_id": "",
       "version_major": 2,
       "version_minor": 0
      },
      "text/plain": [
       "0it [00:00, ?it/s]"
      ]
     },
     "metadata": {},
     "output_type": "display_data"
    },
    {
     "data": {
      "application/vnd.jupyter.widget-view+json": {
       "model_id": "",
       "version_major": 2,
       "version_minor": 0
      },
      "text/plain": [
       "0it [00:00, ?it/s]"
      ]
     },
     "metadata": {},
     "output_type": "display_data"
    },
    {
     "data": {
      "application/vnd.jupyter.widget-view+json": {
       "model_id": "",
       "version_major": 2,
       "version_minor": 0
      },
      "text/plain": [
       "0it [00:00, ?it/s]"
      ]
     },
     "metadata": {},
     "output_type": "display_data"
    },
    {
     "data": {
      "application/vnd.jupyter.widget-view+json": {
       "model_id": "",
       "version_major": 2,
       "version_minor": 0
      },
      "text/plain": [
       "0it [00:00, ?it/s]"
      ]
     },
     "metadata": {},
     "output_type": "display_data"
    },
    {
     "data": {
      "application/vnd.jupyter.widget-view+json": {
       "model_id": "",
       "version_major": 2,
       "version_minor": 0
      },
      "text/plain": [
       "0it [00:00, ?it/s]"
      ]
     },
     "metadata": {},
     "output_type": "display_data"
    },
    {
     "data": {
      "application/vnd.jupyter.widget-view+json": {
       "model_id": "",
       "version_major": 2,
       "version_minor": 0
      },
      "text/plain": [
       "0it [00:00, ?it/s]"
      ]
     },
     "metadata": {},
     "output_type": "display_data"
    },
    {
     "data": {
      "application/vnd.jupyter.widget-view+json": {
       "model_id": "",
       "version_major": 2,
       "version_minor": 0
      },
      "text/plain": [
       "0it [00:00, ?it/s]"
      ]
     },
     "metadata": {},
     "output_type": "display_data"
    },
    {
     "data": {
      "application/vnd.jupyter.widget-view+json": {
       "model_id": "",
       "version_major": 2,
       "version_minor": 0
      },
      "text/plain": [
       "0it [00:00, ?it/s]"
      ]
     },
     "metadata": {},
     "output_type": "display_data"
    },
    {
     "data": {
      "application/vnd.jupyter.widget-view+json": {
       "model_id": "",
       "version_major": 2,
       "version_minor": 0
      },
      "text/plain": [
       "0it [00:00, ?it/s]"
      ]
     },
     "metadata": {},
     "output_type": "display_data"
    },
    {
     "data": {
      "application/vnd.jupyter.widget-view+json": {
       "model_id": "",
       "version_major": 2,
       "version_minor": 0
      },
      "text/plain": [
       "0it [00:00, ?it/s]"
      ]
     },
     "metadata": {},
     "output_type": "display_data"
    },
    {
     "data": {
      "application/vnd.jupyter.widget-view+json": {
       "model_id": "",
       "version_major": 2,
       "version_minor": 0
      },
      "text/plain": [
       "0it [00:00, ?it/s]"
      ]
     },
     "metadata": {},
     "output_type": "display_data"
    },
    {
     "data": {
      "application/vnd.jupyter.widget-view+json": {
       "model_id": "",
       "version_major": 2,
       "version_minor": 0
      },
      "text/plain": [
       "0it [00:00, ?it/s]"
      ]
     },
     "metadata": {},
     "output_type": "display_data"
    },
    {
     "data": {
      "application/vnd.jupyter.widget-view+json": {
       "model_id": "",
       "version_major": 2,
       "version_minor": 0
      },
      "text/plain": [
       "0it [00:00, ?it/s]"
      ]
     },
     "metadata": {},
     "output_type": "display_data"
    },
    {
     "data": {
      "application/vnd.jupyter.widget-view+json": {
       "model_id": "",
       "version_major": 2,
       "version_minor": 0
      },
      "text/plain": [
       "0it [00:00, ?it/s]"
      ]
     },
     "metadata": {},
     "output_type": "display_data"
    },
    {
     "data": {
      "application/vnd.jupyter.widget-view+json": {
       "model_id": "",
       "version_major": 2,
       "version_minor": 0
      },
      "text/plain": [
       "0it [00:00, ?it/s]"
      ]
     },
     "metadata": {},
     "output_type": "display_data"
    },
    {
     "data": {
      "application/vnd.jupyter.widget-view+json": {
       "model_id": "",
       "version_major": 2,
       "version_minor": 0
      },
      "text/plain": [
       "0it [00:00, ?it/s]"
      ]
     },
     "metadata": {},
     "output_type": "display_data"
    },
    {
     "data": {
      "application/vnd.jupyter.widget-view+json": {
       "model_id": "",
       "version_major": 2,
       "version_minor": 0
      },
      "text/plain": [
       "0it [00:00, ?it/s]"
      ]
     },
     "metadata": {},
     "output_type": "display_data"
    },
    {
     "data": {
      "application/vnd.jupyter.widget-view+json": {
       "model_id": "",
       "version_major": 2,
       "version_minor": 0
      },
      "text/plain": [
       "0it [00:00, ?it/s]"
      ]
     },
     "metadata": {},
     "output_type": "display_data"
    },
    {
     "data": {
      "application/vnd.jupyter.widget-view+json": {
       "model_id": "",
       "version_major": 2,
       "version_minor": 0
      },
      "text/plain": [
       "0it [00:00, ?it/s]"
      ]
     },
     "metadata": {},
     "output_type": "display_data"
    },
    {
     "data": {
      "application/vnd.jupyter.widget-view+json": {
       "model_id": "",
       "version_major": 2,
       "version_minor": 0
      },
      "text/plain": [
       "0it [00:00, ?it/s]"
      ]
     },
     "metadata": {},
     "output_type": "display_data"
    },
    {
     "data": {
      "application/vnd.jupyter.widget-view+json": {
       "model_id": "",
       "version_major": 2,
       "version_minor": 0
      },
      "text/plain": [
       "0it [00:00, ?it/s]"
      ]
     },
     "metadata": {},
     "output_type": "display_data"
    },
    {
     "data": {
      "application/vnd.jupyter.widget-view+json": {
       "model_id": "",
       "version_major": 2,
       "version_minor": 0
      },
      "text/plain": [
       "0it [00:00, ?it/s]"
      ]
     },
     "metadata": {},
     "output_type": "display_data"
    },
    {
     "data": {
      "application/vnd.jupyter.widget-view+json": {
       "model_id": "",
       "version_major": 2,
       "version_minor": 0
      },
      "text/plain": [
       "0it [00:00, ?it/s]"
      ]
     },
     "metadata": {},
     "output_type": "display_data"
    },
    {
     "data": {
      "application/vnd.jupyter.widget-view+json": {
       "model_id": "",
       "version_major": 2,
       "version_minor": 0
      },
      "text/plain": [
       "0it [00:00, ?it/s]"
      ]
     },
     "metadata": {},
     "output_type": "display_data"
    },
    {
     "data": {
      "application/vnd.jupyter.widget-view+json": {
       "model_id": "",
       "version_major": 2,
       "version_minor": 0
      },
      "text/plain": [
       "0it [00:00, ?it/s]"
      ]
     },
     "metadata": {},
     "output_type": "display_data"
    },
    {
     "data": {
      "application/vnd.jupyter.widget-view+json": {
       "model_id": "",
       "version_major": 2,
       "version_minor": 0
      },
      "text/plain": [
       "0it [00:00, ?it/s]"
      ]
     },
     "metadata": {},
     "output_type": "display_data"
    },
    {
     "data": {
      "application/vnd.jupyter.widget-view+json": {
       "model_id": "",
       "version_major": 2,
       "version_minor": 0
      },
      "text/plain": [
       "0it [00:00, ?it/s]"
      ]
     },
     "metadata": {},
     "output_type": "display_data"
    },
    {
     "data": {
      "application/vnd.jupyter.widget-view+json": {
       "model_id": "",
       "version_major": 2,
       "version_minor": 0
      },
      "text/plain": [
       "0it [00:00, ?it/s]"
      ]
     },
     "metadata": {},
     "output_type": "display_data"
    },
    {
     "data": {
      "application/vnd.jupyter.widget-view+json": {
       "model_id": "",
       "version_major": 2,
       "version_minor": 0
      },
      "text/plain": [
       "0it [00:00, ?it/s]"
      ]
     },
     "metadata": {},
     "output_type": "display_data"
    },
    {
     "data": {
      "application/vnd.jupyter.widget-view+json": {
       "model_id": "",
       "version_major": 2,
       "version_minor": 0
      },
      "text/plain": [
       "0it [00:00, ?it/s]"
      ]
     },
     "metadata": {},
     "output_type": "display_data"
    },
    {
     "data": {
      "application/vnd.jupyter.widget-view+json": {
       "model_id": "",
       "version_major": 2,
       "version_minor": 0
      },
      "text/plain": [
       "0it [00:00, ?it/s]"
      ]
     },
     "metadata": {},
     "output_type": "display_data"
    },
    {
     "data": {
      "application/vnd.jupyter.widget-view+json": {
       "model_id": "",
       "version_major": 2,
       "version_minor": 0
      },
      "text/plain": [
       "0it [00:00, ?it/s]"
      ]
     },
     "metadata": {},
     "output_type": "display_data"
    },
    {
     "data": {
      "application/vnd.jupyter.widget-view+json": {
       "model_id": "",
       "version_major": 2,
       "version_minor": 0
      },
      "text/plain": [
       "0it [00:00, ?it/s]"
      ]
     },
     "metadata": {},
     "output_type": "display_data"
    },
    {
     "data": {
      "application/vnd.jupyter.widget-view+json": {
       "model_id": "",
       "version_major": 2,
       "version_minor": 0
      },
      "text/plain": [
       "0it [00:00, ?it/s]"
      ]
     },
     "metadata": {},
     "output_type": "display_data"
    },
    {
     "data": {
      "application/vnd.jupyter.widget-view+json": {
       "model_id": "",
       "version_major": 2,
       "version_minor": 0
      },
      "text/plain": [
       "0it [00:00, ?it/s]"
      ]
     },
     "metadata": {},
     "output_type": "display_data"
    },
    {
     "data": {
      "application/vnd.jupyter.widget-view+json": {
       "model_id": "",
       "version_major": 2,
       "version_minor": 0
      },
      "text/plain": [
       "0it [00:00, ?it/s]"
      ]
     },
     "metadata": {},
     "output_type": "display_data"
    },
    {
     "data": {
      "application/vnd.jupyter.widget-view+json": {
       "model_id": "",
       "version_major": 2,
       "version_minor": 0
      },
      "text/plain": [
       "0it [00:00, ?it/s]"
      ]
     },
     "metadata": {},
     "output_type": "display_data"
    },
    {
     "data": {
      "application/vnd.jupyter.widget-view+json": {
       "model_id": "",
       "version_major": 2,
       "version_minor": 0
      },
      "text/plain": [
       "0it [00:00, ?it/s]"
      ]
     },
     "metadata": {},
     "output_type": "display_data"
    },
    {
     "data": {
      "application/vnd.jupyter.widget-view+json": {
       "model_id": "",
       "version_major": 2,
       "version_minor": 0
      },
      "text/plain": [
       "0it [00:00, ?it/s]"
      ]
     },
     "metadata": {},
     "output_type": "display_data"
    },
    {
     "data": {
      "application/vnd.jupyter.widget-view+json": {
       "model_id": "",
       "version_major": 2,
       "version_minor": 0
      },
      "text/plain": [
       "0it [00:00, ?it/s]"
      ]
     },
     "metadata": {},
     "output_type": "display_data"
    },
    {
     "data": {
      "application/vnd.jupyter.widget-view+json": {
       "model_id": "",
       "version_major": 2,
       "version_minor": 0
      },
      "text/plain": [
       "0it [00:00, ?it/s]"
      ]
     },
     "metadata": {},
     "output_type": "display_data"
    },
    {
     "data": {
      "application/vnd.jupyter.widget-view+json": {
       "model_id": "",
       "version_major": 2,
       "version_minor": 0
      },
      "text/plain": [
       "0it [00:00, ?it/s]"
      ]
     },
     "metadata": {},
     "output_type": "display_data"
    },
    {
     "data": {
      "application/vnd.jupyter.widget-view+json": {
       "model_id": "",
       "version_major": 2,
       "version_minor": 0
      },
      "text/plain": [
       "0it [00:00, ?it/s]"
      ]
     },
     "metadata": {},
     "output_type": "display_data"
    },
    {
     "data": {
      "application/vnd.jupyter.widget-view+json": {
       "model_id": "",
       "version_major": 2,
       "version_minor": 0
      },
      "text/plain": [
       "0it [00:00, ?it/s]"
      ]
     },
     "metadata": {},
     "output_type": "display_data"
    },
    {
     "data": {
      "application/vnd.jupyter.widget-view+json": {
       "model_id": "",
       "version_major": 2,
       "version_minor": 0
      },
      "text/plain": [
       "0it [00:00, ?it/s]"
      ]
     },
     "metadata": {},
     "output_type": "display_data"
    },
    {
     "data": {
      "application/vnd.jupyter.widget-view+json": {
       "model_id": "",
       "version_major": 2,
       "version_minor": 0
      },
      "text/plain": [
       "0it [00:00, ?it/s]"
      ]
     },
     "metadata": {},
     "output_type": "display_data"
    }
   ],
   "source": [
    "#!/usr/bin/env python\n",
    "# coding: utf-8\n",
    "\n",
    "# In[ ]:\n",
    "\n",
    "\n",
    "from qiskit.quantum_info import hellinger_distance, SparsePauliOp\n",
    "import json\n",
    "import shutil\n",
    "import itertools\n",
    "from psfam_update.pauli_organizer import *\n",
    "from scipy.stats import chisquare\n",
    "\n",
    "\n",
    "# In[ ]:\n",
    "\n",
    "\n",
    "def load_program(name):\n",
    "    \n",
    "    qc = QuantumCircuit.from_qasm_file(\"benchmarkFilteration/benchmark/{}\".format(name))\n",
    "    qc.remove_final_measurements()\n",
    "    if len(qc.clbits)>0:\n",
    "        for i in range(len(qc.clbits)):\n",
    "            qc.measure(i,i)\n",
    "    else:\n",
    "        qc.measure_all()\n",
    "        \n",
    "    return qc.copy()\n",
    "\n",
    "\n",
    "def load_mutants(name):\n",
    "    \n",
    "    qc_list = []\n",
    "    for mutant in sorted(os.listdir(\"benchmarkFilteration/mutants/mutants_{}/\".format(name.replace(\".qasm\",\"\")))):\n",
    "        qc = QuantumCircuit.from_qasm_file(\"benchmarkFilteration/mutants/mutants_{}/{}\".format(name.replace(\".qasm\",\"\"),mutant))\n",
    "        qc.remove_final_measurements()\n",
    "        if len(qc.clbits)>0:\n",
    "            for i in range(len(qc.clbits)):\n",
    "                qc.measure(i,i)\n",
    "        else:\n",
    "            qc.measure_all()\n",
    "        \n",
    "        qc_list.append(qc.copy())\n",
    "        \n",
    "    return qc_list\n",
    "\n",
    "def load_zero_input(name):\n",
    "    file = open(\"benchmarkFilteration/zero_input/{}\".format(name.replace(\".qasm\",\".json\")),\"r\")\n",
    "    inp = json.load(file)\n",
    "    file.close()\n",
    "    return inp\n",
    "\n",
    "\n",
    "def get_ps(qc,simulator,prob=True):\n",
    "    \n",
    "    counts = simulator.run(transpile(qc,basis_gates=simulator.operation_names,\n",
    "                                     optimization_level=0,seed_transpiler=42),\n",
    "                           shots=4000,seed_simulator=42).result().get_counts()\n",
    "    if isinstance(counts,list):\n",
    "        PS = []\n",
    "        for count in counts:\n",
    "            temp = dict(sorted(count.items(),key=lambda x: int(x[0],2)))\n",
    "            if prob:\n",
    "                for k in temp.keys():\n",
    "                    temp[k] = temp[k]/4000\n",
    "            PS.append(temp)\n",
    "        return PS\n",
    "    else:\n",
    "        ps = dict(sorted(counts.items(),key=lambda x: int(x[0],2)))\n",
    "        if prob:\n",
    "            for k in ps.keys():\n",
    "                ps[k] = ps[k]/4000\n",
    "        return ps\n",
    "    \n",
    "\n",
    "def get_random_hamoltonian(fam):\n",
    "    pauli_dict = {}\n",
    "    commuting_pauli = fam.to_string()\n",
    "    for s in commuting_pauli:\n",
    "        pauli_dict[s] = np.random.random()\n",
    "    return pauli_dict\n",
    "\n",
    "    \n",
    "def get_n_hamoltonian_coeff(qubits,n=1):\n",
    "    PO = PauliOrganizer(qubits)\n",
    "    fam  = PO.get_families()[-1]\n",
    "    if n>1:\n",
    "        families = []\n",
    "        for i in tqdm(range(n),leave=False):\n",
    "            Hamiltonian_decomp = get_random_hamoltonian(fam)\n",
    "            for s in Hamiltonian_decomp.keys():\n",
    "                PO.input_pauli_decomp(s,Hamiltonian_decomp[s])\n",
    "\n",
    "            f = PO.calc_coefficients()\n",
    "            fam1 = f[-1]\n",
    "            families.append({\"pauli\":fam1.to_string(),\n",
    "                             \"coeff\":fam1.get_coefficients()})\n",
    "\n",
    "        return families\n",
    "    else:\n",
    "        Hamiltonian_decomp = get_random_hamoltonian(fam)\n",
    "        for s in Hamiltonian_decomp.keys():\n",
    "            PO.input_pauli_decomp(s,Hamiltonian_decomp[s])\n",
    "\n",
    "        f = PO.calc_coefficients()\n",
    "        fam1 = f[-1]\n",
    "        return {\"pauli\":fam1.to_string(),\"coeff\":fam1.get_coefficients(),\"decomp\":Hamiltonian_decomp}\n",
    "        \n",
    "\n",
    "\n",
    "\n",
    "def get_exp_from_family(counts,cfs):\n",
    "    measurement = 0\n",
    "    for k in counts.keys():\n",
    "        measurement = measurement+ counts[k]*(cfs[int(k,2)]/4000)\n",
    "        \n",
    "    return measurement\n",
    "\n",
    "\n",
    "def qucat_oracle(ps,observed):\n",
    "    A = set(ps.keys())\n",
    "    B = set(observed.keys())\n",
    "    if len(A.difference(B))!=0 or len(B.difference(A))!=0:\n",
    "        return 0\n",
    "    else:\n",
    "        _,pvalue = chisquare(list(observed.values()),list(ps.values()))\n",
    "        if pvalue<0.01:\n",
    "            return 0\n",
    "        else:\n",
    "            return 1\n",
    "        \n",
    "\n",
    "\n",
    "def batch(iterable, n=1):\n",
    "    l = len(iterable)\n",
    "    for ndx in range(0, l, n):\n",
    "        yield iterable[ndx:min(ndx + n, l)]        \n",
    "\n",
    "def evaluate(simulator):\n",
    "    \n",
    "    programs_name_list = sorted(os.listdir(\"benchmarkFilteration/benchmark/\"))\n",
    "    \n",
    "    for program_name in tqdm(programs_name_list):\n",
    "        \n",
    "        #if int(program_name.split(\"_\")[-1].replace(\".qasm\",\"\"))>9:\n",
    "        #    continue\n",
    "        \n",
    "        ps = load_program(program_name)\n",
    "        mutants = load_mutants(program_name)\n",
    "\n",
    "        result = {}\n",
    "        \n",
    "        A = simulator.run(transpile(ps,basis_gates=simulator.operation_names,\n",
    "                                    optimization_level=3,seed_transpiler=42),\n",
    "                          shots=4000,seed_simulator=42).result().get_counts()\n",
    "        \n",
    "        mutant_number = 1\n",
    "        for mutant in tqdm(batch(mutants,500),leave=False):\n",
    "            B = simulator.run(transpile(mutant,basis_gates=simulator.operation_names,\n",
    "                                        optimization_level=3,seed_transpiler=42),\n",
    "                              shots=4000,seed_simulator=42).result().get_counts()\n",
    "            \n",
    "            for mips in B:\n",
    "                if hellinger_distance(A,mips)<=0.0001:\n",
    "                    ground=1\n",
    "                else:\n",
    "                    ground=0\n",
    "                result[\"mutant_{}\".format(mutant_number)] = ground\n",
    "                mutant_number+=1\n",
    "\n",
    "        file = open(\"ground_truth/{}\".format(program_name.replace(\".qasm\",\".json\")),\"w\")\n",
    "        json.dump(result,file)\n",
    "        file.close()\n",
    "\n",
    "if __name__ == '__main__':    \n",
    "    evaluate(ideal_simulator)"
   ]
  },
  {
   "cell_type": "code",
   "execution_count": 7,
   "id": "d02274c3",
   "metadata": {},
   "outputs": [
    {
     "data": {
      "application/vnd.jupyter.widget-view+json": {
       "model_id": "7672b34247bd40a79a4c9a252ebf2f39",
       "version_major": 2,
       "version_minor": 0
      },
      "text/plain": [
       "  0%|          | 0/157 [00:00<?, ?it/s]"
      ]
     },
     "metadata": {},
     "output_type": "display_data"
    },
    {
     "name": "stdout",
     "output_type": "stream",
     "text": [
      "portfoliovqe_indep_qiskit_10.json mutant_10\n",
      "portfoliovqe_indep_qiskit_10.json mutant_17\n",
      "portfoliovqe_indep_qiskit_10.json mutant_23\n",
      "portfoliovqe_indep_qiskit_10.json mutant_29\n",
      "portfoliovqe_indep_qiskit_10.json mutant_36\n",
      "portfoliovqe_indep_qiskit_10.json mutant_42\n",
      "portfoliovqe_indep_qiskit_10.json mutant_49\n",
      "portfoliovqe_indep_qiskit_10.json mutant_53\n",
      "portfoliovqe_indep_qiskit_10.json mutant_58\n",
      "portfoliovqe_indep_qiskit_10.json mutant_62\n",
      "portfoliovqe_indep_qiskit_10.json mutant_65\n",
      "portfoliovqe_indep_qiskit_10.json mutant_66\n",
      "portfoliovqe_indep_qiskit_10.json mutant_78\n",
      "portfoliovqe_indep_qiskit_10.json mutant_90\n",
      "portfoliovqe_indep_qiskit_10.json mutant_110\n",
      "portfoliovqe_indep_qiskit_10.json mutant_114\n",
      "portfoliovqe_indep_qiskit_10.json mutant_125\n",
      "portfoliovqe_indep_qiskit_10.json mutant_128\n",
      "portfoliovqe_indep_qiskit_10.json mutant_135\n",
      "portfoliovqe_indep_qiskit_10.json mutant_581\n",
      "portfoliovqe_indep_qiskit_10.json mutant_582\n",
      "portfoliovqe_indep_qiskit_10.json mutant_583\n",
      "portfoliovqe_indep_qiskit_10.json mutant_584\n",
      "portfoliovqe_indep_qiskit_10.json mutant_585\n",
      "portfoliovqe_indep_qiskit_10.json mutant_586\n",
      "portfoliovqe_indep_qiskit_10.json mutant_587\n",
      "portfoliovqe_indep_qiskit_10.json mutant_588\n",
      "portfoliovqe_indep_qiskit_10.json mutant_589\n",
      "portfoliovqe_indep_qiskit_10.json mutant_590\n",
      "portfoliovqe_indep_qiskit_10.json mutant_591\n",
      "portfoliovqe_indep_qiskit_10.json mutant_592\n",
      "portfoliovqe_indep_qiskit_10.json mutant_593\n",
      "portfoliovqe_indep_qiskit_10.json mutant_594\n",
      "portfoliovqe_indep_qiskit_10.json mutant_595\n",
      "portfoliovqe_indep_qiskit_10.json mutant_596\n",
      "portfoliovqe_indep_qiskit_10.json mutant_597\n",
      "portfoliovqe_indep_qiskit_10.json mutant_598\n",
      "portfoliovqe_indep_qiskit_10.json mutant_599\n",
      "portfoliovqe_indep_qiskit_10.json mutant_600\n",
      "portfoliovqe_indep_qiskit_10.json mutant_601\n",
      "portfoliovqe_indep_qiskit_10.json mutant_602\n",
      "portfoliovqe_indep_qiskit_10.json mutant_603\n",
      "portfoliovqe_indep_qiskit_10.json mutant_604\n",
      "portfoliovqe_indep_qiskit_10.json mutant_605\n",
      "portfoliovqe_indep_qiskit_10.json mutant_606\n",
      "portfoliovqe_indep_qiskit_10.json mutant_607\n",
      "portfoliovqe_indep_qiskit_10.json mutant_608\n",
      "portfoliovqe_indep_qiskit_10.json mutant_609\n",
      "portfoliovqe_indep_qiskit_10.json mutant_610\n",
      "portfoliovqe_indep_qiskit_10.json mutant_611\n",
      "portfoliovqe_indep_qiskit_10.json mutant_612\n",
      "portfoliovqe_indep_qiskit_10.json mutant_613\n",
      "portfoliovqe_indep_qiskit_10.json mutant_614\n",
      "portfoliovqe_indep_qiskit_10.json mutant_615\n",
      "portfoliovqe_indep_qiskit_10.json mutant_616\n",
      "portfoliovqe_indep_qiskit_10.json mutant_617\n",
      "portfoliovqe_indep_qiskit_10.json mutant_618\n",
      "portfoliovqe_indep_qiskit_10.json mutant_619\n",
      "portfoliovqe_indep_qiskit_10.json mutant_620\n",
      "portfoliovqe_indep_qiskit_10.json mutant_621\n",
      "portfoliovqe_indep_qiskit_10.json mutant_622\n",
      "portfoliovqe_indep_qiskit_10.json mutant_623\n",
      "portfoliovqe_indep_qiskit_10.json mutant_624\n",
      "portfoliovqe_indep_qiskit_10.json mutant_625\n",
      "portfoliovqe_indep_qiskit_10.json mutant_626\n",
      "portfoliovqe_indep_qiskit_10.json mutant_627\n",
      "portfoliovqe_indep_qiskit_10.json mutant_628\n",
      "portfoliovqe_indep_qiskit_10.json mutant_629\n",
      "portfoliovqe_indep_qiskit_10.json mutant_630\n",
      "portfoliovqe_indep_qiskit_10.json mutant_631\n",
      "portfoliovqe_indep_qiskit_10.json mutant_632\n",
      "portfoliovqe_indep_qiskit_10.json mutant_633\n",
      "portfoliovqe_indep_qiskit_10.json mutant_634\n",
      "portfoliovqe_indep_qiskit_10.json mutant_635\n",
      "portfoliovqe_indep_qiskit_10.json mutant_636\n",
      "portfoliovqe_indep_qiskit_10.json mutant_637\n",
      "portfoliovqe_indep_qiskit_10.json mutant_638\n",
      "portfoliovqe_indep_qiskit_10.json mutant_639\n",
      "portfoliovqe_indep_qiskit_10.json mutant_640\n",
      "portfoliovqe_indep_qiskit_10.json mutant_641\n",
      "portfoliovqe_indep_qiskit_10.json mutant_642\n",
      "portfoliovqe_indep_qiskit_10.json mutant_643\n",
      "portfoliovqe_indep_qiskit_10.json mutant_644\n",
      "portfoliovqe_indep_qiskit_10.json mutant_645\n",
      "portfoliovqe_indep_qiskit_10.json mutant_646\n",
      "portfoliovqe_indep_qiskit_10.json mutant_647\n",
      "portfoliovqe_indep_qiskit_10.json mutant_648\n",
      "portfoliovqe_indep_qiskit_10.json mutant_649\n",
      "portfoliovqe_indep_qiskit_10.json mutant_650\n",
      "portfoliovqe_indep_qiskit_10.json mutant_651\n",
      "portfoliovqe_indep_qiskit_10.json mutant_652\n",
      "portfoliovqe_indep_qiskit_10.json mutant_653\n",
      "portfoliovqe_indep_qiskit_10.json mutant_654\n",
      "portfoliovqe_indep_qiskit_10.json mutant_655\n",
      "portfoliovqe_indep_qiskit_10.json mutant_656\n",
      "portfoliovqe_indep_qiskit_10.json mutant_657\n",
      "portfoliovqe_indep_qiskit_10.json mutant_658\n",
      "portfoliovqe_indep_qiskit_10.json mutant_659\n",
      "portfoliovqe_indep_qiskit_10.json mutant_660\n",
      "portfoliovqe_indep_qiskit_10.json mutant_661\n",
      "portfoliovqe_indep_qiskit_10.json mutant_662\n",
      "portfoliovqe_indep_qiskit_10.json mutant_663\n",
      "portfoliovqe_indep_qiskit_10.json mutant_664\n",
      "portfoliovqe_indep_qiskit_10.json mutant_665\n",
      "portfoliovqe_indep_qiskit_10.json mutant_666\n",
      "portfoliovqe_indep_qiskit_10.json mutant_667\n",
      "portfoliovqe_indep_qiskit_10.json mutant_668\n",
      "portfoliovqe_indep_qiskit_10.json mutant_669\n",
      "portfoliovqe_indep_qiskit_10.json mutant_670\n",
      "portfoliovqe_indep_qiskit_10.json mutant_671\n",
      "portfoliovqe_indep_qiskit_10.json mutant_672\n",
      "portfoliovqe_indep_qiskit_10.json mutant_673\n",
      "portfoliovqe_indep_qiskit_10.json mutant_674\n",
      "portfoliovqe_indep_qiskit_10.json mutant_675\n",
      "portfoliovqe_indep_qiskit_10.json mutant_676\n",
      "portfoliovqe_indep_qiskit_10.json mutant_677\n",
      "portfoliovqe_indep_qiskit_10.json mutant_678\n",
      "portfoliovqe_indep_qiskit_10.json mutant_679\n",
      "portfoliovqe_indep_qiskit_10.json mutant_680\n",
      "portfoliovqe_indep_qiskit_10.json mutant_681\n",
      "portfoliovqe_indep_qiskit_10.json mutant_682\n",
      "portfoliovqe_indep_qiskit_10.json mutant_683\n",
      "portfoliovqe_indep_qiskit_10.json mutant_684\n",
      "portfoliovqe_indep_qiskit_10.json mutant_685\n",
      "portfoliovqe_indep_qiskit_10.json mutant_686\n",
      "portfoliovqe_indep_qiskit_10.json mutant_687\n",
      "portfoliovqe_indep_qiskit_10.json mutant_688\n",
      "portfoliovqe_indep_qiskit_10.json mutant_689\n",
      "portfoliovqe_indep_qiskit_10.json mutant_690\n",
      "portfoliovqe_indep_qiskit_10.json mutant_691\n",
      "portfoliovqe_indep_qiskit_10.json mutant_692\n",
      "portfoliovqe_indep_qiskit_10.json mutant_693\n",
      "portfoliovqe_indep_qiskit_10.json mutant_694\n",
      "portfoliovqe_indep_qiskit_10.json mutant_695\n",
      "portfoliovqe_indep_qiskit_10.json mutant_696\n",
      "portfoliovqe_indep_qiskit_10.json mutant_697\n",
      "portfoliovqe_indep_qiskit_10.json mutant_698\n",
      "portfoliovqe_indep_qiskit_10.json mutant_699\n",
      "portfoliovqe_indep_qiskit_10.json mutant_700\n",
      "portfoliovqe_indep_qiskit_10.json mutant_701\n",
      "portfoliovqe_indep_qiskit_10.json mutant_702\n",
      "portfoliovqe_indep_qiskit_10.json mutant_703\n",
      "portfoliovqe_indep_qiskit_10.json mutant_704\n",
      "portfoliovqe_indep_qiskit_10.json mutant_705\n",
      "portfoliovqe_indep_qiskit_10.json mutant_706\n",
      "portfoliovqe_indep_qiskit_10.json mutant_707\n",
      "portfoliovqe_indep_qiskit_10.json mutant_708\n",
      "portfoliovqe_indep_qiskit_10.json mutant_709\n",
      "portfoliovqe_indep_qiskit_10.json mutant_710\n",
      "portfoliovqe_indep_qiskit_10.json mutant_711\n",
      "portfoliovqe_indep_qiskit_10.json mutant_712\n",
      "portfoliovqe_indep_qiskit_10.json mutant_713\n",
      "portfoliovqe_indep_qiskit_10.json mutant_714\n",
      "portfoliovqe_indep_qiskit_10.json mutant_715\n",
      "portfoliovqe_indep_qiskit_10.json mutant_716\n",
      "portfoliovqe_indep_qiskit_10.json mutant_717\n",
      "portfoliovqe_indep_qiskit_10.json mutant_718\n",
      "portfoliovqe_indep_qiskit_10.json mutant_719\n",
      "portfoliovqe_indep_qiskit_10.json mutant_720\n",
      "portfoliovqe_indep_qiskit_10.json mutant_721\n",
      "portfoliovqe_indep_qiskit_10.json mutant_722\n",
      "portfoliovqe_indep_qiskit_10.json mutant_723\n",
      "portfoliovqe_indep_qiskit_10.json mutant_724\n",
      "portfoliovqe_indep_qiskit_10.json mutant_725\n",
      "portfoliovqe_indep_qiskit_10.json mutant_726\n",
      "portfoliovqe_indep_qiskit_10.json mutant_727\n",
      "portfoliovqe_indep_qiskit_10.json mutant_728\n",
      "portfoliovqe_indep_qiskit_10.json mutant_729\n",
      "portfoliovqe_indep_qiskit_10.json mutant_730\n",
      "portfoliovqe_indep_qiskit_10.json mutant_731\n",
      "portfoliovqe_indep_qiskit_10.json mutant_732\n",
      "portfoliovqe_indep_qiskit_10.json mutant_733\n",
      "portfoliovqe_indep_qiskit_10.json mutant_734\n",
      "portfoliovqe_indep_qiskit_10.json mutant_735\n",
      "portfoliovqe_indep_qiskit_10.json mutant_736\n",
      "portfoliovqe_indep_qiskit_10.json mutant_737\n",
      "portfoliovqe_indep_qiskit_10.json mutant_738\n",
      "portfoliovqe_indep_qiskit_10.json mutant_739\n",
      "portfoliovqe_indep_qiskit_10.json mutant_740\n",
      "portfoliovqe_indep_qiskit_10.json mutant_741\n",
      "portfoliovqe_indep_qiskit_10.json mutant_742\n",
      "portfoliovqe_indep_qiskit_10.json mutant_743\n",
      "portfoliovqe_indep_qiskit_10.json mutant_744\n",
      "portfoliovqe_indep_qiskit_10.json mutant_745\n",
      "portfoliovqe_indep_qiskit_10.json mutant_746\n",
      "portfoliovqe_indep_qiskit_10.json mutant_747\n",
      "portfoliovqe_indep_qiskit_10.json mutant_748\n",
      "portfoliovqe_indep_qiskit_10.json mutant_749\n",
      "portfoliovqe_indep_qiskit_10.json mutant_750\n",
      "portfoliovqe_indep_qiskit_10.json mutant_751\n",
      "portfoliovqe_indep_qiskit_10.json mutant_752\n",
      "portfoliovqe_indep_qiskit_10.json mutant_753\n",
      "portfoliovqe_indep_qiskit_10.json mutant_754\n",
      "portfoliovqe_indep_qiskit_10.json mutant_755\n",
      "portfoliovqe_indep_qiskit_10.json mutant_756\n",
      "portfoliovqe_indep_qiskit_10.json mutant_757\n",
      "portfoliovqe_indep_qiskit_10.json mutant_764\n",
      "portfoliovqe_indep_qiskit_10.json mutant_767\n",
      "portfoliovqe_indep_qiskit_10.json mutant_772\n",
      "portfoliovqe_indep_qiskit_10.json mutant_776\n",
      "portfoliovqe_indep_qiskit_10.json mutant_780\n",
      "portfoliovqe_indep_qiskit_10.json mutant_781\n",
      "portfoliovqe_indep_qiskit_10.json mutant_785\n",
      "portfoliovqe_indep_qiskit_10.json mutant_790\n",
      "portfoliovqe_indep_qiskit_10.json mutant_792\n",
      "portfoliovqe_indep_qiskit_10.json mutant_794\n",
      "portfoliovqe_indep_qiskit_10.json mutant_806\n",
      "portfoliovqe_indep_qiskit_10.json mutant_811\n",
      "portfoliovqe_indep_qiskit_10.json mutant_812\n",
      "portfoliovqe_indep_qiskit_10.json mutant_822\n",
      "portfoliovqe_indep_qiskit_10.json mutant_840\n",
      "portfoliovqe_indep_qiskit_10.json mutant_842\n",
      "portfoliovqe_indep_qiskit_10.json mutant_843\n",
      "portfoliovqe_indep_qiskit_10.json mutant_844\n",
      "portfoliovqe_indep_qiskit_10.json mutant_847\n",
      "portfoliovqe_indep_qiskit_10.json mutant_851\n",
      "portfoliovqe_indep_qiskit_10.json mutant_857\n",
      "portfoliovqe_indep_qiskit_10.json mutant_860\n",
      "portfoliovqe_indep_qiskit_10.json mutant_864\n",
      "portfoliovqe_indep_qiskit_10.json mutant_870\n",
      "portfoliovqe_indep_qiskit_10.json mutant_872\n",
      "portfoliovqe_indep_qiskit_10.json mutant_874\n",
      "portfoliovqe_indep_qiskit_10.json mutant_876\n",
      "portfoliovqe_indep_qiskit_10.json mutant_877\n",
      "portfoliovqe_indep_qiskit_10.json mutant_887\n",
      "portfoliovqe_indep_qiskit_10.json mutant_896\n",
      "portfoliovqe_indep_qiskit_10.json mutant_897\n",
      "portfoliovqe_indep_qiskit_10.json mutant_921\n",
      "portfoliovqe_indep_qiskit_10.json mutant_930\n",
      "portfoliovqe_indep_qiskit_10.json mutant_932\n",
      "portfoliovqe_indep_qiskit_10.json mutant_936\n",
      "portfoliovqe_indep_qiskit_10.json mutant_937\n",
      "portfoliovqe_indep_qiskit_10.json mutant_947\n",
      "portfoliovqe_indep_qiskit_10.json mutant_955\n",
      "portfoliovqe_indep_qiskit_10.json mutant_957\n",
      "portfoliovqe_indep_qiskit_10.json mutant_971\n",
      "portfoliovqe_indep_qiskit_10.json mutant_988\n",
      "portfoliovqe_indep_qiskit_10.json mutant_993\n",
      "portfoliovqe_indep_qiskit_10.json mutant_996\n",
      "portfoliovqe_indep_qiskit_10.json mutant_1002\n",
      "portfoliovqe_indep_qiskit_10.json mutant_1008\n",
      "portfoliovqe_indep_qiskit_10.json mutant_1019\n",
      "portfoliovqe_indep_qiskit_10.json mutant_1020\n",
      "portfoliovqe_indep_qiskit_10.json mutant_1025\n",
      "portfoliovqe_indep_qiskit_10.json mutant_1030\n",
      "portfoliovqe_indep_qiskit_10.json mutant_1061\n",
      "portfoliovqe_indep_qiskit_10.json mutant_1066\n",
      "portfoliovqe_indep_qiskit_10.json mutant_1084\n",
      "portfoliovqe_indep_qiskit_10.json mutant_1087\n",
      "portfoliovqe_indep_qiskit_10.json mutant_1107\n",
      "portfoliovqe_indep_qiskit_10.json mutant_1111\n",
      "portfoliovqe_indep_qiskit_10.json mutant_1133\n",
      "portfoliovqe_indep_qiskit_10.json mutant_1142\n",
      "portfoliovqe_indep_qiskit_10.json mutant_1144\n",
      "portfoliovqe_indep_qiskit_10.json mutant_1148\n",
      "portfoliovqe_indep_qiskit_10.json mutant_1171\n",
      "portfoliovqe_indep_qiskit_10.json mutant_1174\n",
      "portfoliovqe_indep_qiskit_10.json mutant_1175\n",
      "portfoliovqe_indep_qiskit_10.json mutant_1182\n",
      "portfoliovqe_indep_qiskit_10.json mutant_1188\n",
      "portfoliovqe_indep_qiskit_10.json mutant_1190\n",
      "portfoliovqe_indep_qiskit_10.json mutant_1195\n",
      "portfoliovqe_indep_qiskit_10.json mutant_1232\n",
      "portfoliovqe_indep_qiskit_10.json mutant_1253\n",
      "portfoliovqe_indep_qiskit_10.json mutant_1255\n",
      "portfoliovqe_indep_qiskit_10.json mutant_1257\n",
      "portfoliovqe_indep_qiskit_10.json mutant_1280\n",
      "portfoliovqe_indep_qiskit_10.json mutant_1281\n",
      "portfoliovqe_indep_qiskit_10.json mutant_1317\n",
      "portfoliovqe_indep_qiskit_10.json mutant_1325\n",
      "portfoliovqe_indep_qiskit_10.json mutant_1329\n",
      "portfoliovqe_indep_qiskit_10.json mutant_1331\n",
      "portfoliovqe_indep_qiskit_10.json mutant_1335\n",
      "portfoliovqe_indep_qiskit_10.json mutant_1348\n",
      "portfoliovqe_indep_qiskit_10.json mutant_1349\n",
      "portfoliovqe_indep_qiskit_10.json mutant_1357\n",
      "portfoliovqe_indep_qiskit_10.json mutant_1364\n",
      "portfoliovqe_indep_qiskit_10.json mutant_1369\n",
      "portfoliovqe_indep_qiskit_10.json mutant_1370\n",
      "portfoliovqe_indep_qiskit_10.json mutant_1375\n",
      "portfoliovqe_indep_qiskit_10.json mutant_1395\n",
      "portfoliovqe_indep_qiskit_10.json mutant_1409\n",
      "portfoliovqe_indep_qiskit_10.json mutant_1416\n",
      "portfoliovqe_indep_qiskit_10.json mutant_1419\n",
      "portfoliovqe_indep_qiskit_10.json mutant_1422\n",
      "portfoliovqe_indep_qiskit_10.json mutant_1423\n",
      "portfoliovqe_indep_qiskit_10.json mutant_1427\n",
      "portfoliovqe_indep_qiskit_10.json mutant_1436\n",
      "portfoliovqe_indep_qiskit_10.json mutant_1438\n",
      "portfoliovqe_indep_qiskit_10.json mutant_1444\n",
      "portfoliovqe_indep_qiskit_10.json mutant_1448\n",
      "portfoliovqe_indep_qiskit_10.json mutant_1454\n",
      "portfoliovqe_indep_qiskit_10.json mutant_1462\n",
      "portfoliovqe_indep_qiskit_10.json mutant_1482\n",
      "portfoliovqe_indep_qiskit_10.json mutant_1487\n",
      "portfoliovqe_indep_qiskit_10.json mutant_1490\n",
      "portfoliovqe_indep_qiskit_10.json mutant_1500\n",
      "portfoliovqe_indep_qiskit_10.json mutant_1502\n",
      "portfoliovqe_indep_qiskit_10.json mutant_1503\n",
      "portfoliovqe_indep_qiskit_10.json mutant_1504\n",
      "portfoliovqe_indep_qiskit_10.json mutant_1507\n",
      "portfoliovqe_indep_qiskit_10.json mutant_1511\n",
      "portfoliovqe_indep_qiskit_10.json mutant_1512\n",
      "portfoliovqe_indep_qiskit_10.json mutant_1514\n",
      "portfoliovqe_indep_qiskit_10.json mutant_1516\n",
      "portfoliovqe_indep_qiskit_10.json mutant_1520\n",
      "portfoliovqe_indep_qiskit_10.json mutant_1524\n",
      "portfoliovqe_indep_qiskit_10.json mutant_1530\n",
      "portfoliovqe_indep_qiskit_10.json mutant_1534\n",
      "portfoliovqe_indep_qiskit_10.json mutant_1542\n",
      "portfoliovqe_indep_qiskit_10.json mutant_1544\n",
      "portfoliovqe_indep_qiskit_10.json mutant_1554\n",
      "portfoliovqe_indep_qiskit_10.json mutant_1557\n",
      "portfoliovqe_indep_qiskit_10.json mutant_1563\n",
      "portfoliovqe_indep_qiskit_10.json mutant_1571\n",
      "portfoliovqe_indep_qiskit_10.json mutant_1588\n",
      "portfoliovqe_indep_qiskit_10.json mutant_1610\n",
      "portfoliovqe_indep_qiskit_10.json mutant_1612\n",
      "portfoliovqe_indep_qiskit_10.json mutant_1616\n",
      "portfoliovqe_indep_qiskit_10.json mutant_1621\n",
      "portfoliovqe_indep_qiskit_10.json mutant_1630\n",
      "portfoliovqe_indep_qiskit_10.json mutant_1641\n",
      "portfoliovqe_indep_qiskit_10.json mutant_1647\n",
      "portfoliovqe_indep_qiskit_10.json mutant_1652\n",
      "portfoliovqe_indep_qiskit_10.json mutant_1656\n",
      "portfoliovqe_indep_qiskit_10.json mutant_1674\n",
      "portfoliovqe_indep_qiskit_10.json mutant_1684\n",
      "portfoliovqe_indep_qiskit_10.json mutant_1694\n",
      "portfoliovqe_indep_qiskit_10.json mutant_1706\n",
      "portfoliovqe_indep_qiskit_10.json mutant_1707\n",
      "portfoliovqe_indep_qiskit_10.json mutant_1713\n",
      "portfoliovqe_indep_qiskit_10.json mutant_1715\n",
      "portfoliovqe_indep_qiskit_10.json mutant_1726\n",
      "portfoliovqe_indep_qiskit_10.json mutant_1737\n",
      "portfoliovqe_indep_qiskit_10.json mutant_1792\n",
      "portfoliovqe_indep_qiskit_10.json mutant_1812\n",
      "portfoliovqe_indep_qiskit_10.json mutant_1814\n",
      "portfoliovqe_indep_qiskit_10.json mutant_1821\n",
      "portfoliovqe_indep_qiskit_10.json mutant_1830\n",
      "portfoliovqe_indep_qiskit_10.json mutant_1834\n",
      "portfoliovqe_indep_qiskit_10.json mutant_1840\n",
      "portfoliovqe_indep_qiskit_10.json mutant_1867\n",
      "portfoliovqe_indep_qiskit_10.json mutant_2211\n",
      "portfoliovqe_indep_qiskit_10.json mutant_2222\n",
      "portfoliovqe_indep_qiskit_10.json mutant_2277\n",
      "portfoliovqe_indep_qiskit_10.json mutant_2297\n",
      "portfoliovqe_indep_qiskit_10.json mutant_2299\n",
      "portfoliovqe_indep_qiskit_10.json mutant_2306\n",
      "portfoliovqe_indep_qiskit_10.json mutant_2315\n",
      "portfoliovqe_indep_qiskit_10.json mutant_2319\n",
      "portfoliovqe_indep_qiskit_10.json mutant_2325\n",
      "portfoliovqe_indep_qiskit_10.json mutant_2352\n",
      "portfoliovqe_indep_qiskit_10.json mutant_2736\n",
      "portfoliovqe_indep_qiskit_10.json mutant_2747\n",
      "portfoliovqe_indep_qiskit_10.json mutant_2802\n",
      "portfoliovqe_indep_qiskit_10.json mutant_2822\n",
      "portfoliovqe_indep_qiskit_10.json mutant_2824\n",
      "portfoliovqe_indep_qiskit_10.json mutant_2831\n",
      "portfoliovqe_indep_qiskit_10.json mutant_2840\n",
      "portfoliovqe_indep_qiskit_10.json mutant_2844\n",
      "portfoliovqe_indep_qiskit_10.json mutant_2850\n",
      "portfoliovqe_indep_qiskit_10.json mutant_2877\n",
      "portfoliovqe_indep_qiskit_10.json mutant_3103\n",
      "portfoliovqe_indep_qiskit_10.json mutant_3104\n",
      "portfoliovqe_indep_qiskit_10.json mutant_3108\n",
      "portfoliovqe_indep_qiskit_10.json mutant_3116\n",
      "portfoliovqe_indep_qiskit_10.json mutant_3126\n",
      "portfoliovqe_indep_qiskit_10.json mutant_3147\n",
      "portfoliovqe_indep_qiskit_10.json mutant_3150\n",
      "portfoliovqe_indep_qiskit_10.json mutant_3152\n",
      "portfoliovqe_indep_qiskit_10.json mutant_3176\n",
      "portfoliovqe_indep_qiskit_10.json mutant_3179\n",
      "portfoliovqe_indep_qiskit_10.json mutant_3182\n",
      "portfoliovqe_indep_qiskit_10.json mutant_3185\n",
      "portfoliovqe_indep_qiskit_10.json mutant_3186\n",
      "portfoliovqe_indep_qiskit_10.json mutant_3192\n",
      "portfoliovqe_indep_qiskit_10.json mutant_3196\n",
      "portfoliovqe_indep_qiskit_10.json mutant_3205\n",
      "portfoliovqe_indep_qiskit_10.json mutant_3211\n",
      "portfoliovqe_indep_qiskit_10.json mutant_3220\n",
      "portfoliovqe_indep_qiskit_3.json mutant_4\n",
      "portfoliovqe_indep_qiskit_3.json mutant_49\n",
      "portfoliovqe_indep_qiskit_3.json mutant_50\n",
      "portfoliovqe_indep_qiskit_3.json mutant_51\n",
      "portfoliovqe_indep_qiskit_3.json mutant_52\n",
      "portfoliovqe_indep_qiskit_3.json mutant_53\n",
      "portfoliovqe_indep_qiskit_3.json mutant_54\n",
      "portfoliovqe_indep_qiskit_3.json mutant_55\n",
      "portfoliovqe_indep_qiskit_3.json mutant_56\n",
      "portfoliovqe_indep_qiskit_3.json mutant_57\n",
      "portfoliovqe_indep_qiskit_3.json mutant_58\n",
      "portfoliovqe_indep_qiskit_3.json mutant_59\n",
      "portfoliovqe_indep_qiskit_3.json mutant_60\n",
      "portfoliovqe_indep_qiskit_3.json mutant_61\n",
      "portfoliovqe_indep_qiskit_3.json mutant_62\n",
      "portfoliovqe_indep_qiskit_3.json mutant_63\n",
      "portfoliovqe_indep_qiskit_3.json mutant_64\n",
      "portfoliovqe_indep_qiskit_3.json mutant_65\n",
      "portfoliovqe_indep_qiskit_3.json mutant_66\n",
      "portfoliovqe_indep_qiskit_3.json mutant_67\n",
      "portfoliovqe_indep_qiskit_3.json mutant_68\n",
      "portfoliovqe_indep_qiskit_3.json mutant_69\n",
      "portfoliovqe_indep_qiskit_3.json mutant_70\n",
      "portfoliovqe_indep_qiskit_3.json mutant_81\n",
      "portfoliovqe_indep_qiskit_3.json mutant_84\n",
      "portfoliovqe_indep_qiskit_3.json mutant_95\n",
      "portfoliovqe_indep_qiskit_3.json mutant_102\n",
      "portfoliovqe_indep_qiskit_3.json mutant_109\n",
      "portfoliovqe_indep_qiskit_3.json mutant_110\n",
      "portfoliovqe_indep_qiskit_3.json mutant_112\n",
      "portfoliovqe_indep_qiskit_3.json mutant_113\n",
      "portfoliovqe_indep_qiskit_3.json mutant_122\n",
      "portfoliovqe_indep_qiskit_3.json mutant_127\n",
      "portfoliovqe_indep_qiskit_3.json mutant_130\n",
      "portfoliovqe_indep_qiskit_3.json mutant_138\n",
      "portfoliovqe_indep_qiskit_3.json mutant_142\n",
      "portfoliovqe_indep_qiskit_3.json mutant_145\n",
      "portfoliovqe_indep_qiskit_3.json mutant_153\n",
      "portfoliovqe_indep_qiskit_3.json mutant_154\n",
      "portfoliovqe_indep_qiskit_3.json mutant_156\n",
      "portfoliovqe_indep_qiskit_3.json mutant_160\n",
      "portfoliovqe_indep_qiskit_3.json mutant_162\n",
      "portfoliovqe_indep_qiskit_3.json mutant_163\n",
      "portfoliovqe_indep_qiskit_3.json mutant_172\n",
      "portfoliovqe_indep_qiskit_3.json mutant_183\n",
      "portfoliovqe_indep_qiskit_3.json mutant_186\n",
      "portfoliovqe_indep_qiskit_3.json mutant_223\n",
      "portfoliovqe_indep_qiskit_3.json mutant_234\n",
      "portfoliovqe_indep_qiskit_3.json mutant_237\n",
      "portfoliovqe_indep_qiskit_3.json mutant_238\n",
      "portfoliovqe_indep_qiskit_3.json mutant_286\n",
      "portfoliovqe_indep_qiskit_3.json mutant_297\n",
      "portfoliovqe_indep_qiskit_3.json mutant_300\n",
      "portfoliovqe_indep_qiskit_3.json mutant_329\n",
      "portfoliovqe_indep_qiskit_3.json mutant_330\n",
      "portfoliovqe_indep_qiskit_3.json mutant_334\n",
      "portfoliovqe_indep_qiskit_3.json mutant_369\n",
      "portfoliovqe_indep_qiskit_3.json mutant_393\n",
      "portfoliovqe_indep_qiskit_4.json mutant_3\n",
      "portfoliovqe_indep_qiskit_4.json mutant_6\n",
      "portfoliovqe_indep_qiskit_4.json mutant_10\n",
      "portfoliovqe_indep_qiskit_4.json mutant_12\n",
      "portfoliovqe_indep_qiskit_4.json mutant_89\n",
      "portfoliovqe_indep_qiskit_4.json mutant_90\n",
      "portfoliovqe_indep_qiskit_4.json mutant_91\n",
      "portfoliovqe_indep_qiskit_4.json mutant_92\n",
      "portfoliovqe_indep_qiskit_4.json mutant_93\n",
      "portfoliovqe_indep_qiskit_4.json mutant_94\n",
      "portfoliovqe_indep_qiskit_4.json mutant_95\n",
      "portfoliovqe_indep_qiskit_4.json mutant_96\n",
      "portfoliovqe_indep_qiskit_4.json mutant_97\n",
      "portfoliovqe_indep_qiskit_4.json mutant_98\n",
      "portfoliovqe_indep_qiskit_4.json mutant_99\n",
      "portfoliovqe_indep_qiskit_4.json mutant_100\n",
      "portfoliovqe_indep_qiskit_4.json mutant_101\n",
      "portfoliovqe_indep_qiskit_4.json mutant_102\n",
      "portfoliovqe_indep_qiskit_4.json mutant_103\n",
      "portfoliovqe_indep_qiskit_4.json mutant_104\n",
      "portfoliovqe_indep_qiskit_4.json mutant_105\n",
      "portfoliovqe_indep_qiskit_4.json mutant_106\n",
      "portfoliovqe_indep_qiskit_4.json mutant_107\n",
      "portfoliovqe_indep_qiskit_4.json mutant_108\n",
      "portfoliovqe_indep_qiskit_4.json mutant_109\n",
      "portfoliovqe_indep_qiskit_4.json mutant_110\n",
      "portfoliovqe_indep_qiskit_4.json mutant_111\n",
      "portfoliovqe_indep_qiskit_4.json mutant_112\n",
      "portfoliovqe_indep_qiskit_4.json mutant_113\n",
      "portfoliovqe_indep_qiskit_4.json mutant_114\n",
      "portfoliovqe_indep_qiskit_4.json mutant_115\n",
      "portfoliovqe_indep_qiskit_4.json mutant_116\n",
      "portfoliovqe_indep_qiskit_4.json mutant_117\n",
      "portfoliovqe_indep_qiskit_4.json mutant_118\n",
      "portfoliovqe_indep_qiskit_4.json mutant_119\n",
      "portfoliovqe_indep_qiskit_4.json mutant_120\n",
      "portfoliovqe_indep_qiskit_4.json mutant_121\n",
      "portfoliovqe_indep_qiskit_4.json mutant_122\n",
      "portfoliovqe_indep_qiskit_4.json mutant_123\n",
      "portfoliovqe_indep_qiskit_4.json mutant_134\n",
      "portfoliovqe_indep_qiskit_4.json mutant_144\n",
      "portfoliovqe_indep_qiskit_4.json mutant_147\n",
      "portfoliovqe_indep_qiskit_4.json mutant_148\n",
      "portfoliovqe_indep_qiskit_4.json mutant_150\n",
      "portfoliovqe_indep_qiskit_4.json mutant_153\n",
      "portfoliovqe_indep_qiskit_4.json mutant_159\n",
      "portfoliovqe_indep_qiskit_4.json mutant_170\n",
      "portfoliovqe_indep_qiskit_4.json mutant_171\n",
      "portfoliovqe_indep_qiskit_4.json mutant_172\n",
      "portfoliovqe_indep_qiskit_4.json mutant_187\n",
      "portfoliovqe_indep_qiskit_4.json mutant_188\n",
      "portfoliovqe_indep_qiskit_4.json mutant_193\n",
      "portfoliovqe_indep_qiskit_4.json mutant_203\n",
      "portfoliovqe_indep_qiskit_4.json mutant_210\n",
      "portfoliovqe_indep_qiskit_4.json mutant_211\n",
      "portfoliovqe_indep_qiskit_4.json mutant_223\n",
      "portfoliovqe_indep_qiskit_4.json mutant_225\n",
      "portfoliovqe_indep_qiskit_4.json mutant_227\n",
      "portfoliovqe_indep_qiskit_4.json mutant_230\n",
      "portfoliovqe_indep_qiskit_4.json mutant_243\n",
      "portfoliovqe_indep_qiskit_4.json mutant_249\n",
      "portfoliovqe_indep_qiskit_4.json mutant_250\n",
      "portfoliovqe_indep_qiskit_4.json mutant_254\n",
      "portfoliovqe_indep_qiskit_4.json mutant_261\n",
      "portfoliovqe_indep_qiskit_4.json mutant_268\n",
      "portfoliovqe_indep_qiskit_4.json mutant_269\n",
      "portfoliovqe_indep_qiskit_4.json mutant_270\n",
      "portfoliovqe_indep_qiskit_4.json mutant_273\n",
      "portfoliovqe_indep_qiskit_4.json mutant_287\n",
      "portfoliovqe_indep_qiskit_4.json mutant_294\n",
      "portfoliovqe_indep_qiskit_4.json mutant_295\n",
      "portfoliovqe_indep_qiskit_4.json mutant_306\n",
      "portfoliovqe_indep_qiskit_4.json mutant_319\n",
      "portfoliovqe_indep_qiskit_4.json mutant_320\n",
      "portfoliovqe_indep_qiskit_4.json mutant_322\n",
      "portfoliovqe_indep_qiskit_4.json mutant_325\n",
      "portfoliovqe_indep_qiskit_4.json mutant_381\n",
      "portfoliovqe_indep_qiskit_4.json mutant_392\n",
      "portfoliovqe_indep_qiskit_4.json mutant_405\n",
      "portfoliovqe_indep_qiskit_4.json mutant_406\n",
      "portfoliovqe_indep_qiskit_4.json mutant_407\n",
      "portfoliovqe_indep_qiskit_4.json mutant_408\n",
      "portfoliovqe_indep_qiskit_4.json mutant_411\n",
      "portfoliovqe_indep_qiskit_4.json mutant_483\n",
      "portfoliovqe_indep_qiskit_4.json mutant_494\n",
      "portfoliovqe_indep_qiskit_4.json mutant_507\n",
      "portfoliovqe_indep_qiskit_4.json mutant_508\n",
      "portfoliovqe_indep_qiskit_4.json mutant_510\n",
      "portfoliovqe_indep_qiskit_4.json mutant_513\n",
      "portfoliovqe_indep_qiskit_4.json mutant_560\n",
      "portfoliovqe_indep_qiskit_4.json mutant_566\n",
      "portfoliovqe_indep_qiskit_4.json mutant_567\n",
      "portfoliovqe_indep_qiskit_4.json mutant_780\n",
      "portfoliovqe_indep_qiskit_4.json mutant_796\n",
      "portfoliovqe_indep_qiskit_5.json mutant_20\n",
      "portfoliovqe_indep_qiskit_5.json mutant_22\n",
      "portfoliovqe_indep_qiskit_5.json mutant_141\n",
      "portfoliovqe_indep_qiskit_5.json mutant_142\n",
      "portfoliovqe_indep_qiskit_5.json mutant_143\n",
      "portfoliovqe_indep_qiskit_5.json mutant_144\n",
      "portfoliovqe_indep_qiskit_5.json mutant_145\n",
      "portfoliovqe_indep_qiskit_5.json mutant_146\n",
      "portfoliovqe_indep_qiskit_5.json mutant_147\n",
      "portfoliovqe_indep_qiskit_5.json mutant_148\n",
      "portfoliovqe_indep_qiskit_5.json mutant_149\n",
      "portfoliovqe_indep_qiskit_5.json mutant_150\n",
      "portfoliovqe_indep_qiskit_5.json mutant_151\n",
      "portfoliovqe_indep_qiskit_5.json mutant_152\n",
      "portfoliovqe_indep_qiskit_5.json mutant_153\n",
      "portfoliovqe_indep_qiskit_5.json mutant_154\n",
      "portfoliovqe_indep_qiskit_5.json mutant_155\n",
      "portfoliovqe_indep_qiskit_5.json mutant_156\n",
      "portfoliovqe_indep_qiskit_5.json mutant_157\n",
      "portfoliovqe_indep_qiskit_5.json mutant_158\n",
      "portfoliovqe_indep_qiskit_5.json mutant_159\n",
      "portfoliovqe_indep_qiskit_5.json mutant_160\n",
      "portfoliovqe_indep_qiskit_5.json mutant_161\n",
      "portfoliovqe_indep_qiskit_5.json mutant_162\n",
      "portfoliovqe_indep_qiskit_5.json mutant_163\n",
      "portfoliovqe_indep_qiskit_5.json mutant_164\n",
      "portfoliovqe_indep_qiskit_5.json mutant_165\n",
      "portfoliovqe_indep_qiskit_5.json mutant_166\n",
      "portfoliovqe_indep_qiskit_5.json mutant_167\n",
      "portfoliovqe_indep_qiskit_5.json mutant_168\n",
      "portfoliovqe_indep_qiskit_5.json mutant_169\n",
      "portfoliovqe_indep_qiskit_5.json mutant_170\n",
      "portfoliovqe_indep_qiskit_5.json mutant_171\n",
      "portfoliovqe_indep_qiskit_5.json mutant_172\n",
      "portfoliovqe_indep_qiskit_5.json mutant_173\n",
      "portfoliovqe_indep_qiskit_5.json mutant_174\n",
      "portfoliovqe_indep_qiskit_5.json mutant_175\n",
      "portfoliovqe_indep_qiskit_5.json mutant_176\n",
      "portfoliovqe_indep_qiskit_5.json mutant_177\n",
      "portfoliovqe_indep_qiskit_5.json mutant_178\n",
      "portfoliovqe_indep_qiskit_5.json mutant_179\n",
      "portfoliovqe_indep_qiskit_5.json mutant_180\n",
      "portfoliovqe_indep_qiskit_5.json mutant_181\n",
      "portfoliovqe_indep_qiskit_5.json mutant_182\n",
      "portfoliovqe_indep_qiskit_5.json mutant_183\n",
      "portfoliovqe_indep_qiskit_5.json mutant_184\n",
      "portfoliovqe_indep_qiskit_5.json mutant_185\n",
      "portfoliovqe_indep_qiskit_5.json mutant_186\n",
      "portfoliovqe_indep_qiskit_5.json mutant_187\n",
      "portfoliovqe_indep_qiskit_5.json mutant_188\n",
      "portfoliovqe_indep_qiskit_5.json mutant_189\n",
      "portfoliovqe_indep_qiskit_5.json mutant_190\n",
      "portfoliovqe_indep_qiskit_5.json mutant_191\n",
      "portfoliovqe_indep_qiskit_5.json mutant_192\n",
      "portfoliovqe_indep_qiskit_5.json mutant_202\n",
      "portfoliovqe_indep_qiskit_5.json mutant_219\n",
      "portfoliovqe_indep_qiskit_5.json mutant_224\n",
      "portfoliovqe_indep_qiskit_5.json mutant_226\n",
      "portfoliovqe_indep_qiskit_5.json mutant_230\n",
      "portfoliovqe_indep_qiskit_5.json mutant_236\n",
      "portfoliovqe_indep_qiskit_5.json mutant_237\n",
      "portfoliovqe_indep_qiskit_5.json mutant_251\n",
      "portfoliovqe_indep_qiskit_5.json mutant_260\n",
      "portfoliovqe_indep_qiskit_5.json mutant_270\n",
      "portfoliovqe_indep_qiskit_5.json mutant_274\n",
      "portfoliovqe_indep_qiskit_5.json mutant_284\n",
      "portfoliovqe_indep_qiskit_5.json mutant_298\n",
      "portfoliovqe_indep_qiskit_5.json mutant_320\n",
      "portfoliovqe_indep_qiskit_5.json mutant_323\n",
      "portfoliovqe_indep_qiskit_5.json mutant_325\n",
      "portfoliovqe_indep_qiskit_5.json mutant_344\n",
      "portfoliovqe_indep_qiskit_5.json mutant_352\n",
      "portfoliovqe_indep_qiskit_5.json mutant_353\n",
      "portfoliovqe_indep_qiskit_5.json mutant_358\n",
      "portfoliovqe_indep_qiskit_5.json mutant_366\n",
      "portfoliovqe_indep_qiskit_5.json mutant_371\n",
      "portfoliovqe_indep_qiskit_5.json mutant_372\n",
      "portfoliovqe_indep_qiskit_5.json mutant_373\n",
      "portfoliovqe_indep_qiskit_5.json mutant_376\n",
      "portfoliovqe_indep_qiskit_5.json mutant_380\n",
      "portfoliovqe_indep_qiskit_5.json mutant_382\n",
      "portfoliovqe_indep_qiskit_5.json mutant_389\n",
      "portfoliovqe_indep_qiskit_5.json mutant_393\n",
      "portfoliovqe_indep_qiskit_5.json mutant_398\n",
      "portfoliovqe_indep_qiskit_5.json mutant_404\n",
      "portfoliovqe_indep_qiskit_5.json mutant_408\n",
      "portfoliovqe_indep_qiskit_5.json mutant_413\n",
      "portfoliovqe_indep_qiskit_5.json mutant_415\n",
      "portfoliovqe_indep_qiskit_5.json mutant_417\n",
      "portfoliovqe_indep_qiskit_5.json mutant_426\n",
      "portfoliovqe_indep_qiskit_5.json mutant_438\n",
      "portfoliovqe_indep_qiskit_5.json mutant_441\n",
      "portfoliovqe_indep_qiskit_5.json mutant_445\n",
      "portfoliovqe_indep_qiskit_5.json mutant_451\n",
      "portfoliovqe_indep_qiskit_5.json mutant_452\n",
      "portfoliovqe_indep_qiskit_5.json mutant_462\n",
      "portfoliovqe_indep_qiskit_5.json mutant_484\n",
      "portfoliovqe_indep_qiskit_5.json mutant_497\n",
      "portfoliovqe_indep_qiskit_5.json mutant_581\n",
      "portfoliovqe_indep_qiskit_5.json mutant_582\n",
      "portfoliovqe_indep_qiskit_5.json mutant_585\n",
      "portfoliovqe_indep_qiskit_5.json mutant_592\n",
      "portfoliovqe_indep_qiskit_5.json mutant_614\n",
      "portfoliovqe_indep_qiskit_5.json mutant_626\n",
      "portfoliovqe_indep_qiskit_5.json mutant_627\n",
      "portfoliovqe_indep_qiskit_5.json mutant_629\n",
      "portfoliovqe_indep_qiskit_5.json mutant_731\n",
      "portfoliovqe_indep_qiskit_5.json mutant_732\n",
      "portfoliovqe_indep_qiskit_5.json mutant_742\n",
      "portfoliovqe_indep_qiskit_5.json mutant_764\n",
      "portfoliovqe_indep_qiskit_5.json mutant_777\n",
      "portfoliovqe_indep_qiskit_5.json mutant_837\n",
      "portfoliovqe_indep_qiskit_5.json mutant_838\n",
      "portfoliovqe_indep_qiskit_5.json mutant_839\n",
      "portfoliovqe_indep_qiskit_5.json mutant_842\n",
      "portfoliovqe_indep_qiskit_5.json mutant_848\n",
      "portfoliovqe_indep_qiskit_5.json mutant_852\n",
      "portfoliovqe_indep_qiskit_5.json mutant_854\n",
      "portfoliovqe_indep_qiskit_5.json mutant_855\n",
      "portfoliovqe_indep_qiskit_5.json mutant_856\n",
      "portfoliovqe_indep_qiskit_6.json mutant_29\n",
      "portfoliovqe_indep_qiskit_6.json mutant_33\n",
      "portfoliovqe_indep_qiskit_6.json mutant_37\n",
      "portfoliovqe_indep_qiskit_6.json mutant_205\n",
      "portfoliovqe_indep_qiskit_6.json mutant_206\n",
      "portfoliovqe_indep_qiskit_6.json mutant_207\n",
      "portfoliovqe_indep_qiskit_6.json mutant_208\n",
      "portfoliovqe_indep_qiskit_6.json mutant_209\n",
      "portfoliovqe_indep_qiskit_6.json mutant_210\n",
      "portfoliovqe_indep_qiskit_6.json mutant_211\n",
      "portfoliovqe_indep_qiskit_6.json mutant_212\n",
      "portfoliovqe_indep_qiskit_6.json mutant_213\n",
      "portfoliovqe_indep_qiskit_6.json mutant_214\n",
      "portfoliovqe_indep_qiskit_6.json mutant_215\n",
      "portfoliovqe_indep_qiskit_6.json mutant_216\n",
      "portfoliovqe_indep_qiskit_6.json mutant_217\n",
      "portfoliovqe_indep_qiskit_6.json mutant_218\n",
      "portfoliovqe_indep_qiskit_6.json mutant_219\n",
      "portfoliovqe_indep_qiskit_6.json mutant_220\n",
      "portfoliovqe_indep_qiskit_6.json mutant_221\n",
      "portfoliovqe_indep_qiskit_6.json mutant_222\n",
      "portfoliovqe_indep_qiskit_6.json mutant_223\n",
      "portfoliovqe_indep_qiskit_6.json mutant_224\n",
      "portfoliovqe_indep_qiskit_6.json mutant_225\n",
      "portfoliovqe_indep_qiskit_6.json mutant_226\n",
      "portfoliovqe_indep_qiskit_6.json mutant_227\n",
      "portfoliovqe_indep_qiskit_6.json mutant_228\n",
      "portfoliovqe_indep_qiskit_6.json mutant_229\n",
      "portfoliovqe_indep_qiskit_6.json mutant_230\n",
      "portfoliovqe_indep_qiskit_6.json mutant_231\n",
      "portfoliovqe_indep_qiskit_6.json mutant_232\n",
      "portfoliovqe_indep_qiskit_6.json mutant_233\n",
      "portfoliovqe_indep_qiskit_6.json mutant_234\n",
      "portfoliovqe_indep_qiskit_6.json mutant_235\n",
      "portfoliovqe_indep_qiskit_6.json mutant_236\n",
      "portfoliovqe_indep_qiskit_6.json mutant_237\n",
      "portfoliovqe_indep_qiskit_6.json mutant_238\n",
      "portfoliovqe_indep_qiskit_6.json mutant_239\n",
      "portfoliovqe_indep_qiskit_6.json mutant_240\n",
      "portfoliovqe_indep_qiskit_6.json mutant_241\n",
      "portfoliovqe_indep_qiskit_6.json mutant_242\n",
      "portfoliovqe_indep_qiskit_6.json mutant_243\n",
      "portfoliovqe_indep_qiskit_6.json mutant_244\n",
      "portfoliovqe_indep_qiskit_6.json mutant_245\n",
      "portfoliovqe_indep_qiskit_6.json mutant_246\n",
      "portfoliovqe_indep_qiskit_6.json mutant_247\n",
      "portfoliovqe_indep_qiskit_6.json mutant_248\n",
      "portfoliovqe_indep_qiskit_6.json mutant_249\n",
      "portfoliovqe_indep_qiskit_6.json mutant_250\n",
      "portfoliovqe_indep_qiskit_6.json mutant_251\n",
      "portfoliovqe_indep_qiskit_6.json mutant_252\n",
      "portfoliovqe_indep_qiskit_6.json mutant_253\n",
      "portfoliovqe_indep_qiskit_6.json mutant_254\n",
      "portfoliovqe_indep_qiskit_6.json mutant_255\n",
      "portfoliovqe_indep_qiskit_6.json mutant_256\n",
      "portfoliovqe_indep_qiskit_6.json mutant_257\n",
      "portfoliovqe_indep_qiskit_6.json mutant_258\n",
      "portfoliovqe_indep_qiskit_6.json mutant_259\n",
      "portfoliovqe_indep_qiskit_6.json mutant_260\n",
      "portfoliovqe_indep_qiskit_6.json mutant_261\n",
      "portfoliovqe_indep_qiskit_6.json mutant_262\n",
      "portfoliovqe_indep_qiskit_6.json mutant_263\n",
      "portfoliovqe_indep_qiskit_6.json mutant_264\n",
      "portfoliovqe_indep_qiskit_6.json mutant_265\n",
      "portfoliovqe_indep_qiskit_6.json mutant_266\n",
      "portfoliovqe_indep_qiskit_6.json mutant_267\n",
      "portfoliovqe_indep_qiskit_6.json mutant_268\n",
      "portfoliovqe_indep_qiskit_6.json mutant_269\n",
      "portfoliovqe_indep_qiskit_6.json mutant_270\n",
      "portfoliovqe_indep_qiskit_6.json mutant_271\n",
      "portfoliovqe_indep_qiskit_6.json mutant_272\n",
      "portfoliovqe_indep_qiskit_6.json mutant_273\n",
      "portfoliovqe_indep_qiskit_6.json mutant_274\n",
      "portfoliovqe_indep_qiskit_6.json mutant_275\n",
      "portfoliovqe_indep_qiskit_6.json mutant_278\n",
      "portfoliovqe_indep_qiskit_6.json mutant_280\n",
      "portfoliovqe_indep_qiskit_6.json mutant_284\n",
      "portfoliovqe_indep_qiskit_6.json mutant_285\n",
      "portfoliovqe_indep_qiskit_6.json mutant_288\n",
      "portfoliovqe_indep_qiskit_6.json mutant_298\n",
      "portfoliovqe_indep_qiskit_6.json mutant_301\n",
      "portfoliovqe_indep_qiskit_6.json mutant_307\n",
      "portfoliovqe_indep_qiskit_6.json mutant_309\n",
      "portfoliovqe_indep_qiskit_6.json mutant_310\n",
      "portfoliovqe_indep_qiskit_6.json mutant_314\n",
      "portfoliovqe_indep_qiskit_6.json mutant_315\n",
      "portfoliovqe_indep_qiskit_6.json mutant_316\n",
      "portfoliovqe_indep_qiskit_6.json mutant_320\n",
      "portfoliovqe_indep_qiskit_6.json mutant_322\n",
      "portfoliovqe_indep_qiskit_6.json mutant_323\n",
      "portfoliovqe_indep_qiskit_6.json mutant_328\n",
      "portfoliovqe_indep_qiskit_6.json mutant_330\n",
      "portfoliovqe_indep_qiskit_6.json mutant_336\n",
      "portfoliovqe_indep_qiskit_6.json mutant_339\n",
      "portfoliovqe_indep_qiskit_6.json mutant_343\n",
      "portfoliovqe_indep_qiskit_6.json mutant_346\n",
      "portfoliovqe_indep_qiskit_6.json mutant_354\n",
      "portfoliovqe_indep_qiskit_6.json mutant_378\n",
      "portfoliovqe_indep_qiskit_6.json mutant_379\n",
      "portfoliovqe_indep_qiskit_6.json mutant_383\n",
      "portfoliovqe_indep_qiskit_6.json mutant_391\n",
      "portfoliovqe_indep_qiskit_6.json mutant_397\n",
      "portfoliovqe_indep_qiskit_6.json mutant_400\n",
      "portfoliovqe_indep_qiskit_6.json mutant_411\n",
      "portfoliovqe_indep_qiskit_6.json mutant_412\n",
      "portfoliovqe_indep_qiskit_6.json mutant_415\n",
      "portfoliovqe_indep_qiskit_6.json mutant_429\n",
      "portfoliovqe_indep_qiskit_6.json mutant_440\n",
      "portfoliovqe_indep_qiskit_6.json mutant_452\n",
      "portfoliovqe_indep_qiskit_6.json mutant_454\n",
      "portfoliovqe_indep_qiskit_6.json mutant_465\n",
      "portfoliovqe_indep_qiskit_6.json mutant_468\n",
      "portfoliovqe_indep_qiskit_6.json mutant_473\n",
      "portfoliovqe_indep_qiskit_6.json mutant_476\n",
      "portfoliovqe_indep_qiskit_6.json mutant_482\n",
      "portfoliovqe_indep_qiskit_6.json mutant_486\n",
      "portfoliovqe_indep_qiskit_6.json mutant_498\n",
      "portfoliovqe_indep_qiskit_6.json mutant_503\n",
      "portfoliovqe_indep_qiskit_6.json mutant_524\n",
      "portfoliovqe_indep_qiskit_6.json mutant_526\n",
      "portfoliovqe_indep_qiskit_6.json mutant_527\n",
      "portfoliovqe_indep_qiskit_6.json mutant_532\n",
      "portfoliovqe_indep_qiskit_6.json mutant_536\n",
      "portfoliovqe_indep_qiskit_6.json mutant_537\n",
      "portfoliovqe_indep_qiskit_6.json mutant_538\n",
      "portfoliovqe_indep_qiskit_6.json mutant_542\n",
      "portfoliovqe_indep_qiskit_6.json mutant_545\n",
      "portfoliovqe_indep_qiskit_6.json mutant_546\n",
      "portfoliovqe_indep_qiskit_6.json mutant_548\n",
      "portfoliovqe_indep_qiskit_6.json mutant_559\n",
      "portfoliovqe_indep_qiskit_6.json mutant_575\n",
      "portfoliovqe_indep_qiskit_6.json mutant_576\n",
      "portfoliovqe_indep_qiskit_6.json mutant_577\n",
      "portfoliovqe_indep_qiskit_6.json mutant_580\n",
      "portfoliovqe_indep_qiskit_6.json mutant_591\n",
      "portfoliovqe_indep_qiskit_6.json mutant_595\n",
      "portfoliovqe_indep_qiskit_6.json mutant_599\n",
      "portfoliovqe_indep_qiskit_6.json mutant_605\n",
      "portfoliovqe_indep_qiskit_6.json mutant_616\n",
      "portfoliovqe_indep_qiskit_6.json mutant_631\n",
      "portfoliovqe_indep_qiskit_6.json mutant_636\n",
      "portfoliovqe_indep_qiskit_6.json mutant_640\n",
      "portfoliovqe_indep_qiskit_6.json mutant_641\n",
      "portfoliovqe_indep_qiskit_6.json mutant_646\n",
      "portfoliovqe_indep_qiskit_6.json mutant_651\n",
      "portfoliovqe_indep_qiskit_6.json mutant_673\n",
      "portfoliovqe_indep_qiskit_6.json mutant_688\n",
      "portfoliovqe_indep_qiskit_6.json mutant_693\n",
      "portfoliovqe_indep_qiskit_6.json mutant_694\n",
      "portfoliovqe_indep_qiskit_6.json mutant_705\n",
      "portfoliovqe_indep_qiskit_6.json mutant_823\n",
      "portfoliovqe_indep_qiskit_6.json mutant_824\n",
      "portfoliovqe_indep_qiskit_6.json mutant_829\n",
      "portfoliovqe_indep_qiskit_6.json mutant_834\n",
      "portfoliovqe_indep_qiskit_6.json mutant_856\n",
      "portfoliovqe_indep_qiskit_6.json mutant_858\n",
      "portfoliovqe_indep_qiskit_6.json mutant_861\n",
      "portfoliovqe_indep_qiskit_6.json mutant_865\n",
      "portfoliovqe_indep_qiskit_6.json mutant_871\n",
      "portfoliovqe_indep_qiskit_6.json mutant_876\n",
      "portfoliovqe_indep_qiskit_6.json mutant_877\n",
      "portfoliovqe_indep_qiskit_6.json mutant_888\n",
      "portfoliovqe_indep_qiskit_6.json mutant_1030\n",
      "portfoliovqe_indep_qiskit_6.json mutant_1031\n",
      "portfoliovqe_indep_qiskit_6.json mutant_1036\n",
      "portfoliovqe_indep_qiskit_6.json mutant_1041\n",
      "portfoliovqe_indep_qiskit_6.json mutant_1063\n",
      "portfoliovqe_indep_qiskit_6.json mutant_1095\n",
      "portfoliovqe_indep_qiskit_6.json mutant_1161\n",
      "portfoliovqe_indep_qiskit_6.json mutant_1179\n",
      "portfoliovqe_indep_qiskit_6.json mutant_1182\n",
      "portfoliovqe_indep_qiskit_6.json mutant_1185\n",
      "portfoliovqe_indep_qiskit_6.json mutant_1213\n",
      "portfoliovqe_indep_qiskit_6.json mutant_1323\n",
      "portfoliovqe_indep_qiskit_6.json mutant_1416\n",
      "portfoliovqe_indep_qiskit_6.json mutant_1485\n"
     ]
    },
    {
     "name": "stdout",
     "output_type": "stream",
     "text": [
      "portfoliovqe_indep_qiskit_7.json mutant_16\n",
      "portfoliovqe_indep_qiskit_7.json mutant_17\n",
      "portfoliovqe_indep_qiskit_7.json mutant_27\n",
      "portfoliovqe_indep_qiskit_7.json mutant_30\n",
      "portfoliovqe_indep_qiskit_7.json mutant_42\n",
      "portfoliovqe_indep_qiskit_7.json mutant_281\n",
      "portfoliovqe_indep_qiskit_7.json mutant_282\n",
      "portfoliovqe_indep_qiskit_7.json mutant_283\n",
      "portfoliovqe_indep_qiskit_7.json mutant_284\n",
      "portfoliovqe_indep_qiskit_7.json mutant_285\n",
      "portfoliovqe_indep_qiskit_7.json mutant_286\n",
      "portfoliovqe_indep_qiskit_7.json mutant_287\n",
      "portfoliovqe_indep_qiskit_7.json mutant_288\n",
      "portfoliovqe_indep_qiskit_7.json mutant_289\n",
      "portfoliovqe_indep_qiskit_7.json mutant_290\n",
      "portfoliovqe_indep_qiskit_7.json mutant_291\n",
      "portfoliovqe_indep_qiskit_7.json mutant_292\n",
      "portfoliovqe_indep_qiskit_7.json mutant_293\n",
      "portfoliovqe_indep_qiskit_7.json mutant_294\n",
      "portfoliovqe_indep_qiskit_7.json mutant_295\n",
      "portfoliovqe_indep_qiskit_7.json mutant_296\n",
      "portfoliovqe_indep_qiskit_7.json mutant_297\n",
      "portfoliovqe_indep_qiskit_7.json mutant_298\n",
      "portfoliovqe_indep_qiskit_7.json mutant_299\n",
      "portfoliovqe_indep_qiskit_7.json mutant_300\n",
      "portfoliovqe_indep_qiskit_7.json mutant_301\n",
      "portfoliovqe_indep_qiskit_7.json mutant_302\n",
      "portfoliovqe_indep_qiskit_7.json mutant_303\n",
      "portfoliovqe_indep_qiskit_7.json mutant_304\n",
      "portfoliovqe_indep_qiskit_7.json mutant_305\n",
      "portfoliovqe_indep_qiskit_7.json mutant_306\n",
      "portfoliovqe_indep_qiskit_7.json mutant_307\n",
      "portfoliovqe_indep_qiskit_7.json mutant_308\n",
      "portfoliovqe_indep_qiskit_7.json mutant_309\n",
      "portfoliovqe_indep_qiskit_7.json mutant_310\n",
      "portfoliovqe_indep_qiskit_7.json mutant_311\n",
      "portfoliovqe_indep_qiskit_7.json mutant_312\n",
      "portfoliovqe_indep_qiskit_7.json mutant_313\n",
      "portfoliovqe_indep_qiskit_7.json mutant_314\n",
      "portfoliovqe_indep_qiskit_7.json mutant_315\n",
      "portfoliovqe_indep_qiskit_7.json mutant_316\n",
      "portfoliovqe_indep_qiskit_7.json mutant_317\n",
      "portfoliovqe_indep_qiskit_7.json mutant_318\n",
      "portfoliovqe_indep_qiskit_7.json mutant_319\n",
      "portfoliovqe_indep_qiskit_7.json mutant_320\n",
      "portfoliovqe_indep_qiskit_7.json mutant_321\n",
      "portfoliovqe_indep_qiskit_7.json mutant_322\n",
      "portfoliovqe_indep_qiskit_7.json mutant_323\n",
      "portfoliovqe_indep_qiskit_7.json mutant_324\n",
      "portfoliovqe_indep_qiskit_7.json mutant_325\n",
      "portfoliovqe_indep_qiskit_7.json mutant_326\n",
      "portfoliovqe_indep_qiskit_7.json mutant_327\n",
      "portfoliovqe_indep_qiskit_7.json mutant_328\n",
      "portfoliovqe_indep_qiskit_7.json mutant_329\n",
      "portfoliovqe_indep_qiskit_7.json mutant_330\n",
      "portfoliovqe_indep_qiskit_7.json mutant_331\n",
      "portfoliovqe_indep_qiskit_7.json mutant_332\n",
      "portfoliovqe_indep_qiskit_7.json mutant_333\n",
      "portfoliovqe_indep_qiskit_7.json mutant_334\n",
      "portfoliovqe_indep_qiskit_7.json mutant_335\n",
      "portfoliovqe_indep_qiskit_7.json mutant_336\n",
      "portfoliovqe_indep_qiskit_7.json mutant_337\n",
      "portfoliovqe_indep_qiskit_7.json mutant_338\n",
      "portfoliovqe_indep_qiskit_7.json mutant_339\n",
      "portfoliovqe_indep_qiskit_7.json mutant_340\n",
      "portfoliovqe_indep_qiskit_7.json mutant_341\n",
      "portfoliovqe_indep_qiskit_7.json mutant_342\n",
      "portfoliovqe_indep_qiskit_7.json mutant_343\n",
      "portfoliovqe_indep_qiskit_7.json mutant_344\n",
      "portfoliovqe_indep_qiskit_7.json mutant_345\n",
      "portfoliovqe_indep_qiskit_7.json mutant_346\n",
      "portfoliovqe_indep_qiskit_7.json mutant_347\n",
      "portfoliovqe_indep_qiskit_7.json mutant_348\n",
      "portfoliovqe_indep_qiskit_7.json mutant_349\n",
      "portfoliovqe_indep_qiskit_7.json mutant_350\n",
      "portfoliovqe_indep_qiskit_7.json mutant_351\n",
      "portfoliovqe_indep_qiskit_7.json mutant_352\n",
      "portfoliovqe_indep_qiskit_7.json mutant_353\n",
      "portfoliovqe_indep_qiskit_7.json mutant_354\n",
      "portfoliovqe_indep_qiskit_7.json mutant_355\n",
      "portfoliovqe_indep_qiskit_7.json mutant_356\n",
      "portfoliovqe_indep_qiskit_7.json mutant_357\n",
      "portfoliovqe_indep_qiskit_7.json mutant_358\n",
      "portfoliovqe_indep_qiskit_7.json mutant_359\n",
      "portfoliovqe_indep_qiskit_7.json mutant_360\n",
      "portfoliovqe_indep_qiskit_7.json mutant_361\n",
      "portfoliovqe_indep_qiskit_7.json mutant_362\n",
      "portfoliovqe_indep_qiskit_7.json mutant_363\n",
      "portfoliovqe_indep_qiskit_7.json mutant_364\n",
      "portfoliovqe_indep_qiskit_7.json mutant_365\n",
      "portfoliovqe_indep_qiskit_7.json mutant_366\n",
      "portfoliovqe_indep_qiskit_7.json mutant_367\n",
      "portfoliovqe_indep_qiskit_7.json mutant_368\n",
      "portfoliovqe_indep_qiskit_7.json mutant_369\n",
      "portfoliovqe_indep_qiskit_7.json mutant_370\n",
      "portfoliovqe_indep_qiskit_7.json mutant_371\n",
      "portfoliovqe_indep_qiskit_7.json mutant_372\n",
      "portfoliovqe_indep_qiskit_7.json mutant_373\n",
      "portfoliovqe_indep_qiskit_7.json mutant_378\n",
      "portfoliovqe_indep_qiskit_7.json mutant_381\n",
      "portfoliovqe_indep_qiskit_7.json mutant_383\n",
      "portfoliovqe_indep_qiskit_7.json mutant_385\n",
      "portfoliovqe_indep_qiskit_7.json mutant_396\n",
      "portfoliovqe_indep_qiskit_7.json mutant_405\n",
      "portfoliovqe_indep_qiskit_7.json mutant_422\n",
      "portfoliovqe_indep_qiskit_7.json mutant_430\n",
      "portfoliovqe_indep_qiskit_7.json mutant_438\n",
      "portfoliovqe_indep_qiskit_7.json mutant_446\n",
      "portfoliovqe_indep_qiskit_7.json mutant_447\n",
      "portfoliovqe_indep_qiskit_7.json mutant_448\n",
      "portfoliovqe_indep_qiskit_7.json mutant_455\n",
      "portfoliovqe_indep_qiskit_7.json mutant_469\n",
      "portfoliovqe_indep_qiskit_7.json mutant_470\n",
      "portfoliovqe_indep_qiskit_7.json mutant_491\n",
      "portfoliovqe_indep_qiskit_7.json mutant_499\n",
      "portfoliovqe_indep_qiskit_7.json mutant_504\n",
      "portfoliovqe_indep_qiskit_7.json mutant_508\n",
      "portfoliovqe_indep_qiskit_7.json mutant_513\n",
      "portfoliovqe_indep_qiskit_7.json mutant_527\n",
      "portfoliovqe_indep_qiskit_7.json mutant_538\n",
      "portfoliovqe_indep_qiskit_7.json mutant_541\n",
      "portfoliovqe_indep_qiskit_7.json mutant_542\n",
      "portfoliovqe_indep_qiskit_7.json mutant_544\n",
      "portfoliovqe_indep_qiskit_7.json mutant_555\n",
      "portfoliovqe_indep_qiskit_7.json mutant_560\n",
      "portfoliovqe_indep_qiskit_7.json mutant_572\n",
      "portfoliovqe_indep_qiskit_7.json mutant_590\n",
      "portfoliovqe_indep_qiskit_7.json mutant_591\n",
      "portfoliovqe_indep_qiskit_7.json mutant_606\n",
      "portfoliovqe_indep_qiskit_7.json mutant_608\n",
      "portfoliovqe_indep_qiskit_7.json mutant_609\n",
      "portfoliovqe_indep_qiskit_7.json mutant_626\n",
      "portfoliovqe_indep_qiskit_7.json mutant_629\n",
      "portfoliovqe_indep_qiskit_7.json mutant_631\n",
      "portfoliovqe_indep_qiskit_7.json mutant_639\n",
      "portfoliovqe_indep_qiskit_7.json mutant_648\n",
      "portfoliovqe_indep_qiskit_7.json mutant_655\n",
      "portfoliovqe_indep_qiskit_7.json mutant_658\n",
      "portfoliovqe_indep_qiskit_7.json mutant_659\n",
      "portfoliovqe_indep_qiskit_7.json mutant_666\n",
      "portfoliovqe_indep_qiskit_7.json mutant_667\n",
      "portfoliovqe_indep_qiskit_7.json mutant_672\n",
      "portfoliovqe_indep_qiskit_7.json mutant_679\n",
      "portfoliovqe_indep_qiskit_7.json mutant_681\n",
      "portfoliovqe_indep_qiskit_7.json mutant_684\n",
      "portfoliovqe_indep_qiskit_7.json mutant_694\n",
      "portfoliovqe_indep_qiskit_7.json mutant_697\n",
      "portfoliovqe_indep_qiskit_7.json mutant_698\n",
      "portfoliovqe_indep_qiskit_7.json mutant_704\n",
      "portfoliovqe_indep_qiskit_7.json mutant_708\n",
      "portfoliovqe_indep_qiskit_7.json mutant_709\n",
      "portfoliovqe_indep_qiskit_7.json mutant_714\n",
      "portfoliovqe_indep_qiskit_7.json mutant_719\n",
      "portfoliovqe_indep_qiskit_7.json mutant_721\n",
      "portfoliovqe_indep_qiskit_7.json mutant_730\n",
      "portfoliovqe_indep_qiskit_7.json mutant_731\n",
      "portfoliovqe_indep_qiskit_7.json mutant_735\n",
      "portfoliovqe_indep_qiskit_7.json mutant_739\n",
      "portfoliovqe_indep_qiskit_7.json mutant_741\n",
      "portfoliovqe_indep_qiskit_7.json mutant_749\n",
      "portfoliovqe_indep_qiskit_7.json mutant_771\n",
      "portfoliovqe_indep_qiskit_7.json mutant_774\n",
      "portfoliovqe_indep_qiskit_7.json mutant_779\n",
      "portfoliovqe_indep_qiskit_7.json mutant_781\n",
      "portfoliovqe_indep_qiskit_7.json mutant_789\n",
      "portfoliovqe_indep_qiskit_7.json mutant_794\n",
      "portfoliovqe_indep_qiskit_7.json mutant_797\n",
      "portfoliovqe_indep_qiskit_7.json mutant_805\n",
      "portfoliovqe_indep_qiskit_7.json mutant_812\n",
      "portfoliovqe_indep_qiskit_7.json mutant_838\n",
      "portfoliovqe_indep_qiskit_7.json mutant_849\n",
      "portfoliovqe_indep_qiskit_7.json mutant_862\n",
      "portfoliovqe_indep_qiskit_7.json mutant_863\n",
      "portfoliovqe_indep_qiskit_7.json mutant_868\n",
      "portfoliovqe_indep_qiskit_7.json mutant_873\n",
      "portfoliovqe_indep_qiskit_7.json mutant_875\n",
      "portfoliovqe_indep_qiskit_7.json mutant_895\n",
      "portfoliovqe_indep_qiskit_7.json mutant_928\n",
      "portfoliovqe_indep_qiskit_7.json mutant_1107\n",
      "portfoliovqe_indep_qiskit_7.json mutant_1108\n",
      "portfoliovqe_indep_qiskit_7.json mutant_1113\n",
      "portfoliovqe_indep_qiskit_7.json mutant_1118\n",
      "portfoliovqe_indep_qiskit_7.json mutant_1120\n",
      "portfoliovqe_indep_qiskit_7.json mutant_1140\n",
      "portfoliovqe_indep_qiskit_7.json mutant_1173\n",
      "portfoliovqe_indep_qiskit_7.json mutant_1380\n",
      "portfoliovqe_indep_qiskit_7.json mutant_1381\n",
      "portfoliovqe_indep_qiskit_7.json mutant_1386\n",
      "portfoliovqe_indep_qiskit_7.json mutant_1391\n",
      "portfoliovqe_indep_qiskit_7.json mutant_1393\n",
      "portfoliovqe_indep_qiskit_7.json mutant_1413\n",
      "portfoliovqe_indep_qiskit_7.json mutant_1446\n",
      "portfoliovqe_indep_qiskit_7.json mutant_1563\n",
      "portfoliovqe_indep_qiskit_7.json mutant_1600\n",
      "portfoliovqe_indep_qiskit_7.json mutant_1606\n",
      "portfoliovqe_indep_qiskit_7.json mutant_1622\n",
      "portfoliovqe_indep_qiskit_7.json mutant_1624\n"
     ]
    },
    {
     "name": "stdout",
     "output_type": "stream",
     "text": [
      "portfoliovqe_indep_qiskit_8.json mutant_1\n",
      "portfoliovqe_indep_qiskit_8.json mutant_7\n",
      "portfoliovqe_indep_qiskit_8.json mutant_15\n",
      "portfoliovqe_indep_qiskit_8.json mutant_20\n",
      "portfoliovqe_indep_qiskit_8.json mutant_27\n",
      "portfoliovqe_indep_qiskit_8.json mutant_40\n",
      "portfoliovqe_indep_qiskit_8.json mutant_48\n",
      "portfoliovqe_indep_qiskit_8.json mutant_56\n",
      "portfoliovqe_indep_qiskit_8.json mutant_70\n",
      "portfoliovqe_indep_qiskit_8.json mutant_80\n",
      "portfoliovqe_indep_qiskit_8.json mutant_369\n",
      "portfoliovqe_indep_qiskit_8.json mutant_370\n",
      "portfoliovqe_indep_qiskit_8.json mutant_371\n",
      "portfoliovqe_indep_qiskit_8.json mutant_372\n",
      "portfoliovqe_indep_qiskit_8.json mutant_373\n",
      "portfoliovqe_indep_qiskit_8.json mutant_374\n",
      "portfoliovqe_indep_qiskit_8.json mutant_375\n",
      "portfoliovqe_indep_qiskit_8.json mutant_376\n",
      "portfoliovqe_indep_qiskit_8.json mutant_377\n",
      "portfoliovqe_indep_qiskit_8.json mutant_378\n",
      "portfoliovqe_indep_qiskit_8.json mutant_379\n",
      "portfoliovqe_indep_qiskit_8.json mutant_380\n",
      "portfoliovqe_indep_qiskit_8.json mutant_381\n",
      "portfoliovqe_indep_qiskit_8.json mutant_382\n",
      "portfoliovqe_indep_qiskit_8.json mutant_383\n",
      "portfoliovqe_indep_qiskit_8.json mutant_384\n",
      "portfoliovqe_indep_qiskit_8.json mutant_385\n",
      "portfoliovqe_indep_qiskit_8.json mutant_386\n",
      "portfoliovqe_indep_qiskit_8.json mutant_387\n",
      "portfoliovqe_indep_qiskit_8.json mutant_388\n",
      "portfoliovqe_indep_qiskit_8.json mutant_389\n",
      "portfoliovqe_indep_qiskit_8.json mutant_390\n",
      "portfoliovqe_indep_qiskit_8.json mutant_391\n",
      "portfoliovqe_indep_qiskit_8.json mutant_392\n",
      "portfoliovqe_indep_qiskit_8.json mutant_393\n",
      "portfoliovqe_indep_qiskit_8.json mutant_394\n",
      "portfoliovqe_indep_qiskit_8.json mutant_395\n",
      "portfoliovqe_indep_qiskit_8.json mutant_396\n",
      "portfoliovqe_indep_qiskit_8.json mutant_397\n",
      "portfoliovqe_indep_qiskit_8.json mutant_398\n",
      "portfoliovqe_indep_qiskit_8.json mutant_399\n",
      "portfoliovqe_indep_qiskit_8.json mutant_400\n",
      "portfoliovqe_indep_qiskit_8.json mutant_401\n",
      "portfoliovqe_indep_qiskit_8.json mutant_402\n",
      "portfoliovqe_indep_qiskit_8.json mutant_403\n",
      "portfoliovqe_indep_qiskit_8.json mutant_404\n",
      "portfoliovqe_indep_qiskit_8.json mutant_405\n",
      "portfoliovqe_indep_qiskit_8.json mutant_406\n",
      "portfoliovqe_indep_qiskit_8.json mutant_407\n",
      "portfoliovqe_indep_qiskit_8.json mutant_408\n",
      "portfoliovqe_indep_qiskit_8.json mutant_409\n",
      "portfoliovqe_indep_qiskit_8.json mutant_410\n",
      "portfoliovqe_indep_qiskit_8.json mutant_411\n",
      "portfoliovqe_indep_qiskit_8.json mutant_412\n",
      "portfoliovqe_indep_qiskit_8.json mutant_413\n",
      "portfoliovqe_indep_qiskit_8.json mutant_414\n",
      "portfoliovqe_indep_qiskit_8.json mutant_415\n",
      "portfoliovqe_indep_qiskit_8.json mutant_416\n",
      "portfoliovqe_indep_qiskit_8.json mutant_417\n",
      "portfoliovqe_indep_qiskit_8.json mutant_418\n",
      "portfoliovqe_indep_qiskit_8.json mutant_419\n",
      "portfoliovqe_indep_qiskit_8.json mutant_420\n",
      "portfoliovqe_indep_qiskit_8.json mutant_421\n",
      "portfoliovqe_indep_qiskit_8.json mutant_422\n",
      "portfoliovqe_indep_qiskit_8.json mutant_423\n",
      "portfoliovqe_indep_qiskit_8.json mutant_424\n",
      "portfoliovqe_indep_qiskit_8.json mutant_425\n",
      "portfoliovqe_indep_qiskit_8.json mutant_426\n",
      "portfoliovqe_indep_qiskit_8.json mutant_427\n",
      "portfoliovqe_indep_qiskit_8.json mutant_428\n",
      "portfoliovqe_indep_qiskit_8.json mutant_429\n",
      "portfoliovqe_indep_qiskit_8.json mutant_430\n",
      "portfoliovqe_indep_qiskit_8.json mutant_431\n",
      "portfoliovqe_indep_qiskit_8.json mutant_432\n",
      "portfoliovqe_indep_qiskit_8.json mutant_433\n",
      "portfoliovqe_indep_qiskit_8.json mutant_434\n",
      "portfoliovqe_indep_qiskit_8.json mutant_435\n",
      "portfoliovqe_indep_qiskit_8.json mutant_436\n",
      "portfoliovqe_indep_qiskit_8.json mutant_437\n",
      "portfoliovqe_indep_qiskit_8.json mutant_438\n",
      "portfoliovqe_indep_qiskit_8.json mutant_439\n",
      "portfoliovqe_indep_qiskit_8.json mutant_440\n",
      "portfoliovqe_indep_qiskit_8.json mutant_441\n",
      "portfoliovqe_indep_qiskit_8.json mutant_442\n",
      "portfoliovqe_indep_qiskit_8.json mutant_443\n",
      "portfoliovqe_indep_qiskit_8.json mutant_444\n",
      "portfoliovqe_indep_qiskit_8.json mutant_445\n",
      "portfoliovqe_indep_qiskit_8.json mutant_446\n",
      "portfoliovqe_indep_qiskit_8.json mutant_447\n",
      "portfoliovqe_indep_qiskit_8.json mutant_448\n",
      "portfoliovqe_indep_qiskit_8.json mutant_449\n",
      "portfoliovqe_indep_qiskit_8.json mutant_450\n",
      "portfoliovqe_indep_qiskit_8.json mutant_451\n",
      "portfoliovqe_indep_qiskit_8.json mutant_452\n",
      "portfoliovqe_indep_qiskit_8.json mutant_453\n",
      "portfoliovqe_indep_qiskit_8.json mutant_454\n",
      "portfoliovqe_indep_qiskit_8.json mutant_455\n",
      "portfoliovqe_indep_qiskit_8.json mutant_456\n",
      "portfoliovqe_indep_qiskit_8.json mutant_457\n",
      "portfoliovqe_indep_qiskit_8.json mutant_458\n",
      "portfoliovqe_indep_qiskit_8.json mutant_459\n",
      "portfoliovqe_indep_qiskit_8.json mutant_460\n",
      "portfoliovqe_indep_qiskit_8.json mutant_461\n",
      "portfoliovqe_indep_qiskit_8.json mutant_462\n",
      "portfoliovqe_indep_qiskit_8.json mutant_463\n",
      "portfoliovqe_indep_qiskit_8.json mutant_464\n",
      "portfoliovqe_indep_qiskit_8.json mutant_465\n",
      "portfoliovqe_indep_qiskit_8.json mutant_466\n",
      "portfoliovqe_indep_qiskit_8.json mutant_467\n",
      "portfoliovqe_indep_qiskit_8.json mutant_468\n",
      "portfoliovqe_indep_qiskit_8.json mutant_469\n",
      "portfoliovqe_indep_qiskit_8.json mutant_470\n",
      "portfoliovqe_indep_qiskit_8.json mutant_471\n",
      "portfoliovqe_indep_qiskit_8.json mutant_472\n",
      "portfoliovqe_indep_qiskit_8.json mutant_473\n",
      "portfoliovqe_indep_qiskit_8.json mutant_474\n",
      "portfoliovqe_indep_qiskit_8.json mutant_475\n",
      "portfoliovqe_indep_qiskit_8.json mutant_476\n",
      "portfoliovqe_indep_qiskit_8.json mutant_477\n",
      "portfoliovqe_indep_qiskit_8.json mutant_478\n",
      "portfoliovqe_indep_qiskit_8.json mutant_479\n",
      "portfoliovqe_indep_qiskit_8.json mutant_480\n",
      "portfoliovqe_indep_qiskit_8.json mutant_481\n",
      "portfoliovqe_indep_qiskit_8.json mutant_482\n",
      "portfoliovqe_indep_qiskit_8.json mutant_483\n",
      "portfoliovqe_indep_qiskit_8.json mutant_484\n",
      "portfoliovqe_indep_qiskit_8.json mutant_485\n",
      "portfoliovqe_indep_qiskit_8.json mutant_491\n",
      "portfoliovqe_indep_qiskit_8.json mutant_496\n",
      "portfoliovqe_indep_qiskit_8.json mutant_498\n",
      "portfoliovqe_indep_qiskit_8.json mutant_503\n",
      "portfoliovqe_indep_qiskit_8.json mutant_507\n",
      "portfoliovqe_indep_qiskit_8.json mutant_512\n",
      "portfoliovqe_indep_qiskit_8.json mutant_514\n",
      "portfoliovqe_indep_qiskit_8.json mutant_519\n",
      "portfoliovqe_indep_qiskit_8.json mutant_521\n",
      "portfoliovqe_indep_qiskit_8.json mutant_524\n",
      "portfoliovqe_indep_qiskit_8.json mutant_532\n",
      "portfoliovqe_indep_qiskit_8.json mutant_534\n",
      "portfoliovqe_indep_qiskit_8.json mutant_536\n",
      "portfoliovqe_indep_qiskit_8.json mutant_541\n",
      "portfoliovqe_indep_qiskit_8.json mutant_545\n",
      "portfoliovqe_indep_qiskit_8.json mutant_566\n",
      "portfoliovqe_indep_qiskit_8.json mutant_567\n",
      "portfoliovqe_indep_qiskit_8.json mutant_569\n",
      "portfoliovqe_indep_qiskit_8.json mutant_572\n",
      "portfoliovqe_indep_qiskit_8.json mutant_590\n",
      "portfoliovqe_indep_qiskit_8.json mutant_594\n",
      "portfoliovqe_indep_qiskit_8.json mutant_598\n",
      "portfoliovqe_indep_qiskit_8.json mutant_613\n",
      "portfoliovqe_indep_qiskit_8.json mutant_625\n",
      "portfoliovqe_indep_qiskit_8.json mutant_644\n",
      "portfoliovqe_indep_qiskit_8.json mutant_645\n",
      "portfoliovqe_indep_qiskit_8.json mutant_650\n",
      "portfoliovqe_indep_qiskit_8.json mutant_658\n",
      "portfoliovqe_indep_qiskit_8.json mutant_659\n",
      "portfoliovqe_indep_qiskit_8.json mutant_661\n",
      "portfoliovqe_indep_qiskit_8.json mutant_672\n",
      "portfoliovqe_indep_qiskit_8.json mutant_682\n",
      "portfoliovqe_indep_qiskit_8.json mutant_695\n",
      "portfoliovqe_indep_qiskit_8.json mutant_717\n",
      "portfoliovqe_indep_qiskit_8.json mutant_720\n",
      "portfoliovqe_indep_qiskit_8.json mutant_728\n",
      "portfoliovqe_indep_qiskit_8.json mutant_734\n",
      "portfoliovqe_indep_qiskit_8.json mutant_744\n",
      "portfoliovqe_indep_qiskit_8.json mutant_748\n",
      "portfoliovqe_indep_qiskit_8.json mutant_749\n",
      "portfoliovqe_indep_qiskit_8.json mutant_759\n",
      "portfoliovqe_indep_qiskit_8.json mutant_788\n",
      "portfoliovqe_indep_qiskit_8.json mutant_816\n",
      "portfoliovqe_indep_qiskit_8.json mutant_835\n",
      "portfoliovqe_indep_qiskit_8.json mutant_844\n",
      "portfoliovqe_indep_qiskit_8.json mutant_876\n",
      "portfoliovqe_indep_qiskit_8.json mutant_906\n",
      "portfoliovqe_indep_qiskit_8.json mutant_908\n",
      "portfoliovqe_indep_qiskit_8.json mutant_910\n",
      "portfoliovqe_indep_qiskit_8.json mutant_911\n",
      "portfoliovqe_indep_qiskit_8.json mutant_912\n",
      "portfoliovqe_indep_qiskit_8.json mutant_917\n",
      "portfoliovqe_indep_qiskit_8.json mutant_921\n",
      "portfoliovqe_indep_qiskit_8.json mutant_924\n",
      "portfoliovqe_indep_qiskit_8.json mutant_928\n",
      "portfoliovqe_indep_qiskit_8.json mutant_939\n",
      "portfoliovqe_indep_qiskit_8.json mutant_944\n",
      "portfoliovqe_indep_qiskit_8.json mutant_946\n",
      "portfoliovqe_indep_qiskit_8.json mutant_950\n",
      "portfoliovqe_indep_qiskit_8.json mutant_953\n",
      "portfoliovqe_indep_qiskit_8.json mutant_956\n",
      "portfoliovqe_indep_qiskit_8.json mutant_959\n",
      "portfoliovqe_indep_qiskit_8.json mutant_961\n",
      "portfoliovqe_indep_qiskit_8.json mutant_963\n",
      "portfoliovqe_indep_qiskit_8.json mutant_966\n",
      "portfoliovqe_indep_qiskit_8.json mutant_974\n",
      "portfoliovqe_indep_qiskit_8.json mutant_978\n",
      "portfoliovqe_indep_qiskit_8.json mutant_993\n",
      "portfoliovqe_indep_qiskit_8.json mutant_999\n",
      "portfoliovqe_indep_qiskit_8.json mutant_1008\n",
      "portfoliovqe_indep_qiskit_8.json mutant_1021\n",
      "portfoliovqe_indep_qiskit_8.json mutant_1035\n",
      "portfoliovqe_indep_qiskit_8.json mutant_1039\n",
      "portfoliovqe_indep_qiskit_8.json mutant_1048\n",
      "portfoliovqe_indep_qiskit_8.json mutant_1074\n",
      "portfoliovqe_indep_qiskit_8.json mutant_1093\n",
      "portfoliovqe_indep_qiskit_8.json mutant_1098\n",
      "portfoliovqe_indep_qiskit_8.json mutant_1102\n",
      "portfoliovqe_indep_qiskit_8.json mutant_1104\n",
      "portfoliovqe_indep_qiskit_8.json mutant_1111\n",
      "portfoliovqe_indep_qiskit_8.json mutant_1117\n",
      "portfoliovqe_indep_qiskit_8.json mutant_1128\n",
      "portfoliovqe_indep_qiskit_8.json mutant_1139\n",
      "portfoliovqe_indep_qiskit_8.json mutant_1144\n",
      "portfoliovqe_indep_qiskit_8.json mutant_1146\n",
      "portfoliovqe_indep_qiskit_8.json mutant_1153\n",
      "portfoliovqe_indep_qiskit_8.json mutant_1166\n",
      "portfoliovqe_indep_qiskit_8.json mutant_1199\n",
      "portfoliovqe_indep_qiskit_8.json mutant_1433\n",
      "portfoliovqe_indep_qiskit_8.json mutant_1444\n",
      "portfoliovqe_indep_qiskit_8.json mutant_1455\n",
      "portfoliovqe_indep_qiskit_8.json mutant_1460\n",
      "portfoliovqe_indep_qiskit_8.json mutant_1462\n",
      "portfoliovqe_indep_qiskit_8.json mutant_1469\n",
      "portfoliovqe_indep_qiskit_8.json mutant_1482\n",
      "portfoliovqe_indep_qiskit_8.json mutant_1515\n",
      "portfoliovqe_indep_qiskit_8.json mutant_1781\n",
      "portfoliovqe_indep_qiskit_8.json mutant_1792\n",
      "portfoliovqe_indep_qiskit_8.json mutant_1803\n",
      "portfoliovqe_indep_qiskit_8.json mutant_1808\n",
      "portfoliovqe_indep_qiskit_8.json mutant_1810\n",
      "portfoliovqe_indep_qiskit_8.json mutant_1817\n",
      "portfoliovqe_indep_qiskit_8.json mutant_1830\n",
      "portfoliovqe_indep_qiskit_8.json mutant_1863\n",
      "portfoliovqe_indep_qiskit_8.json mutant_2020\n",
      "portfoliovqe_indep_qiskit_8.json mutant_2061\n",
      "portfoliovqe_indep_qiskit_8.json mutant_2075\n"
     ]
    },
    {
     "name": "stdout",
     "output_type": "stream",
     "text": [
      "portfoliovqe_indep_qiskit_9.json mutant_3\n",
      "portfoliovqe_indep_qiskit_9.json mutant_11\n",
      "portfoliovqe_indep_qiskit_9.json mutant_36\n",
      "portfoliovqe_indep_qiskit_9.json mutant_57\n",
      "portfoliovqe_indep_qiskit_9.json mutant_66\n",
      "portfoliovqe_indep_qiskit_9.json mutant_78\n",
      "portfoliovqe_indep_qiskit_9.json mutant_84\n",
      "portfoliovqe_indep_qiskit_9.json mutant_94\n",
      "portfoliovqe_indep_qiskit_9.json mutant_97\n",
      "portfoliovqe_indep_qiskit_9.json mutant_98\n",
      "portfoliovqe_indep_qiskit_9.json mutant_469\n",
      "portfoliovqe_indep_qiskit_9.json mutant_470\n",
      "portfoliovqe_indep_qiskit_9.json mutant_471\n",
      "portfoliovqe_indep_qiskit_9.json mutant_472\n",
      "portfoliovqe_indep_qiskit_9.json mutant_473\n",
      "portfoliovqe_indep_qiskit_9.json mutant_474\n",
      "portfoliovqe_indep_qiskit_9.json mutant_475\n",
      "portfoliovqe_indep_qiskit_9.json mutant_476\n",
      "portfoliovqe_indep_qiskit_9.json mutant_477\n",
      "portfoliovqe_indep_qiskit_9.json mutant_478\n",
      "portfoliovqe_indep_qiskit_9.json mutant_479\n",
      "portfoliovqe_indep_qiskit_9.json mutant_480\n",
      "portfoliovqe_indep_qiskit_9.json mutant_481\n",
      "portfoliovqe_indep_qiskit_9.json mutant_482\n",
      "portfoliovqe_indep_qiskit_9.json mutant_483\n",
      "portfoliovqe_indep_qiskit_9.json mutant_484\n",
      "portfoliovqe_indep_qiskit_9.json mutant_485\n",
      "portfoliovqe_indep_qiskit_9.json mutant_486\n",
      "portfoliovqe_indep_qiskit_9.json mutant_487\n",
      "portfoliovqe_indep_qiskit_9.json mutant_488\n",
      "portfoliovqe_indep_qiskit_9.json mutant_489\n",
      "portfoliovqe_indep_qiskit_9.json mutant_490\n",
      "portfoliovqe_indep_qiskit_9.json mutant_491\n",
      "portfoliovqe_indep_qiskit_9.json mutant_492\n",
      "portfoliovqe_indep_qiskit_9.json mutant_493\n",
      "portfoliovqe_indep_qiskit_9.json mutant_494\n",
      "portfoliovqe_indep_qiskit_9.json mutant_495\n",
      "portfoliovqe_indep_qiskit_9.json mutant_496\n",
      "portfoliovqe_indep_qiskit_9.json mutant_497\n",
      "portfoliovqe_indep_qiskit_9.json mutant_498\n",
      "portfoliovqe_indep_qiskit_9.json mutant_499\n",
      "portfoliovqe_indep_qiskit_9.json mutant_500\n",
      "portfoliovqe_indep_qiskit_9.json mutant_501\n",
      "portfoliovqe_indep_qiskit_9.json mutant_502\n",
      "portfoliovqe_indep_qiskit_9.json mutant_503\n",
      "portfoliovqe_indep_qiskit_9.json mutant_504\n",
      "portfoliovqe_indep_qiskit_9.json mutant_505\n",
      "portfoliovqe_indep_qiskit_9.json mutant_506\n",
      "portfoliovqe_indep_qiskit_9.json mutant_507\n",
      "portfoliovqe_indep_qiskit_9.json mutant_508\n",
      "portfoliovqe_indep_qiskit_9.json mutant_509\n",
      "portfoliovqe_indep_qiskit_9.json mutant_510\n",
      "portfoliovqe_indep_qiskit_9.json mutant_511\n",
      "portfoliovqe_indep_qiskit_9.json mutant_512\n",
      "portfoliovqe_indep_qiskit_9.json mutant_513\n",
      "portfoliovqe_indep_qiskit_9.json mutant_514\n",
      "portfoliovqe_indep_qiskit_9.json mutant_515\n",
      "portfoliovqe_indep_qiskit_9.json mutant_516\n",
      "portfoliovqe_indep_qiskit_9.json mutant_517\n",
      "portfoliovqe_indep_qiskit_9.json mutant_518\n",
      "portfoliovqe_indep_qiskit_9.json mutant_519\n",
      "portfoliovqe_indep_qiskit_9.json mutant_520\n",
      "portfoliovqe_indep_qiskit_9.json mutant_521\n",
      "portfoliovqe_indep_qiskit_9.json mutant_522\n",
      "portfoliovqe_indep_qiskit_9.json mutant_523\n",
      "portfoliovqe_indep_qiskit_9.json mutant_524\n",
      "portfoliovqe_indep_qiskit_9.json mutant_525\n",
      "portfoliovqe_indep_qiskit_9.json mutant_526\n",
      "portfoliovqe_indep_qiskit_9.json mutant_527\n",
      "portfoliovqe_indep_qiskit_9.json mutant_528\n",
      "portfoliovqe_indep_qiskit_9.json mutant_529\n",
      "portfoliovqe_indep_qiskit_9.json mutant_530\n",
      "portfoliovqe_indep_qiskit_9.json mutant_531\n",
      "portfoliovqe_indep_qiskit_9.json mutant_532\n",
      "portfoliovqe_indep_qiskit_9.json mutant_533\n",
      "portfoliovqe_indep_qiskit_9.json mutant_534\n",
      "portfoliovqe_indep_qiskit_9.json mutant_535\n",
      "portfoliovqe_indep_qiskit_9.json mutant_536\n",
      "portfoliovqe_indep_qiskit_9.json mutant_537\n",
      "portfoliovqe_indep_qiskit_9.json mutant_538\n",
      "portfoliovqe_indep_qiskit_9.json mutant_539\n",
      "portfoliovqe_indep_qiskit_9.json mutant_540\n",
      "portfoliovqe_indep_qiskit_9.json mutant_541\n",
      "portfoliovqe_indep_qiskit_9.json mutant_542\n",
      "portfoliovqe_indep_qiskit_9.json mutant_543\n",
      "portfoliovqe_indep_qiskit_9.json mutant_544\n",
      "portfoliovqe_indep_qiskit_9.json mutant_545\n",
      "portfoliovqe_indep_qiskit_9.json mutant_546\n",
      "portfoliovqe_indep_qiskit_9.json mutant_547\n",
      "portfoliovqe_indep_qiskit_9.json mutant_548\n",
      "portfoliovqe_indep_qiskit_9.json mutant_549\n",
      "portfoliovqe_indep_qiskit_9.json mutant_550\n",
      "portfoliovqe_indep_qiskit_9.json mutant_551\n",
      "portfoliovqe_indep_qiskit_9.json mutant_552\n",
      "portfoliovqe_indep_qiskit_9.json mutant_553\n",
      "portfoliovqe_indep_qiskit_9.json mutant_554\n",
      "portfoliovqe_indep_qiskit_9.json mutant_555\n",
      "portfoliovqe_indep_qiskit_9.json mutant_556\n",
      "portfoliovqe_indep_qiskit_9.json mutant_557\n",
      "portfoliovqe_indep_qiskit_9.json mutant_558\n",
      "portfoliovqe_indep_qiskit_9.json mutant_559\n",
      "portfoliovqe_indep_qiskit_9.json mutant_560\n",
      "portfoliovqe_indep_qiskit_9.json mutant_561\n",
      "portfoliovqe_indep_qiskit_9.json mutant_562\n",
      "portfoliovqe_indep_qiskit_9.json mutant_563\n",
      "portfoliovqe_indep_qiskit_9.json mutant_564\n",
      "portfoliovqe_indep_qiskit_9.json mutant_565\n",
      "portfoliovqe_indep_qiskit_9.json mutant_566\n",
      "portfoliovqe_indep_qiskit_9.json mutant_567\n",
      "portfoliovqe_indep_qiskit_9.json mutant_568\n",
      "portfoliovqe_indep_qiskit_9.json mutant_569\n",
      "portfoliovqe_indep_qiskit_9.json mutant_570\n",
      "portfoliovqe_indep_qiskit_9.json mutant_571\n",
      "portfoliovqe_indep_qiskit_9.json mutant_572\n",
      "portfoliovqe_indep_qiskit_9.json mutant_573\n",
      "portfoliovqe_indep_qiskit_9.json mutant_574\n",
      "portfoliovqe_indep_qiskit_9.json mutant_575\n",
      "portfoliovqe_indep_qiskit_9.json mutant_576\n",
      "portfoliovqe_indep_qiskit_9.json mutant_577\n",
      "portfoliovqe_indep_qiskit_9.json mutant_578\n",
      "portfoliovqe_indep_qiskit_9.json mutant_579\n",
      "portfoliovqe_indep_qiskit_9.json mutant_580\n",
      "portfoliovqe_indep_qiskit_9.json mutant_581\n",
      "portfoliovqe_indep_qiskit_9.json mutant_582\n",
      "portfoliovqe_indep_qiskit_9.json mutant_583\n",
      "portfoliovqe_indep_qiskit_9.json mutant_584\n",
      "portfoliovqe_indep_qiskit_9.json mutant_585\n",
      "portfoliovqe_indep_qiskit_9.json mutant_586\n",
      "portfoliovqe_indep_qiskit_9.json mutant_587\n",
      "portfoliovqe_indep_qiskit_9.json mutant_588\n",
      "portfoliovqe_indep_qiskit_9.json mutant_589\n",
      "portfoliovqe_indep_qiskit_9.json mutant_590\n",
      "portfoliovqe_indep_qiskit_9.json mutant_591\n",
      "portfoliovqe_indep_qiskit_9.json mutant_592\n",
      "portfoliovqe_indep_qiskit_9.json mutant_593\n",
      "portfoliovqe_indep_qiskit_9.json mutant_594\n",
      "portfoliovqe_indep_qiskit_9.json mutant_595\n",
      "portfoliovqe_indep_qiskit_9.json mutant_596\n",
      "portfoliovqe_indep_qiskit_9.json mutant_597\n",
      "portfoliovqe_indep_qiskit_9.json mutant_598\n",
      "portfoliovqe_indep_qiskit_9.json mutant_599\n",
      "portfoliovqe_indep_qiskit_9.json mutant_600\n",
      "portfoliovqe_indep_qiskit_9.json mutant_601\n",
      "portfoliovqe_indep_qiskit_9.json mutant_602\n",
      "portfoliovqe_indep_qiskit_9.json mutant_603\n",
      "portfoliovqe_indep_qiskit_9.json mutant_604\n",
      "portfoliovqe_indep_qiskit_9.json mutant_605\n",
      "portfoliovqe_indep_qiskit_9.json mutant_606\n",
      "portfoliovqe_indep_qiskit_9.json mutant_607\n",
      "portfoliovqe_indep_qiskit_9.json mutant_608\n",
      "portfoliovqe_indep_qiskit_9.json mutant_609\n",
      "portfoliovqe_indep_qiskit_9.json mutant_610\n",
      "portfoliovqe_indep_qiskit_9.json mutant_611\n",
      "portfoliovqe_indep_qiskit_9.json mutant_612\n",
      "portfoliovqe_indep_qiskit_9.json mutant_613\n",
      "portfoliovqe_indep_qiskit_9.json mutant_615\n",
      "portfoliovqe_indep_qiskit_9.json mutant_624\n",
      "portfoliovqe_indep_qiskit_9.json mutant_627\n",
      "portfoliovqe_indep_qiskit_9.json mutant_636\n",
      "portfoliovqe_indep_qiskit_9.json mutant_640\n",
      "portfoliovqe_indep_qiskit_9.json mutant_653\n",
      "portfoliovqe_indep_qiskit_9.json mutant_654\n",
      "portfoliovqe_indep_qiskit_9.json mutant_663\n",
      "portfoliovqe_indep_qiskit_9.json mutant_664\n",
      "portfoliovqe_indep_qiskit_9.json mutant_668\n",
      "portfoliovqe_indep_qiskit_9.json mutant_670\n",
      "portfoliovqe_indep_qiskit_9.json mutant_672\n",
      "portfoliovqe_indep_qiskit_9.json mutant_677\n",
      "portfoliovqe_indep_qiskit_9.json mutant_686\n",
      "portfoliovqe_indep_qiskit_9.json mutant_690\n",
      "portfoliovqe_indep_qiskit_9.json mutant_692\n",
      "portfoliovqe_indep_qiskit_9.json mutant_694\n",
      "portfoliovqe_indep_qiskit_9.json mutant_723\n",
      "portfoliovqe_indep_qiskit_9.json mutant_728\n",
      "portfoliovqe_indep_qiskit_9.json mutant_730\n",
      "portfoliovqe_indep_qiskit_9.json mutant_740\n",
      "portfoliovqe_indep_qiskit_9.json mutant_746\n",
      "portfoliovqe_indep_qiskit_9.json mutant_753\n",
      "portfoliovqe_indep_qiskit_9.json mutant_760\n",
      "portfoliovqe_indep_qiskit_9.json mutant_786\n",
      "portfoliovqe_indep_qiskit_9.json mutant_787\n",
      "portfoliovqe_indep_qiskit_9.json mutant_792\n",
      "portfoliovqe_indep_qiskit_9.json mutant_795\n",
      "portfoliovqe_indep_qiskit_9.json mutant_796\n",
      "portfoliovqe_indep_qiskit_9.json mutant_797\n",
      "portfoliovqe_indep_qiskit_9.json mutant_798\n",
      "portfoliovqe_indep_qiskit_9.json mutant_803\n",
      "portfoliovqe_indep_qiskit_9.json mutant_822\n",
      "portfoliovqe_indep_qiskit_9.json mutant_827\n",
      "portfoliovqe_indep_qiskit_9.json mutant_833\n",
      "portfoliovqe_indep_qiskit_9.json mutant_834\n",
      "portfoliovqe_indep_qiskit_9.json mutant_836\n",
      "portfoliovqe_indep_qiskit_9.json mutant_846\n",
      "portfoliovqe_indep_qiskit_9.json mutant_861\n",
      "portfoliovqe_indep_qiskit_9.json mutant_865\n",
      "portfoliovqe_indep_qiskit_9.json mutant_867\n",
      "portfoliovqe_indep_qiskit_9.json mutant_874\n",
      "portfoliovqe_indep_qiskit_9.json mutant_876\n",
      "portfoliovqe_indep_qiskit_9.json mutant_882\n",
      "portfoliovqe_indep_qiskit_9.json mutant_914\n",
      "portfoliovqe_indep_qiskit_9.json mutant_915\n",
      "portfoliovqe_indep_qiskit_9.json mutant_916\n",
      "portfoliovqe_indep_qiskit_9.json mutant_936\n",
      "portfoliovqe_indep_qiskit_9.json mutant_938\n",
      "portfoliovqe_indep_qiskit_9.json mutant_941\n",
      "portfoliovqe_indep_qiskit_9.json mutant_943\n",
      "portfoliovqe_indep_qiskit_9.json mutant_946\n",
      "portfoliovqe_indep_qiskit_9.json mutant_952\n",
      "portfoliovqe_indep_qiskit_9.json mutant_962\n",
      "portfoliovqe_indep_qiskit_9.json mutant_964\n",
      "portfoliovqe_indep_qiskit_9.json mutant_966\n",
      "portfoliovqe_indep_qiskit_9.json mutant_972\n",
      "portfoliovqe_indep_qiskit_9.json mutant_979\n",
      "portfoliovqe_indep_qiskit_9.json mutant_980\n",
      "portfoliovqe_indep_qiskit_9.json mutant_982\n",
      "portfoliovqe_indep_qiskit_9.json mutant_1023\n",
      "portfoliovqe_indep_qiskit_9.json mutant_1035\n",
      "portfoliovqe_indep_qiskit_9.json mutant_1052\n",
      "portfoliovqe_indep_qiskit_9.json mutant_1062\n",
      "portfoliovqe_indep_qiskit_9.json mutant_1068\n",
      "portfoliovqe_indep_qiskit_9.json mutant_1079\n",
      "portfoliovqe_indep_qiskit_9.json mutant_1082\n",
      "portfoliovqe_indep_qiskit_9.json mutant_1083\n",
      "portfoliovqe_indep_qiskit_9.json mutant_1089\n",
      "portfoliovqe_indep_qiskit_9.json mutant_1097\n",
      "portfoliovqe_indep_qiskit_9.json mutant_1099\n",
      "portfoliovqe_indep_qiskit_9.json mutant_1102\n",
      "portfoliovqe_indep_qiskit_9.json mutant_1107\n",
      "portfoliovqe_indep_qiskit_9.json mutant_1122\n",
      "portfoliovqe_indep_qiskit_9.json mutant_1125\n",
      "portfoliovqe_indep_qiskit_9.json mutant_1129\n",
      "portfoliovqe_indep_qiskit_9.json mutant_1133\n",
      "portfoliovqe_indep_qiskit_9.json mutant_1136\n",
      "portfoliovqe_indep_qiskit_9.json mutant_1152\n",
      "portfoliovqe_indep_qiskit_9.json mutant_1153\n",
      "portfoliovqe_indep_qiskit_9.json mutant_1164\n",
      "portfoliovqe_indep_qiskit_9.json mutant_1166\n",
      "portfoliovqe_indep_qiskit_9.json mutant_1167\n",
      "portfoliovqe_indep_qiskit_9.json mutant_1171\n",
      "portfoliovqe_indep_qiskit_9.json mutant_1176\n",
      "portfoliovqe_indep_qiskit_9.json mutant_1195\n",
      "portfoliovqe_indep_qiskit_9.json mutant_1199\n",
      "portfoliovqe_indep_qiskit_9.json mutant_1203\n",
      "portfoliovqe_indep_qiskit_9.json mutant_1208\n",
      "portfoliovqe_indep_qiskit_9.json mutant_1210\n",
      "portfoliovqe_indep_qiskit_9.json mutant_1216\n",
      "portfoliovqe_indep_qiskit_9.json mutant_1217\n",
      "portfoliovqe_indep_qiskit_9.json mutant_1226\n",
      "portfoliovqe_indep_qiskit_9.json mutant_1227\n",
      "portfoliovqe_indep_qiskit_9.json mutant_1230\n",
      "portfoliovqe_indep_qiskit_9.json mutant_1237\n",
      "portfoliovqe_indep_qiskit_9.json mutant_1239\n",
      "portfoliovqe_indep_qiskit_9.json mutant_1241\n",
      "portfoliovqe_indep_qiskit_9.json mutant_1245\n",
      "portfoliovqe_indep_qiskit_9.json mutant_1259\n",
      "portfoliovqe_indep_qiskit_9.json mutant_1263\n",
      "portfoliovqe_indep_qiskit_9.json mutant_1276\n",
      "portfoliovqe_indep_qiskit_9.json mutant_1279\n",
      "portfoliovqe_indep_qiskit_9.json mutant_1283\n",
      "portfoliovqe_indep_qiskit_9.json mutant_1288\n",
      "portfoliovqe_indep_qiskit_9.json mutant_1290\n",
      "portfoliovqe_indep_qiskit_9.json mutant_1293\n",
      "portfoliovqe_indep_qiskit_9.json mutant_1304\n",
      "portfoliovqe_indep_qiskit_9.json mutant_1336\n",
      "portfoliovqe_indep_qiskit_9.json mutant_1339\n",
      "portfoliovqe_indep_qiskit_9.json mutant_1348\n",
      "portfoliovqe_indep_qiskit_9.json mutant_1356\n",
      "portfoliovqe_indep_qiskit_9.json mutant_1360\n",
      "portfoliovqe_indep_qiskit_9.json mutant_1382\n",
      "portfoliovqe_indep_qiskit_9.json mutant_1390\n",
      "portfoliovqe_indep_qiskit_9.json mutant_1391\n",
      "portfoliovqe_indep_qiskit_9.json mutant_1405\n",
      "portfoliovqe_indep_qiskit_9.json mutant_1416\n",
      "portfoliovqe_indep_qiskit_9.json mutant_1455\n",
      "portfoliovqe_indep_qiskit_9.json mutant_1460\n",
      "portfoliovqe_indep_qiskit_9.json mutant_1462\n",
      "portfoliovqe_indep_qiskit_9.json mutant_1469\n",
      "portfoliovqe_indep_qiskit_9.json mutant_1478\n",
      "portfoliovqe_indep_qiskit_9.json mutant_1482\n",
      "portfoliovqe_indep_qiskit_9.json mutant_1515\n",
      "portfoliovqe_indep_qiskit_9.json mutant_1801\n",
      "portfoliovqe_indep_qiskit_9.json mutant_1812\n",
      "portfoliovqe_indep_qiskit_9.json mutant_1851\n",
      "portfoliovqe_indep_qiskit_9.json mutant_1856\n",
      "portfoliovqe_indep_qiskit_9.json mutant_1858\n",
      "portfoliovqe_indep_qiskit_9.json mutant_1865\n",
      "portfoliovqe_indep_qiskit_9.json mutant_1874\n",
      "portfoliovqe_indep_qiskit_9.json mutant_1878\n",
      "portfoliovqe_indep_qiskit_9.json mutant_1911\n",
      "portfoliovqe_indep_qiskit_9.json mutant_2233\n",
      "portfoliovqe_indep_qiskit_9.json mutant_2244\n",
      "portfoliovqe_indep_qiskit_9.json mutant_2283\n",
      "portfoliovqe_indep_qiskit_9.json mutant_2288\n",
      "portfoliovqe_indep_qiskit_9.json mutant_2290\n",
      "portfoliovqe_indep_qiskit_9.json mutant_2297\n",
      "portfoliovqe_indep_qiskit_9.json mutant_2306\n",
      "portfoliovqe_indep_qiskit_9.json mutant_2310\n",
      "portfoliovqe_indep_qiskit_9.json mutant_2343\n",
      "portfoliovqe_indep_qiskit_9.json mutant_2527\n",
      "portfoliovqe_indep_qiskit_9.json mutant_2536\n",
      "portfoliovqe_indep_qiskit_9.json mutant_2537\n",
      "portfoliovqe_indep_qiskit_9.json mutant_2547\n",
      "portfoliovqe_indep_qiskit_9.json mutant_2548\n",
      "portfoliovqe_indep_qiskit_9.json mutant_2549\n",
      "portfoliovqe_indep_qiskit_9.json mutant_2555\n",
      "portfoliovqe_indep_qiskit_9.json mutant_2559\n",
      "portfoliovqe_indep_qiskit_9.json mutant_2568\n",
      "portfoliovqe_indep_qiskit_9.json mutant_2570\n",
      "portfoliovqe_indep_qiskit_9.json mutant_2589\n",
      "portfoliovqe_indep_qiskit_9.json mutant_2595\n",
      "portfoliovqe_indep_qiskit_9.json mutant_2597\n",
      "portfoliovqe_indep_qiskit_9.json mutant_2601\n",
      "portfoliovqe_indep_qiskit_9.json mutant_2613\n",
      "portfoliovqe_indep_qiskit_9.json mutant_2623\n"
     ]
    },
    {
     "name": "stdout",
     "output_type": "stream",
     "text": [
      "vqe_indep_qiskit_10.json mutant_1\n",
      "vqe_indep_qiskit_10.json mutant_2\n",
      "vqe_indep_qiskit_10.json mutant_3\n",
      "vqe_indep_qiskit_10.json mutant_6\n",
      "vqe_indep_qiskit_10.json mutant_7\n",
      "vqe_indep_qiskit_10.json mutant_12\n",
      "vqe_indep_qiskit_10.json mutant_14\n",
      "vqe_indep_qiskit_10.json mutant_15\n",
      "vqe_indep_qiskit_10.json mutant_24\n",
      "vqe_indep_qiskit_10.json mutant_29\n",
      "vqe_indep_qiskit_10.json mutant_31\n",
      "vqe_indep_qiskit_10.json mutant_38\n",
      "vqe_indep_qiskit_10.json mutant_39\n",
      "vqe_indep_qiskit_10.json mutant_42\n",
      "vqe_indep_qiskit_10.json mutant_43\n",
      "vqe_indep_qiskit_10.json mutant_48\n",
      "vqe_indep_qiskit_10.json mutant_50\n",
      "vqe_indep_qiskit_10.json mutant_103\n",
      "vqe_indep_qiskit_10.json mutant_104\n",
      "vqe_indep_qiskit_10.json mutant_105\n",
      "vqe_indep_qiskit_10.json mutant_106\n",
      "vqe_indep_qiskit_10.json mutant_107\n",
      "vqe_indep_qiskit_10.json mutant_108\n",
      "vqe_indep_qiskit_10.json mutant_109\n",
      "vqe_indep_qiskit_10.json mutant_110\n",
      "vqe_indep_qiskit_10.json mutant_111\n",
      "vqe_indep_qiskit_10.json mutant_112\n",
      "vqe_indep_qiskit_10.json mutant_113\n",
      "vqe_indep_qiskit_10.json mutant_114\n",
      "vqe_indep_qiskit_10.json mutant_115\n",
      "vqe_indep_qiskit_10.json mutant_116\n",
      "vqe_indep_qiskit_10.json mutant_117\n",
      "vqe_indep_qiskit_10.json mutant_118\n",
      "vqe_indep_qiskit_10.json mutant_119\n",
      "vqe_indep_qiskit_10.json mutant_120\n",
      "vqe_indep_qiskit_10.json mutant_121\n",
      "vqe_indep_qiskit_10.json mutant_122\n",
      "vqe_indep_qiskit_10.json mutant_123\n",
      "vqe_indep_qiskit_10.json mutant_124\n",
      "vqe_indep_qiskit_10.json mutant_125\n",
      "vqe_indep_qiskit_10.json mutant_126\n",
      "vqe_indep_qiskit_10.json mutant_127\n",
      "vqe_indep_qiskit_10.json mutant_128\n",
      "vqe_indep_qiskit_10.json mutant_129\n",
      "vqe_indep_qiskit_10.json mutant_130\n",
      "vqe_indep_qiskit_10.json mutant_131\n",
      "vqe_indep_qiskit_10.json mutant_132\n",
      "vqe_indep_qiskit_10.json mutant_133\n",
      "vqe_indep_qiskit_10.json mutant_134\n",
      "vqe_indep_qiskit_10.json mutant_135\n",
      "vqe_indep_qiskit_10.json mutant_136\n",
      "vqe_indep_qiskit_10.json mutant_137\n",
      "vqe_indep_qiskit_10.json mutant_138\n",
      "vqe_indep_qiskit_10.json mutant_139\n",
      "vqe_indep_qiskit_10.json mutant_140\n",
      "vqe_indep_qiskit_10.json mutant_141\n",
      "vqe_indep_qiskit_10.json mutant_142\n",
      "vqe_indep_qiskit_10.json mutant_143\n",
      "vqe_indep_qiskit_10.json mutant_144\n",
      "vqe_indep_qiskit_10.json mutant_145\n",
      "vqe_indep_qiskit_10.json mutant_146\n",
      "vqe_indep_qiskit_10.json mutant_147\n",
      "vqe_indep_qiskit_10.json mutant_148\n",
      "vqe_indep_qiskit_10.json mutant_149\n",
      "vqe_indep_qiskit_10.json mutant_150\n",
      "vqe_indep_qiskit_10.json mutant_151\n",
      "vqe_indep_qiskit_10.json mutant_153\n",
      "vqe_indep_qiskit_10.json mutant_155\n",
      "vqe_indep_qiskit_10.json mutant_157\n",
      "vqe_indep_qiskit_10.json mutant_161\n",
      "vqe_indep_qiskit_10.json mutant_162\n",
      "vqe_indep_qiskit_10.json mutant_167\n",
      "vqe_indep_qiskit_10.json mutant_173\n",
      "vqe_indep_qiskit_10.json mutant_174\n",
      "vqe_indep_qiskit_10.json mutant_184\n",
      "vqe_indep_qiskit_10.json mutant_188\n",
      "vqe_indep_qiskit_10.json mutant_189\n",
      "vqe_indep_qiskit_10.json mutant_190\n",
      "vqe_indep_qiskit_10.json mutant_193\n",
      "vqe_indep_qiskit_10.json mutant_194\n",
      "vqe_indep_qiskit_10.json mutant_195\n",
      "vqe_indep_qiskit_10.json mutant_196\n",
      "vqe_indep_qiskit_10.json mutant_197\n",
      "vqe_indep_qiskit_10.json mutant_198\n",
      "vqe_indep_qiskit_10.json mutant_201\n",
      "vqe_indep_qiskit_10.json mutant_202\n",
      "vqe_indep_qiskit_10.json mutant_204\n",
      "vqe_indep_qiskit_10.json mutant_213\n",
      "vqe_indep_qiskit_10.json mutant_214\n",
      "vqe_indep_qiskit_10.json mutant_222\n",
      "vqe_indep_qiskit_10.json mutant_233\n",
      "vqe_indep_qiskit_10.json mutant_235\n",
      "vqe_indep_qiskit_10.json mutant_237\n",
      "vqe_indep_qiskit_10.json mutant_239\n",
      "vqe_indep_qiskit_10.json mutant_253\n",
      "vqe_indep_qiskit_10.json mutant_256\n",
      "vqe_indep_qiskit_10.json mutant_258\n",
      "vqe_indep_qiskit_10.json mutant_259\n",
      "vqe_indep_qiskit_10.json mutant_260\n",
      "vqe_indep_qiskit_10.json mutant_269\n",
      "vqe_indep_qiskit_10.json mutant_273\n",
      "vqe_indep_qiskit_10.json mutant_275\n",
      "vqe_indep_qiskit_10.json mutant_279\n",
      "vqe_indep_qiskit_10.json mutant_285\n",
      "vqe_indep_qiskit_10.json mutant_286\n",
      "vqe_indep_qiskit_10.json mutant_288\n",
      "vqe_indep_qiskit_10.json mutant_289\n",
      "vqe_indep_qiskit_10.json mutant_304\n",
      "vqe_indep_qiskit_10.json mutant_313\n",
      "vqe_indep_qiskit_10.json mutant_315\n",
      "vqe_indep_qiskit_10.json mutant_317\n",
      "vqe_indep_qiskit_10.json mutant_319\n",
      "vqe_indep_qiskit_10.json mutant_322\n",
      "vqe_indep_qiskit_10.json mutant_323\n",
      "vqe_indep_qiskit_10.json mutant_324\n",
      "vqe_indep_qiskit_10.json mutant_334\n",
      "vqe_indep_qiskit_10.json mutant_335\n",
      "vqe_indep_qiskit_10.json mutant_337\n",
      "vqe_indep_qiskit_10.json mutant_340\n",
      "vqe_indep_qiskit_10.json mutant_346\n",
      "vqe_indep_qiskit_10.json mutant_348\n",
      "vqe_indep_qiskit_10.json mutant_350\n",
      "vqe_indep_qiskit_10.json mutant_352\n",
      "vqe_indep_qiskit_10.json mutant_355\n",
      "vqe_indep_qiskit_10.json mutant_356\n",
      "vqe_indep_qiskit_10.json mutant_357\n",
      "vqe_indep_qiskit_10.json mutant_358\n",
      "vqe_indep_qiskit_10.json mutant_359\n",
      "vqe_indep_qiskit_10.json mutant_360\n",
      "vqe_indep_qiskit_10.json mutant_366\n",
      "vqe_indep_qiskit_10.json mutant_372\n",
      "vqe_indep_qiskit_10.json mutant_374\n",
      "vqe_indep_qiskit_10.json mutant_377\n",
      "vqe_indep_qiskit_10.json mutant_379\n",
      "vqe_indep_qiskit_10.json mutant_381\n",
      "vqe_indep_qiskit_10.json mutant_383\n",
      "vqe_indep_qiskit_10.json mutant_385\n",
      "vqe_indep_qiskit_10.json mutant_390\n",
      "vqe_indep_qiskit_10.json mutant_401\n",
      "vqe_indep_qiskit_10.json mutant_412\n",
      "vqe_indep_qiskit_10.json mutant_416\n",
      "vqe_indep_qiskit_10.json mutant_418\n",
      "vqe_indep_qiskit_10.json mutant_421\n",
      "vqe_indep_qiskit_10.json mutant_422\n",
      "vqe_indep_qiskit_10.json mutant_423\n",
      "vqe_indep_qiskit_10.json mutant_424\n",
      "vqe_indep_qiskit_10.json mutant_425\n",
      "vqe_indep_qiskit_10.json mutant_426\n",
      "vqe_indep_qiskit_10.json mutant_436\n",
      "vqe_indep_qiskit_10.json mutant_438\n",
      "vqe_indep_qiskit_10.json mutant_440\n",
      "vqe_indep_qiskit_10.json mutant_448\n",
      "vqe_indep_qiskit_10.json mutant_450\n",
      "vqe_indep_qiskit_10.json mutant_481\n",
      "vqe_indep_qiskit_10.json mutant_483\n",
      "vqe_indep_qiskit_10.json mutant_485\n",
      "vqe_indep_qiskit_10.json mutant_493\n",
      "vqe_indep_qiskit_10.json mutant_495\n",
      "vqe_indep_qiskit_10.json mutant_497\n",
      "vqe_indep_qiskit_10.json mutant_499\n",
      "vqe_indep_qiskit_10.json mutant_504\n",
      "vqe_indep_qiskit_10.json mutant_515\n",
      "vqe_indep_qiskit_10.json mutant_526\n",
      "vqe_indep_qiskit_10.json mutant_530\n",
      "vqe_indep_qiskit_10.json mutant_532\n",
      "vqe_indep_qiskit_10.json mutant_535\n",
      "vqe_indep_qiskit_10.json mutant_536\n",
      "vqe_indep_qiskit_10.json mutant_537\n",
      "vqe_indep_qiskit_10.json mutant_538\n",
      "vqe_indep_qiskit_10.json mutant_539\n",
      "vqe_indep_qiskit_10.json mutant_540\n",
      "vqe_indep_qiskit_10.json mutant_544\n",
      "vqe_indep_qiskit_10.json mutant_546\n",
      "vqe_indep_qiskit_10.json mutant_577\n",
      "vqe_indep_qiskit_10.json mutant_579\n",
      "vqe_indep_qiskit_10.json mutant_581\n",
      "vqe_indep_qiskit_10.json mutant_637\n",
      "vqe_indep_qiskit_10.json mutant_639\n",
      "vqe_indep_qiskit_10.json mutant_641\n",
      "vqe_indep_qiskit_10.json mutant_643\n",
      "vqe_indep_qiskit_10.json mutant_648\n",
      "vqe_indep_qiskit_10.json mutant_659\n",
      "vqe_indep_qiskit_10.json mutant_670\n",
      "vqe_indep_qiskit_10.json mutant_674\n",
      "vqe_indep_qiskit_10.json mutant_676\n",
      "vqe_indep_qiskit_10.json mutant_679\n",
      "vqe_indep_qiskit_10.json mutant_680\n",
      "vqe_indep_qiskit_10.json mutant_681\n",
      "vqe_indep_qiskit_10.json mutant_682\n",
      "vqe_indep_qiskit_10.json mutant_683\n",
      "vqe_indep_qiskit_10.json mutant_684\n",
      "vqe_indep_qiskit_10.json mutant_690\n",
      "vqe_indep_qiskit_10.json mutant_695\n",
      "vqe_indep_qiskit_10.json mutant_697\n",
      "vqe_indep_qiskit_10.json mutant_716\n",
      "vqe_indep_qiskit_10.json mutant_730\n",
      "vqe_indep_qiskit_10.json mutant_732\n",
      "vqe_indep_qiskit_10.json mutant_734\n",
      "vqe_indep_qiskit_10.json mutant_738\n",
      "vqe_indep_qiskit_10.json mutant_752\n",
      "vqe_indep_qiskit_10.json mutant_756\n",
      "vqe_indep_qiskit_10.json mutant_787\n",
      "vqe_indep_qiskit_10.json mutant_789\n",
      "vqe_indep_qiskit_10.json mutant_791\n",
      "vqe_indep_qiskit_10.json mutant_795\n",
      "vqe_indep_qiskit_10.json mutant_814\n",
      "vqe_indep_qiskit_10.json mutant_826\n",
      "vqe_indep_qiskit_10.json mutant_828\n",
      "vqe_indep_qiskit_10.json mutant_844\n",
      "vqe_indep_qiskit_10.json mutant_856\n",
      "vqe_indep_qiskit_10.json mutant_858\n",
      "vqe_indep_qiskit_10.json mutant_878\n",
      "vqe_indep_qiskit_10.json mutant_922\n",
      "vqe_indep_qiskit_10.json mutant_934\n",
      "vqe_indep_qiskit_10.json mutant_936\n",
      "vqe_indep_qiskit_10.json mutant_970\n",
      "vqe_indep_qiskit_10.json mutant_982\n",
      "vqe_indep_qiskit_10.json mutant_984\n",
      "vqe_indep_qiskit_10.json mutant_1048\n",
      "vqe_indep_qiskit_10.json mutant_1060\n",
      "vqe_indep_qiskit_10.json mutant_1062\n",
      "vqe_indep_qiskit_10.json mutant_1082\n",
      "vqe_indep_qiskit_10.json mutant_1088\n",
      "vqe_indep_qiskit_10.json mutant_1099\n",
      "vqe_indep_qiskit_10.json mutant_1100\n",
      "vqe_indep_qiskit_10.json mutant_1101\n",
      "vqe_indep_qiskit_10.json mutant_1102\n",
      "vqe_indep_qiskit_10.json mutant_1112\n",
      "vqe_indep_qiskit_10.json mutant_1118\n",
      "vqe_indep_qiskit_10.json mutant_1138\n",
      "vqe_indep_qiskit_10.json mutant_1150\n",
      "vqe_indep_qiskit_10.json mutant_1152\n",
      "vqe_indep_qiskit_3.json mutant_3\n",
      "vqe_indep_qiskit_3.json mutant_26\n",
      "vqe_indep_qiskit_3.json mutant_27\n",
      "vqe_indep_qiskit_3.json mutant_28\n",
      "vqe_indep_qiskit_3.json mutant_29\n",
      "vqe_indep_qiskit_3.json mutant_30\n",
      "vqe_indep_qiskit_3.json mutant_31\n",
      "vqe_indep_qiskit_3.json mutant_32\n",
      "vqe_indep_qiskit_3.json mutant_33\n",
      "vqe_indep_qiskit_3.json mutant_34\n",
      "vqe_indep_qiskit_3.json mutant_35\n",
      "vqe_indep_qiskit_3.json mutant_36\n",
      "vqe_indep_qiskit_3.json mutant_37\n",
      "vqe_indep_qiskit_3.json mutant_38\n",
      "vqe_indep_qiskit_3.json mutant_39\n",
      "vqe_indep_qiskit_3.json mutant_43\n",
      "vqe_indep_qiskit_3.json mutant_44\n",
      "vqe_indep_qiskit_3.json mutant_60\n",
      "vqe_indep_qiskit_3.json mutant_68\n",
      "vqe_indep_qiskit_3.json mutant_72\n",
      "vqe_indep_qiskit_3.json mutant_82\n",
      "vqe_indep_qiskit_3.json mutant_86\n",
      "vqe_indep_qiskit_3.json mutant_87\n",
      "vqe_indep_qiskit_3.json mutant_92\n",
      "vqe_indep_qiskit_3.json mutant_94\n",
      "vqe_indep_qiskit_3.json mutant_99\n",
      "vqe_indep_qiskit_3.json mutant_103\n",
      "vqe_indep_qiskit_3.json mutant_104\n",
      "vqe_indep_qiskit_3.json mutant_129\n",
      "vqe_indep_qiskit_3.json mutant_133\n",
      "vqe_indep_qiskit_3.json mutant_134\n",
      "vqe_indep_qiskit_3.json mutant_168\n",
      "vqe_indep_qiskit_3.json mutant_172\n",
      "vqe_indep_qiskit_3.json mutant_173\n",
      "vqe_indep_qiskit_3.json mutant_206\n",
      "vqe_indep_qiskit_4.json mutant_8\n",
      "vqe_indep_qiskit_4.json mutant_37\n",
      "vqe_indep_qiskit_4.json mutant_38\n",
      "vqe_indep_qiskit_4.json mutant_39\n",
      "vqe_indep_qiskit_4.json mutant_40\n",
      "vqe_indep_qiskit_4.json mutant_41\n",
      "vqe_indep_qiskit_4.json mutant_42\n",
      "vqe_indep_qiskit_4.json mutant_43\n",
      "vqe_indep_qiskit_4.json mutant_44\n",
      "vqe_indep_qiskit_4.json mutant_45\n",
      "vqe_indep_qiskit_4.json mutant_46\n",
      "vqe_indep_qiskit_4.json mutant_47\n",
      "vqe_indep_qiskit_4.json mutant_48\n",
      "vqe_indep_qiskit_4.json mutant_49\n",
      "vqe_indep_qiskit_4.json mutant_50\n",
      "vqe_indep_qiskit_4.json mutant_51\n",
      "vqe_indep_qiskit_4.json mutant_52\n",
      "vqe_indep_qiskit_4.json mutant_53\n",
      "vqe_indep_qiskit_4.json mutant_54\n",
      "vqe_indep_qiskit_4.json mutant_55\n",
      "vqe_indep_qiskit_4.json mutant_61\n",
      "vqe_indep_qiskit_4.json mutant_64\n",
      "vqe_indep_qiskit_4.json mutant_65\n",
      "vqe_indep_qiskit_4.json mutant_66\n",
      "vqe_indep_qiskit_4.json mutant_68\n",
      "vqe_indep_qiskit_4.json mutant_72\n",
      "vqe_indep_qiskit_4.json mutant_80\n",
      "vqe_indep_qiskit_4.json mutant_91\n",
      "vqe_indep_qiskit_4.json mutant_93\n",
      "vqe_indep_qiskit_4.json mutant_107\n",
      "vqe_indep_qiskit_4.json mutant_115\n",
      "vqe_indep_qiskit_4.json mutant_122\n",
      "vqe_indep_qiskit_4.json mutant_124\n",
      "vqe_indep_qiskit_4.json mutant_125\n",
      "vqe_indep_qiskit_4.json mutant_126\n",
      "vqe_indep_qiskit_4.json mutant_128\n",
      "vqe_indep_qiskit_4.json mutant_131\n",
      "vqe_indep_qiskit_4.json mutant_139\n",
      "vqe_indep_qiskit_4.json mutant_148\n",
      "vqe_indep_qiskit_4.json mutant_149\n",
      "vqe_indep_qiskit_4.json mutant_150\n",
      "vqe_indep_qiskit_4.json mutant_152\n",
      "vqe_indep_qiskit_4.json mutant_157\n",
      "vqe_indep_qiskit_4.json mutant_170\n",
      "vqe_indep_qiskit_4.json mutant_181\n",
      "vqe_indep_qiskit_4.json mutant_190\n",
      "vqe_indep_qiskit_4.json mutant_191\n",
      "vqe_indep_qiskit_4.json mutant_192\n",
      "vqe_indep_qiskit_4.json mutant_194\n",
      "vqe_indep_qiskit_4.json mutant_206\n",
      "vqe_indep_qiskit_4.json mutant_235\n",
      "vqe_indep_qiskit_4.json mutant_244\n",
      "vqe_indep_qiskit_4.json mutant_245\n",
      "vqe_indep_qiskit_4.json mutant_246\n",
      "vqe_indep_qiskit_4.json mutant_248\n",
      "vqe_indep_qiskit_4.json mutant_254\n",
      "vqe_indep_qiskit_4.json mutant_272\n",
      "vqe_indep_qiskit_4.json mutant_325\n",
      "vqe_indep_qiskit_4.json mutant_403\n",
      "vqe_indep_qiskit_4.json mutant_415\n",
      "vqe_indep_qiskit_5.json mutant_8\n",
      "vqe_indep_qiskit_5.json mutant_16\n",
      "vqe_indep_qiskit_5.json mutant_24\n",
      "vqe_indep_qiskit_5.json mutant_48\n",
      "vqe_indep_qiskit_5.json mutant_49\n",
      "vqe_indep_qiskit_5.json mutant_50\n",
      "vqe_indep_qiskit_5.json mutant_51\n",
      "vqe_indep_qiskit_5.json mutant_52\n",
      "vqe_indep_qiskit_5.json mutant_53\n",
      "vqe_indep_qiskit_5.json mutant_54\n",
      "vqe_indep_qiskit_5.json mutant_55\n",
      "vqe_indep_qiskit_5.json mutant_56\n",
      "vqe_indep_qiskit_5.json mutant_57\n",
      "vqe_indep_qiskit_5.json mutant_58\n",
      "vqe_indep_qiskit_5.json mutant_59\n",
      "vqe_indep_qiskit_5.json mutant_60\n",
      "vqe_indep_qiskit_5.json mutant_61\n",
      "vqe_indep_qiskit_5.json mutant_62\n",
      "vqe_indep_qiskit_5.json mutant_63\n",
      "vqe_indep_qiskit_5.json mutant_64\n",
      "vqe_indep_qiskit_5.json mutant_65\n",
      "vqe_indep_qiskit_5.json mutant_66\n",
      "vqe_indep_qiskit_5.json mutant_67\n",
      "vqe_indep_qiskit_5.json mutant_68\n",
      "vqe_indep_qiskit_5.json mutant_69\n",
      "vqe_indep_qiskit_5.json mutant_70\n",
      "vqe_indep_qiskit_5.json mutant_71\n",
      "vqe_indep_qiskit_5.json mutant_77\n",
      "vqe_indep_qiskit_5.json mutant_82\n",
      "vqe_indep_qiskit_5.json mutant_83\n",
      "vqe_indep_qiskit_5.json mutant_85\n",
      "vqe_indep_qiskit_5.json mutant_86\n",
      "vqe_indep_qiskit_5.json mutant_87\n",
      "vqe_indep_qiskit_5.json mutant_88\n",
      "vqe_indep_qiskit_5.json mutant_90\n",
      "vqe_indep_qiskit_5.json mutant_91\n",
      "vqe_indep_qiskit_5.json mutant_92\n",
      "vqe_indep_qiskit_5.json mutant_93\n",
      "vqe_indep_qiskit_5.json mutant_96\n",
      "vqe_indep_qiskit_5.json mutant_104\n",
      "vqe_indep_qiskit_5.json mutant_107\n",
      "vqe_indep_qiskit_5.json mutant_109\n",
      "vqe_indep_qiskit_5.json mutant_112\n",
      "vqe_indep_qiskit_5.json mutant_119\n",
      "vqe_indep_qiskit_5.json mutant_121\n",
      "vqe_indep_qiskit_5.json mutant_141\n",
      "vqe_indep_qiskit_5.json mutant_142\n",
      "vqe_indep_qiskit_5.json mutant_148\n",
      "vqe_indep_qiskit_5.json mutant_155\n",
      "vqe_indep_qiskit_5.json mutant_158\n",
      "vqe_indep_qiskit_5.json mutant_159\n",
      "vqe_indep_qiskit_5.json mutant_163\n",
      "vqe_indep_qiskit_5.json mutant_164\n",
      "vqe_indep_qiskit_5.json mutant_165\n",
      "vqe_indep_qiskit_5.json mutant_167\n",
      "vqe_indep_qiskit_5.json mutant_169\n",
      "vqe_indep_qiskit_5.json mutant_170\n",
      "vqe_indep_qiskit_5.json mutant_171\n",
      "vqe_indep_qiskit_5.json mutant_173\n",
      "vqe_indep_qiskit_5.json mutant_179\n",
      "vqe_indep_qiskit_5.json mutant_190\n",
      "vqe_indep_qiskit_5.json mutant_191\n",
      "vqe_indep_qiskit_5.json mutant_194\n",
      "vqe_indep_qiskit_5.json mutant_195\n",
      "vqe_indep_qiskit_5.json mutant_196\n",
      "vqe_indep_qiskit_5.json mutant_198\n",
      "vqe_indep_qiskit_5.json mutant_200\n",
      "vqe_indep_qiskit_5.json mutant_201\n",
      "vqe_indep_qiskit_5.json mutant_204\n",
      "vqe_indep_qiskit_5.json mutant_220\n",
      "vqe_indep_qiskit_5.json mutant_223\n",
      "vqe_indep_qiskit_5.json mutant_230\n",
      "vqe_indep_qiskit_5.json mutant_233\n",
      "vqe_indep_qiskit_5.json mutant_244\n",
      "vqe_indep_qiskit_5.json mutant_245\n",
      "vqe_indep_qiskit_5.json mutant_248\n",
      "vqe_indep_qiskit_5.json mutant_249\n",
      "vqe_indep_qiskit_5.json mutant_250\n",
      "vqe_indep_qiskit_5.json mutant_252\n",
      "vqe_indep_qiskit_5.json mutant_254\n",
      "vqe_indep_qiskit_5.json mutant_255\n",
      "vqe_indep_qiskit_5.json mutant_266\n",
      "vqe_indep_qiskit_5.json mutant_302\n",
      "vqe_indep_qiskit_5.json mutant_313\n",
      "vqe_indep_qiskit_5.json mutant_317\n",
      "vqe_indep_qiskit_5.json mutant_318\n",
      "vqe_indep_qiskit_5.json mutant_319\n",
      "vqe_indep_qiskit_5.json mutant_323\n",
      "vqe_indep_qiskit_5.json mutant_324\n",
      "vqe_indep_qiskit_5.json mutant_332\n",
      "vqe_indep_qiskit_5.json mutant_333\n",
      "vqe_indep_qiskit_5.json mutant_342\n",
      "vqe_indep_qiskit_5.json mutant_355\n",
      "vqe_indep_qiskit_5.json mutant_363\n",
      "vqe_indep_qiskit_5.json mutant_370\n",
      "vqe_indep_qiskit_5.json mutant_371\n",
      "vqe_indep_qiskit_5.json mutant_379\n",
      "vqe_indep_qiskit_5.json mutant_387\n",
      "vqe_indep_qiskit_5.json mutant_394\n",
      "vqe_indep_qiskit_5.json mutant_402\n",
      "vqe_indep_qiskit_5.json mutant_432\n",
      "vqe_indep_qiskit_5.json mutant_440\n",
      "vqe_indep_qiskit_5.json mutant_455\n",
      "vqe_indep_qiskit_5.json mutant_463\n",
      "vqe_indep_qiskit_5.json mutant_493\n",
      "vqe_indep_qiskit_5.json mutant_501\n",
      "vqe_indep_qiskit_5.json mutant_519\n",
      "vqe_indep_qiskit_5.json mutant_534\n",
      "vqe_indep_qiskit_5.json mutant_538\n",
      "vqe_indep_qiskit_5.json mutant_546\n",
      "vqe_indep_qiskit_6.json mutant_1\n",
      "vqe_indep_qiskit_6.json mutant_7\n",
      "vqe_indep_qiskit_6.json mutant_10\n",
      "vqe_indep_qiskit_6.json mutant_11\n",
      "vqe_indep_qiskit_6.json mutant_16\n",
      "vqe_indep_qiskit_6.json mutant_21\n",
      "vqe_indep_qiskit_6.json mutant_59\n",
      "vqe_indep_qiskit_6.json mutant_60\n",
      "vqe_indep_qiskit_6.json mutant_61\n",
      "vqe_indep_qiskit_6.json mutant_62\n",
      "vqe_indep_qiskit_6.json mutant_63\n",
      "vqe_indep_qiskit_6.json mutant_64\n",
      "vqe_indep_qiskit_6.json mutant_65\n",
      "vqe_indep_qiskit_6.json mutant_66\n",
      "vqe_indep_qiskit_6.json mutant_67\n",
      "vqe_indep_qiskit_6.json mutant_68\n",
      "vqe_indep_qiskit_6.json mutant_69\n",
      "vqe_indep_qiskit_6.json mutant_70\n",
      "vqe_indep_qiskit_6.json mutant_71\n",
      "vqe_indep_qiskit_6.json mutant_72\n",
      "vqe_indep_qiskit_6.json mutant_73\n",
      "vqe_indep_qiskit_6.json mutant_74\n",
      "vqe_indep_qiskit_6.json mutant_75\n",
      "vqe_indep_qiskit_6.json mutant_76\n",
      "vqe_indep_qiskit_6.json mutant_77\n",
      "vqe_indep_qiskit_6.json mutant_78\n",
      "vqe_indep_qiskit_6.json mutant_79\n",
      "vqe_indep_qiskit_6.json mutant_80\n",
      "vqe_indep_qiskit_6.json mutant_81\n",
      "vqe_indep_qiskit_6.json mutant_82\n",
      "vqe_indep_qiskit_6.json mutant_83\n",
      "vqe_indep_qiskit_6.json mutant_84\n",
      "vqe_indep_qiskit_6.json mutant_85\n",
      "vqe_indep_qiskit_6.json mutant_86\n",
      "vqe_indep_qiskit_6.json mutant_87\n",
      "vqe_indep_qiskit_6.json mutant_88\n",
      "vqe_indep_qiskit_6.json mutant_89\n",
      "vqe_indep_qiskit_6.json mutant_98\n",
      "vqe_indep_qiskit_6.json mutant_100\n",
      "vqe_indep_qiskit_6.json mutant_101\n",
      "vqe_indep_qiskit_6.json mutant_107\n",
      "vqe_indep_qiskit_6.json mutant_108\n",
      "vqe_indep_qiskit_6.json mutant_109\n",
      "vqe_indep_qiskit_6.json mutant_110\n",
      "vqe_indep_qiskit_6.json mutant_111\n",
      "vqe_indep_qiskit_6.json mutant_116\n",
      "vqe_indep_qiskit_6.json mutant_120\n",
      "vqe_indep_qiskit_6.json mutant_123\n",
      "vqe_indep_qiskit_6.json mutant_128\n",
      "vqe_indep_qiskit_6.json mutant_130\n",
      "vqe_indep_qiskit_6.json mutant_131\n",
      "vqe_indep_qiskit_6.json mutant_134\n",
      "vqe_indep_qiskit_6.json mutant_140\n",
      "vqe_indep_qiskit_6.json mutant_144\n",
      "vqe_indep_qiskit_6.json mutant_147\n",
      "vqe_indep_qiskit_6.json mutant_149\n",
      "vqe_indep_qiskit_6.json mutant_155\n",
      "vqe_indep_qiskit_6.json mutant_163\n",
      "vqe_indep_qiskit_6.json mutant_168\n",
      "vqe_indep_qiskit_6.json mutant_181\n",
      "vqe_indep_qiskit_6.json mutant_182\n",
      "vqe_indep_qiskit_6.json mutant_183\n",
      "vqe_indep_qiskit_6.json mutant_192\n",
      "vqe_indep_qiskit_6.json mutant_194\n",
      "vqe_indep_qiskit_6.json mutant_195\n",
      "vqe_indep_qiskit_6.json mutant_201\n",
      "vqe_indep_qiskit_6.json mutant_202\n",
      "vqe_indep_qiskit_6.json mutant_203\n",
      "vqe_indep_qiskit_6.json mutant_204\n",
      "vqe_indep_qiskit_6.json mutant_205\n",
      "vqe_indep_qiskit_6.json mutant_217\n",
      "vqe_indep_qiskit_6.json mutant_219\n",
      "vqe_indep_qiskit_6.json mutant_220\n",
      "vqe_indep_qiskit_6.json mutant_221\n",
      "vqe_indep_qiskit_6.json mutant_230\n",
      "vqe_indep_qiskit_6.json mutant_232\n",
      "vqe_indep_qiskit_6.json mutant_233\n",
      "vqe_indep_qiskit_6.json mutant_239\n",
      "vqe_indep_qiskit_6.json mutant_240\n",
      "vqe_indep_qiskit_6.json mutant_241\n",
      "vqe_indep_qiskit_6.json mutant_242\n",
      "vqe_indep_qiskit_6.json mutant_243\n",
      "vqe_indep_qiskit_6.json mutant_251\n",
      "vqe_indep_qiskit_6.json mutant_272\n",
      "vqe_indep_qiskit_6.json mutant_276\n",
      "vqe_indep_qiskit_6.json mutant_285\n",
      "vqe_indep_qiskit_6.json mutant_286\n",
      "vqe_indep_qiskit_6.json mutant_287\n",
      "vqe_indep_qiskit_6.json mutant_296\n",
      "vqe_indep_qiskit_6.json mutant_298\n",
      "vqe_indep_qiskit_6.json mutant_299\n",
      "vqe_indep_qiskit_6.json mutant_305\n",
      "vqe_indep_qiskit_6.json mutant_306\n",
      "vqe_indep_qiskit_6.json mutant_307\n",
      "vqe_indep_qiskit_6.json mutant_308\n",
      "vqe_indep_qiskit_6.json mutant_309\n",
      "vqe_indep_qiskit_6.json mutant_328\n",
      "vqe_indep_qiskit_6.json mutant_332\n",
      "vqe_indep_qiskit_6.json mutant_369\n",
      "vqe_indep_qiskit_6.json mutant_370\n",
      "vqe_indep_qiskit_6.json mutant_371\n",
      "vqe_indep_qiskit_6.json mutant_380\n",
      "vqe_indep_qiskit_6.json mutant_382\n",
      "vqe_indep_qiskit_6.json mutant_383\n",
      "vqe_indep_qiskit_6.json mutant_389\n",
      "vqe_indep_qiskit_6.json mutant_390\n",
      "vqe_indep_qiskit_6.json mutant_391\n",
      "vqe_indep_qiskit_6.json mutant_392\n",
      "vqe_indep_qiskit_6.json mutant_393\n",
      "vqe_indep_qiskit_6.json mutant_397\n",
      "vqe_indep_qiskit_6.json mutant_402\n",
      "vqe_indep_qiskit_6.json mutant_407\n",
      "vqe_indep_qiskit_6.json mutant_425\n",
      "vqe_indep_qiskit_6.json mutant_435\n",
      "vqe_indep_qiskit_6.json mutant_463\n",
      "vqe_indep_qiskit_6.json mutant_481\n",
      "vqe_indep_qiskit_6.json mutant_527\n",
      "vqe_indep_qiskit_6.json mutant_550\n",
      "vqe_indep_qiskit_6.json mutant_555\n",
      "vqe_indep_qiskit_6.json mutant_601\n",
      "vqe_indep_qiskit_6.json mutant_620\n",
      "vqe_indep_qiskit_6.json mutant_627\n",
      "vqe_indep_qiskit_6.json mutant_635\n",
      "vqe_indep_qiskit_6.json mutant_638\n",
      "vqe_indep_qiskit_6.json mutant_645\n",
      "vqe_indep_qiskit_6.json mutant_653\n",
      "vqe_indep_qiskit_6.json mutant_655\n",
      "vqe_indep_qiskit_7.json mutant_2\n",
      "vqe_indep_qiskit_7.json mutant_3\n",
      "vqe_indep_qiskit_7.json mutant_8\n",
      "vqe_indep_qiskit_7.json mutant_9\n",
      "vqe_indep_qiskit_7.json mutant_14\n",
      "vqe_indep_qiskit_7.json mutant_16\n",
      "vqe_indep_qiskit_7.json mutant_17\n",
      "vqe_indep_qiskit_7.json mutant_20\n",
      "vqe_indep_qiskit_7.json mutant_21\n",
      "vqe_indep_qiskit_7.json mutant_23\n",
      "vqe_indep_qiskit_7.json mutant_26\n",
      "vqe_indep_qiskit_7.json mutant_27\n",
      "vqe_indep_qiskit_7.json mutant_32\n",
      "vqe_indep_qiskit_7.json mutant_33\n",
      "vqe_indep_qiskit_7.json mutant_70\n",
      "vqe_indep_qiskit_7.json mutant_71\n",
      "vqe_indep_qiskit_7.json mutant_72\n",
      "vqe_indep_qiskit_7.json mutant_73\n",
      "vqe_indep_qiskit_7.json mutant_74\n",
      "vqe_indep_qiskit_7.json mutant_75\n",
      "vqe_indep_qiskit_7.json mutant_76\n",
      "vqe_indep_qiskit_7.json mutant_77\n",
      "vqe_indep_qiskit_7.json mutant_78\n",
      "vqe_indep_qiskit_7.json mutant_79\n",
      "vqe_indep_qiskit_7.json mutant_80\n",
      "vqe_indep_qiskit_7.json mutant_81\n",
      "vqe_indep_qiskit_7.json mutant_82\n",
      "vqe_indep_qiskit_7.json mutant_83\n",
      "vqe_indep_qiskit_7.json mutant_84\n",
      "vqe_indep_qiskit_7.json mutant_85\n",
      "vqe_indep_qiskit_7.json mutant_86\n",
      "vqe_indep_qiskit_7.json mutant_87\n",
      "vqe_indep_qiskit_7.json mutant_88\n",
      "vqe_indep_qiskit_7.json mutant_89\n",
      "vqe_indep_qiskit_7.json mutant_90\n",
      "vqe_indep_qiskit_7.json mutant_91\n",
      "vqe_indep_qiskit_7.json mutant_92\n",
      "vqe_indep_qiskit_7.json mutant_93\n",
      "vqe_indep_qiskit_7.json mutant_94\n",
      "vqe_indep_qiskit_7.json mutant_95\n",
      "vqe_indep_qiskit_7.json mutant_96\n",
      "vqe_indep_qiskit_7.json mutant_97\n",
      "vqe_indep_qiskit_7.json mutant_98\n",
      "vqe_indep_qiskit_7.json mutant_99\n",
      "vqe_indep_qiskit_7.json mutant_100\n",
      "vqe_indep_qiskit_7.json mutant_101\n",
      "vqe_indep_qiskit_7.json mutant_102\n",
      "vqe_indep_qiskit_7.json mutant_103\n",
      "vqe_indep_qiskit_7.json mutant_105\n",
      "vqe_indep_qiskit_7.json mutant_106\n",
      "vqe_indep_qiskit_7.json mutant_107\n",
      "vqe_indep_qiskit_7.json mutant_108\n",
      "vqe_indep_qiskit_7.json mutant_109\n",
      "vqe_indep_qiskit_7.json mutant_110\n",
      "vqe_indep_qiskit_7.json mutant_111\n",
      "vqe_indep_qiskit_7.json mutant_114\n",
      "vqe_indep_qiskit_7.json mutant_119\n",
      "vqe_indep_qiskit_7.json mutant_120\n",
      "vqe_indep_qiskit_7.json mutant_121\n",
      "vqe_indep_qiskit_7.json mutant_122\n",
      "vqe_indep_qiskit_7.json mutant_124\n",
      "vqe_indep_qiskit_7.json mutant_125\n",
      "vqe_indep_qiskit_7.json mutant_129\n",
      "vqe_indep_qiskit_7.json mutant_130\n",
      "vqe_indep_qiskit_7.json mutant_131\n",
      "vqe_indep_qiskit_7.json mutant_132\n",
      "vqe_indep_qiskit_7.json mutant_134\n",
      "vqe_indep_qiskit_7.json mutant_145\n",
      "vqe_indep_qiskit_7.json mutant_146\n",
      "vqe_indep_qiskit_7.json mutant_148\n",
      "vqe_indep_qiskit_7.json mutant_150\n",
      "vqe_indep_qiskit_7.json mutant_154\n",
      "vqe_indep_qiskit_7.json mutant_155\n",
      "vqe_indep_qiskit_7.json mutant_160\n",
      "vqe_indep_qiskit_7.json mutant_161\n",
      "vqe_indep_qiskit_7.json mutant_166\n",
      "vqe_indep_qiskit_7.json mutant_172\n",
      "vqe_indep_qiskit_7.json mutant_173\n",
      "vqe_indep_qiskit_7.json mutant_175\n",
      "vqe_indep_qiskit_7.json mutant_178\n",
      "vqe_indep_qiskit_7.json mutant_188\n",
      "vqe_indep_qiskit_7.json mutant_196\n",
      "vqe_indep_qiskit_7.json mutant_199\n",
      "vqe_indep_qiskit_7.json mutant_200\n",
      "vqe_indep_qiskit_7.json mutant_203\n",
      "vqe_indep_qiskit_7.json mutant_211\n",
      "vqe_indep_qiskit_7.json mutant_214\n",
      "vqe_indep_qiskit_7.json mutant_216\n",
      "vqe_indep_qiskit_7.json mutant_217\n",
      "vqe_indep_qiskit_7.json mutant_218\n",
      "vqe_indep_qiskit_7.json mutant_219\n",
      "vqe_indep_qiskit_7.json mutant_224\n",
      "vqe_indep_qiskit_7.json mutant_225\n",
      "vqe_indep_qiskit_7.json mutant_229\n",
      "vqe_indep_qiskit_7.json mutant_230\n",
      "vqe_indep_qiskit_7.json mutant_231\n",
      "vqe_indep_qiskit_7.json mutant_232\n",
      "vqe_indep_qiskit_7.json mutant_233\n",
      "vqe_indep_qiskit_7.json mutant_234\n",
      "vqe_indep_qiskit_7.json mutant_235\n",
      "vqe_indep_qiskit_7.json mutant_236\n",
      "vqe_indep_qiskit_7.json mutant_237\n",
      "vqe_indep_qiskit_7.json mutant_238\n",
      "vqe_indep_qiskit_7.json mutant_240\n",
      "vqe_indep_qiskit_7.json mutant_241\n",
      "vqe_indep_qiskit_7.json mutant_242\n",
      "vqe_indep_qiskit_7.json mutant_243\n",
      "vqe_indep_qiskit_7.json mutant_245\n",
      "vqe_indep_qiskit_7.json mutant_249\n",
      "vqe_indep_qiskit_7.json mutant_251\n",
      "vqe_indep_qiskit_7.json mutant_255\n",
      "vqe_indep_qiskit_7.json mutant_259\n",
      "vqe_indep_qiskit_7.json mutant_261\n",
      "vqe_indep_qiskit_7.json mutant_262\n",
      "vqe_indep_qiskit_7.json mutant_263\n",
      "vqe_indep_qiskit_7.json mutant_264\n",
      "vqe_indep_qiskit_7.json mutant_270\n",
      "vqe_indep_qiskit_7.json mutant_275\n",
      "vqe_indep_qiskit_7.json mutant_276\n",
      "vqe_indep_qiskit_7.json mutant_277\n",
      "vqe_indep_qiskit_7.json mutant_278\n",
      "vqe_indep_qiskit_7.json mutant_281\n",
      "vqe_indep_qiskit_7.json mutant_285\n",
      "vqe_indep_qiskit_7.json mutant_286\n",
      "vqe_indep_qiskit_7.json mutant_287\n",
      "vqe_indep_qiskit_7.json mutant_288\n",
      "vqe_indep_qiskit_7.json mutant_295\n",
      "vqe_indep_qiskit_7.json mutant_300\n",
      "vqe_indep_qiskit_7.json mutant_301\n",
      "vqe_indep_qiskit_7.json mutant_313\n",
      "vqe_indep_qiskit_7.json mutant_314\n",
      "vqe_indep_qiskit_7.json mutant_316\n",
      "vqe_indep_qiskit_7.json mutant_328\n",
      "vqe_indep_qiskit_7.json mutant_329\n",
      "vqe_indep_qiskit_7.json mutant_334\n",
      "vqe_indep_qiskit_7.json mutant_337\n",
      "vqe_indep_qiskit_7.json mutant_339\n",
      "vqe_indep_qiskit_7.json mutant_340\n",
      "vqe_indep_qiskit_7.json mutant_341\n",
      "vqe_indep_qiskit_7.json mutant_342\n",
      "vqe_indep_qiskit_7.json mutant_348\n",
      "vqe_indep_qiskit_7.json mutant_353\n",
      "vqe_indep_qiskit_7.json mutant_354\n",
      "vqe_indep_qiskit_7.json mutant_355\n",
      "vqe_indep_qiskit_7.json mutant_356\n",
      "vqe_indep_qiskit_7.json mutant_359\n",
      "vqe_indep_qiskit_7.json mutant_363\n",
      "vqe_indep_qiskit_7.json mutant_364\n",
      "vqe_indep_qiskit_7.json mutant_365\n",
      "vqe_indep_qiskit_7.json mutant_366\n",
      "vqe_indep_qiskit_7.json mutant_379\n",
      "vqe_indep_qiskit_7.json mutant_380\n",
      "vqe_indep_qiskit_7.json mutant_382\n",
      "vqe_indep_qiskit_7.json mutant_394\n",
      "vqe_indep_qiskit_7.json mutant_395\n",
      "vqe_indep_qiskit_7.json mutant_400\n",
      "vqe_indep_qiskit_7.json mutant_436\n",
      "vqe_indep_qiskit_7.json mutant_438\n",
      "vqe_indep_qiskit_7.json mutant_439\n",
      "vqe_indep_qiskit_7.json mutant_440\n",
      "vqe_indep_qiskit_7.json mutant_441\n",
      "vqe_indep_qiskit_7.json mutant_447\n",
      "vqe_indep_qiskit_7.json mutant_452\n",
      "vqe_indep_qiskit_7.json mutant_453\n",
      "vqe_indep_qiskit_7.json mutant_454\n",
      "vqe_indep_qiskit_7.json mutant_455\n",
      "vqe_indep_qiskit_7.json mutant_458\n",
      "vqe_indep_qiskit_7.json mutant_462\n",
      "vqe_indep_qiskit_7.json mutant_463\n",
      "vqe_indep_qiskit_7.json mutant_464\n",
      "vqe_indep_qiskit_7.json mutant_465\n",
      "vqe_indep_qiskit_7.json mutant_470\n",
      "vqe_indep_qiskit_7.json mutant_472\n",
      "vqe_indep_qiskit_7.json mutant_473\n",
      "vqe_indep_qiskit_7.json mutant_476\n",
      "vqe_indep_qiskit_7.json mutant_477\n",
      "vqe_indep_qiskit_7.json mutant_479\n",
      "vqe_indep_qiskit_7.json mutant_482\n",
      "vqe_indep_qiskit_7.json mutant_488\n",
      "vqe_indep_qiskit_7.json mutant_503\n",
      "vqe_indep_qiskit_7.json mutant_509\n",
      "vqe_indep_qiskit_7.json mutant_510\n",
      "vqe_indep_qiskit_7.json mutant_515\n",
      "vqe_indep_qiskit_7.json mutant_521\n",
      "vqe_indep_qiskit_7.json mutant_522\n",
      "vqe_indep_qiskit_7.json mutant_541\n",
      "vqe_indep_qiskit_7.json mutant_553\n",
      "vqe_indep_qiskit_7.json mutant_555\n",
      "vqe_indep_qiskit_7.json mutant_576\n",
      "vqe_indep_qiskit_7.json mutant_591\n",
      "vqe_indep_qiskit_7.json mutant_595\n",
      "vqe_indep_qiskit_7.json mutant_613\n",
      "vqe_indep_qiskit_7.json mutant_620\n",
      "vqe_indep_qiskit_7.json mutant_630\n",
      "vqe_indep_qiskit_7.json mutant_651\n",
      "vqe_indep_qiskit_7.json mutant_663\n",
      "vqe_indep_qiskit_7.json mutant_679\n",
      "vqe_indep_qiskit_7.json mutant_684\n",
      "vqe_indep_qiskit_7.json mutant_694\n",
      "vqe_indep_qiskit_7.json mutant_717\n",
      "vqe_indep_qiskit_7.json mutant_730\n",
      "vqe_indep_qiskit_7.json mutant_731\n",
      "vqe_indep_qiskit_7.json mutant_732\n",
      "vqe_indep_qiskit_7.json mutant_736\n",
      "vqe_indep_qiskit_7.json mutant_739\n",
      "vqe_indep_qiskit_7.json mutant_751\n",
      "vqe_indep_qiskit_7.json mutant_752\n",
      "vqe_indep_qiskit_7.json mutant_753\n",
      "vqe_indep_qiskit_7.json mutant_758\n",
      "vqe_indep_qiskit_7.json mutant_760\n",
      "vqe_indep_qiskit_7.json mutant_779\n",
      "vqe_indep_qiskit_7.json mutant_780\n",
      "vqe_indep_qiskit_8.json mutant_3\n",
      "vqe_indep_qiskit_8.json mutant_4\n",
      "vqe_indep_qiskit_8.json mutant_5\n",
      "vqe_indep_qiskit_8.json mutant_12\n",
      "vqe_indep_qiskit_8.json mutant_14\n",
      "vqe_indep_qiskit_8.json mutant_17\n",
      "vqe_indep_qiskit_8.json mutant_19\n",
      "vqe_indep_qiskit_8.json mutant_26\n",
      "vqe_indep_qiskit_8.json mutant_31\n",
      "vqe_indep_qiskit_8.json mutant_32\n",
      "vqe_indep_qiskit_8.json mutant_33\n",
      "vqe_indep_qiskit_8.json mutant_40\n",
      "vqe_indep_qiskit_8.json mutant_81\n",
      "vqe_indep_qiskit_8.json mutant_82\n",
      "vqe_indep_qiskit_8.json mutant_83\n",
      "vqe_indep_qiskit_8.json mutant_84\n",
      "vqe_indep_qiskit_8.json mutant_85\n",
      "vqe_indep_qiskit_8.json mutant_86\n",
      "vqe_indep_qiskit_8.json mutant_87\n",
      "vqe_indep_qiskit_8.json mutant_88\n",
      "vqe_indep_qiskit_8.json mutant_89\n",
      "vqe_indep_qiskit_8.json mutant_90\n",
      "vqe_indep_qiskit_8.json mutant_91\n",
      "vqe_indep_qiskit_8.json mutant_92\n",
      "vqe_indep_qiskit_8.json mutant_93\n",
      "vqe_indep_qiskit_8.json mutant_94\n",
      "vqe_indep_qiskit_8.json mutant_95\n",
      "vqe_indep_qiskit_8.json mutant_96\n",
      "vqe_indep_qiskit_8.json mutant_97\n",
      "vqe_indep_qiskit_8.json mutant_98\n",
      "vqe_indep_qiskit_8.json mutant_99\n",
      "vqe_indep_qiskit_8.json mutant_100\n",
      "vqe_indep_qiskit_8.json mutant_101\n",
      "vqe_indep_qiskit_8.json mutant_102\n",
      "vqe_indep_qiskit_8.json mutant_103\n",
      "vqe_indep_qiskit_8.json mutant_104\n",
      "vqe_indep_qiskit_8.json mutant_105\n",
      "vqe_indep_qiskit_8.json mutant_106\n",
      "vqe_indep_qiskit_8.json mutant_107\n",
      "vqe_indep_qiskit_8.json mutant_108\n",
      "vqe_indep_qiskit_8.json mutant_109\n",
      "vqe_indep_qiskit_8.json mutant_110\n",
      "vqe_indep_qiskit_8.json mutant_111\n",
      "vqe_indep_qiskit_8.json mutant_112\n",
      "vqe_indep_qiskit_8.json mutant_113\n",
      "vqe_indep_qiskit_8.json mutant_114\n",
      "vqe_indep_qiskit_8.json mutant_115\n",
      "vqe_indep_qiskit_8.json mutant_116\n",
      "vqe_indep_qiskit_8.json mutant_117\n",
      "vqe_indep_qiskit_8.json mutant_118\n",
      "vqe_indep_qiskit_8.json mutant_119\n",
      "vqe_indep_qiskit_8.json mutant_122\n",
      "vqe_indep_qiskit_8.json mutant_123\n",
      "vqe_indep_qiskit_8.json mutant_124\n",
      "vqe_indep_qiskit_8.json mutant_125\n",
      "vqe_indep_qiskit_8.json mutant_129\n",
      "vqe_indep_qiskit_8.json mutant_130\n",
      "vqe_indep_qiskit_8.json mutant_132\n",
      "vqe_indep_qiskit_8.json mutant_140\n",
      "vqe_indep_qiskit_8.json mutant_141\n",
      "vqe_indep_qiskit_8.json mutant_142\n",
      "vqe_indep_qiskit_8.json mutant_146\n",
      "vqe_indep_qiskit_8.json mutant_147\n",
      "vqe_indep_qiskit_8.json mutant_148\n",
      "vqe_indep_qiskit_8.json mutant_149\n",
      "vqe_indep_qiskit_8.json mutant_150\n",
      "vqe_indep_qiskit_8.json mutant_151\n",
      "vqe_indep_qiskit_8.json mutant_152\n",
      "vqe_indep_qiskit_8.json mutant_153\n",
      "vqe_indep_qiskit_8.json mutant_154\n",
      "vqe_indep_qiskit_8.json mutant_158\n",
      "vqe_indep_qiskit_8.json mutant_159\n",
      "vqe_indep_qiskit_8.json mutant_162\n",
      "vqe_indep_qiskit_8.json mutant_169\n",
      "vqe_indep_qiskit_8.json mutant_175\n",
      "vqe_indep_qiskit_8.json mutant_178\n",
      "vqe_indep_qiskit_8.json mutant_180\n",
      "vqe_indep_qiskit_8.json mutant_183\n",
      "vqe_indep_qiskit_8.json mutant_194\n",
      "vqe_indep_qiskit_8.json mutant_203\n",
      "vqe_indep_qiskit_8.json mutant_205\n",
      "vqe_indep_qiskit_8.json mutant_207\n",
      "vqe_indep_qiskit_8.json mutant_210\n",
      "vqe_indep_qiskit_8.json mutant_233\n",
      "vqe_indep_qiskit_8.json mutant_240\n",
      "vqe_indep_qiskit_8.json mutant_244\n",
      "vqe_indep_qiskit_8.json mutant_246\n",
      "vqe_indep_qiskit_8.json mutant_247\n",
      "vqe_indep_qiskit_8.json mutant_250\n",
      "vqe_indep_qiskit_8.json mutant_252\n",
      "vqe_indep_qiskit_8.json mutant_253\n",
      "vqe_indep_qiskit_8.json mutant_258\n",
      "vqe_indep_qiskit_8.json mutant_267\n",
      "vqe_indep_qiskit_8.json mutant_268\n",
      "vqe_indep_qiskit_8.json mutant_269\n",
      "vqe_indep_qiskit_8.json mutant_270\n",
      "vqe_indep_qiskit_8.json mutant_274\n",
      "vqe_indep_qiskit_8.json mutant_275\n",
      "vqe_indep_qiskit_8.json mutant_276\n",
      "vqe_indep_qiskit_8.json mutant_278\n",
      "vqe_indep_qiskit_8.json mutant_279\n",
      "vqe_indep_qiskit_8.json mutant_280\n",
      "vqe_indep_qiskit_8.json mutant_281\n",
      "vqe_indep_qiskit_8.json mutant_282\n",
      "vqe_indep_qiskit_8.json mutant_285\n",
      "vqe_indep_qiskit_8.json mutant_286\n",
      "vqe_indep_qiskit_8.json mutant_291\n",
      "vqe_indep_qiskit_8.json mutant_292\n",
      "vqe_indep_qiskit_8.json mutant_293\n",
      "vqe_indep_qiskit_8.json mutant_295\n",
      "vqe_indep_qiskit_8.json mutant_299\n",
      "vqe_indep_qiskit_8.json mutant_302\n",
      "vqe_indep_qiskit_8.json mutant_304\n",
      "vqe_indep_qiskit_8.json mutant_305\n",
      "vqe_indep_qiskit_8.json mutant_310\n",
      "vqe_indep_qiskit_8.json mutant_320\n",
      "vqe_indep_qiskit_8.json mutant_321\n",
      "vqe_indep_qiskit_8.json mutant_322\n",
      "vqe_indep_qiskit_8.json mutant_326\n",
      "vqe_indep_qiskit_8.json mutant_327\n",
      "vqe_indep_qiskit_8.json mutant_328\n",
      "vqe_indep_qiskit_8.json mutant_330\n",
      "vqe_indep_qiskit_8.json mutant_331\n",
      "vqe_indep_qiskit_8.json mutant_332\n",
      "vqe_indep_qiskit_8.json mutant_333\n",
      "vqe_indep_qiskit_8.json mutant_334\n",
      "vqe_indep_qiskit_8.json mutant_343\n",
      "vqe_indep_qiskit_8.json mutant_344\n",
      "vqe_indep_qiskit_8.json mutant_345\n",
      "vqe_indep_qiskit_8.json mutant_352\n",
      "vqe_indep_qiskit_8.json mutant_353\n",
      "vqe_indep_qiskit_8.json mutant_377\n",
      "vqe_indep_qiskit_8.json mutant_388\n",
      "vqe_indep_qiskit_8.json mutant_389\n",
      "vqe_indep_qiskit_8.json mutant_392\n",
      "vqe_indep_qiskit_8.json mutant_394\n",
      "vqe_indep_qiskit_8.json mutant_395\n",
      "vqe_indep_qiskit_8.json mutant_400\n",
      "vqe_indep_qiskit_8.json mutant_410\n",
      "vqe_indep_qiskit_8.json mutant_411\n",
      "vqe_indep_qiskit_8.json mutant_412\n",
      "vqe_indep_qiskit_8.json mutant_416\n",
      "vqe_indep_qiskit_8.json mutant_417\n",
      "vqe_indep_qiskit_8.json mutant_418\n",
      "vqe_indep_qiskit_8.json mutant_420\n",
      "vqe_indep_qiskit_8.json mutant_421\n",
      "vqe_indep_qiskit_8.json mutant_422\n",
      "vqe_indep_qiskit_8.json mutant_423\n",
      "vqe_indep_qiskit_8.json mutant_424\n",
      "vqe_indep_qiskit_8.json mutant_428\n",
      "vqe_indep_qiskit_8.json mutant_429\n",
      "vqe_indep_qiskit_8.json mutant_453\n",
      "vqe_indep_qiskit_8.json mutant_464\n",
      "vqe_indep_qiskit_8.json mutant_479\n",
      "vqe_indep_qiskit_8.json mutant_503\n",
      "vqe_indep_qiskit_8.json mutant_506\n",
      "vqe_indep_qiskit_8.json mutant_508\n",
      "vqe_indep_qiskit_8.json mutant_509\n",
      "vqe_indep_qiskit_8.json mutant_514\n",
      "vqe_indep_qiskit_8.json mutant_524\n",
      "vqe_indep_qiskit_8.json mutant_525\n",
      "vqe_indep_qiskit_8.json mutant_526\n",
      "vqe_indep_qiskit_8.json mutant_530\n",
      "vqe_indep_qiskit_8.json mutant_531\n",
      "vqe_indep_qiskit_8.json mutant_532\n",
      "vqe_indep_qiskit_8.json mutant_534\n",
      "vqe_indep_qiskit_8.json mutant_535\n",
      "vqe_indep_qiskit_8.json mutant_536\n",
      "vqe_indep_qiskit_8.json mutant_537\n",
      "vqe_indep_qiskit_8.json mutant_538\n",
      "vqe_indep_qiskit_8.json mutant_543\n",
      "vqe_indep_qiskit_8.json mutant_545\n",
      "vqe_indep_qiskit_8.json mutant_552\n",
      "vqe_indep_qiskit_8.json mutant_555\n",
      "vqe_indep_qiskit_8.json mutant_557\n",
      "vqe_indep_qiskit_8.json mutant_562\n",
      "vqe_indep_qiskit_8.json mutant_565\n",
      "vqe_indep_qiskit_8.json mutant_567\n",
      "vqe_indep_qiskit_8.json mutant_571\n",
      "vqe_indep_qiskit_8.json mutant_581\n",
      "vqe_indep_qiskit_8.json mutant_583\n",
      "vqe_indep_qiskit_8.json mutant_590\n",
      "vqe_indep_qiskit_8.json mutant_595\n",
      "vqe_indep_qiskit_8.json mutant_597\n",
      "vqe_indep_qiskit_8.json mutant_604\n",
      "vqe_indep_qiskit_8.json mutant_621\n",
      "vqe_indep_qiskit_8.json mutant_631\n",
      "vqe_indep_qiskit_8.json mutant_632\n",
      "vqe_indep_qiskit_8.json mutant_640\n",
      "vqe_indep_qiskit_8.json mutant_641\n",
      "vqe_indep_qiskit_8.json mutant_642\n",
      "vqe_indep_qiskit_8.json mutant_646\n",
      "vqe_indep_qiskit_8.json mutant_655\n",
      "vqe_indep_qiskit_8.json mutant_656\n",
      "vqe_indep_qiskit_8.json mutant_665\n",
      "vqe_indep_qiskit_8.json mutant_666\n",
      "vqe_indep_qiskit_8.json mutant_670\n",
      "vqe_indep_qiskit_8.json mutant_689\n",
      "vqe_indep_qiskit_8.json mutant_702\n",
      "vqe_indep_qiskit_8.json mutant_717\n",
      "vqe_indep_qiskit_8.json mutant_718\n",
      "vqe_indep_qiskit_8.json mutant_727\n",
      "vqe_indep_qiskit_8.json mutant_728\n",
      "vqe_indep_qiskit_8.json mutant_732\n",
      "vqe_indep_qiskit_8.json mutant_752\n",
      "vqe_indep_qiskit_8.json mutant_755\n",
      "vqe_indep_qiskit_8.json mutant_756\n",
      "vqe_indep_qiskit_8.json mutant_765\n",
      "vqe_indep_qiskit_8.json mutant_766\n",
      "vqe_indep_qiskit_8.json mutant_770\n",
      "vqe_indep_qiskit_8.json mutant_817\n",
      "vqe_indep_qiskit_8.json mutant_818\n",
      "vqe_indep_qiskit_8.json mutant_827\n",
      "vqe_indep_qiskit_8.json mutant_828\n",
      "vqe_indep_qiskit_8.json mutant_832\n",
      "vqe_indep_qiskit_8.json mutant_857\n",
      "vqe_indep_qiskit_8.json mutant_858\n",
      "vqe_indep_qiskit_8.json mutant_864\n",
      "vqe_indep_qiskit_8.json mutant_874\n",
      "vqe_indep_qiskit_8.json mutant_881\n",
      "vqe_indep_qiskit_8.json mutant_882\n",
      "vqe_indep_qiskit_8.json mutant_888\n",
      "vqe_indep_qiskit_8.json mutant_889\n",
      "vqe_indep_qiskit_8.json mutant_890\n",
      "vqe_indep_qiskit_8.json mutant_899\n",
      "vqe_indep_qiskit_8.json mutant_900\n",
      "vqe_indep_qiskit_8.json mutant_904\n"
     ]
    },
    {
     "name": "stdout",
     "output_type": "stream",
     "text": [
      "vqe_indep_qiskit_9.json mutant_2\n",
      "vqe_indep_qiskit_9.json mutant_3\n",
      "vqe_indep_qiskit_9.json mutant_4\n",
      "vqe_indep_qiskit_9.json mutant_7\n",
      "vqe_indep_qiskit_9.json mutant_13\n",
      "vqe_indep_qiskit_9.json mutant_18\n",
      "vqe_indep_qiskit_9.json mutant_34\n",
      "vqe_indep_qiskit_9.json mutant_35\n",
      "vqe_indep_qiskit_9.json mutant_36\n",
      "vqe_indep_qiskit_9.json mutant_39\n",
      "vqe_indep_qiskit_9.json mutant_45\n",
      "vqe_indep_qiskit_9.json mutant_92\n",
      "vqe_indep_qiskit_9.json mutant_93\n",
      "vqe_indep_qiskit_9.json mutant_94\n",
      "vqe_indep_qiskit_9.json mutant_95\n",
      "vqe_indep_qiskit_9.json mutant_96\n",
      "vqe_indep_qiskit_9.json mutant_97\n",
      "vqe_indep_qiskit_9.json mutant_98\n",
      "vqe_indep_qiskit_9.json mutant_99\n",
      "vqe_indep_qiskit_9.json mutant_100\n",
      "vqe_indep_qiskit_9.json mutant_101\n",
      "vqe_indep_qiskit_9.json mutant_102\n",
      "vqe_indep_qiskit_9.json mutant_103\n",
      "vqe_indep_qiskit_9.json mutant_104\n",
      "vqe_indep_qiskit_9.json mutant_105\n",
      "vqe_indep_qiskit_9.json mutant_106\n",
      "vqe_indep_qiskit_9.json mutant_107\n",
      "vqe_indep_qiskit_9.json mutant_108\n",
      "vqe_indep_qiskit_9.json mutant_109\n",
      "vqe_indep_qiskit_9.json mutant_110\n",
      "vqe_indep_qiskit_9.json mutant_111\n",
      "vqe_indep_qiskit_9.json mutant_112\n",
      "vqe_indep_qiskit_9.json mutant_113\n",
      "vqe_indep_qiskit_9.json mutant_114\n",
      "vqe_indep_qiskit_9.json mutant_115\n",
      "vqe_indep_qiskit_9.json mutant_116\n",
      "vqe_indep_qiskit_9.json mutant_117\n",
      "vqe_indep_qiskit_9.json mutant_118\n",
      "vqe_indep_qiskit_9.json mutant_119\n",
      "vqe_indep_qiskit_9.json mutant_120\n",
      "vqe_indep_qiskit_9.json mutant_121\n",
      "vqe_indep_qiskit_9.json mutant_122\n",
      "vqe_indep_qiskit_9.json mutant_123\n",
      "vqe_indep_qiskit_9.json mutant_124\n",
      "vqe_indep_qiskit_9.json mutant_125\n",
      "vqe_indep_qiskit_9.json mutant_126\n",
      "vqe_indep_qiskit_9.json mutant_127\n",
      "vqe_indep_qiskit_9.json mutant_128\n",
      "vqe_indep_qiskit_9.json mutant_129\n",
      "vqe_indep_qiskit_9.json mutant_130\n",
      "vqe_indep_qiskit_9.json mutant_131\n",
      "vqe_indep_qiskit_9.json mutant_132\n",
      "vqe_indep_qiskit_9.json mutant_133\n",
      "vqe_indep_qiskit_9.json mutant_134\n",
      "vqe_indep_qiskit_9.json mutant_135\n",
      "vqe_indep_qiskit_9.json mutant_136\n",
      "vqe_indep_qiskit_9.json mutant_137\n",
      "vqe_indep_qiskit_9.json mutant_138\n",
      "vqe_indep_qiskit_9.json mutant_139\n",
      "vqe_indep_qiskit_9.json mutant_141\n",
      "vqe_indep_qiskit_9.json mutant_142\n",
      "vqe_indep_qiskit_9.json mutant_143\n",
      "vqe_indep_qiskit_9.json mutant_144\n",
      "vqe_indep_qiskit_9.json mutant_146\n",
      "vqe_indep_qiskit_9.json mutant_148\n",
      "vqe_indep_qiskit_9.json mutant_149\n",
      "vqe_indep_qiskit_9.json mutant_151\n",
      "vqe_indep_qiskit_9.json mutant_155\n",
      "vqe_indep_qiskit_9.json mutant_157\n",
      "vqe_indep_qiskit_9.json mutant_161\n",
      "vqe_indep_qiskit_9.json mutant_165\n",
      "vqe_indep_qiskit_9.json mutant_166\n",
      "vqe_indep_qiskit_9.json mutant_168\n",
      "vqe_indep_qiskit_9.json mutant_169\n",
      "vqe_indep_qiskit_9.json mutant_172\n",
      "vqe_indep_qiskit_9.json mutant_173\n",
      "vqe_indep_qiskit_9.json mutant_174\n",
      "vqe_indep_qiskit_9.json mutant_175\n",
      "vqe_indep_qiskit_9.json mutant_176\n",
      "vqe_indep_qiskit_9.json mutant_177\n",
      "vqe_indep_qiskit_9.json mutant_183\n",
      "vqe_indep_qiskit_9.json mutant_198\n",
      "vqe_indep_qiskit_9.json mutant_199\n",
      "vqe_indep_qiskit_9.json mutant_202\n",
      "vqe_indep_qiskit_9.json mutant_203\n",
      "vqe_indep_qiskit_9.json mutant_204\n",
      "vqe_indep_qiskit_9.json mutant_205\n",
      "vqe_indep_qiskit_9.json mutant_206\n",
      "vqe_indep_qiskit_9.json mutant_207\n",
      "vqe_indep_qiskit_9.json mutant_209\n",
      "vqe_indep_qiskit_9.json mutant_210\n",
      "vqe_indep_qiskit_9.json mutant_212\n",
      "vqe_indep_qiskit_9.json mutant_218\n",
      "vqe_indep_qiskit_9.json mutant_220\n",
      "vqe_indep_qiskit_9.json mutant_229\n",
      "vqe_indep_qiskit_9.json mutant_230\n",
      "vqe_indep_qiskit_9.json mutant_231\n",
      "vqe_indep_qiskit_9.json mutant_233\n",
      "vqe_indep_qiskit_9.json mutant_234\n",
      "vqe_indep_qiskit_9.json mutant_235\n",
      "vqe_indep_qiskit_9.json mutant_249\n",
      "vqe_indep_qiskit_9.json mutant_251\n",
      "vqe_indep_qiskit_9.json mutant_257\n",
      "vqe_indep_qiskit_9.json mutant_265\n",
      "vqe_indep_qiskit_9.json mutant_268\n",
      "vqe_indep_qiskit_9.json mutant_271\n",
      "vqe_indep_qiskit_9.json mutant_275\n",
      "vqe_indep_qiskit_9.json mutant_278\n",
      "vqe_indep_qiskit_9.json mutant_280\n",
      "vqe_indep_qiskit_9.json mutant_281\n",
      "vqe_indep_qiskit_9.json mutant_282\n",
      "vqe_indep_qiskit_9.json mutant_283\n",
      "vqe_indep_qiskit_9.json mutant_284\n",
      "vqe_indep_qiskit_9.json mutant_286\n",
      "vqe_indep_qiskit_9.json mutant_287\n",
      "vqe_indep_qiskit_9.json mutant_288\n",
      "vqe_indep_qiskit_9.json mutant_289\n",
      "vqe_indep_qiskit_9.json mutant_290\n",
      "vqe_indep_qiskit_9.json mutant_291\n",
      "vqe_indep_qiskit_9.json mutant_293\n",
      "vqe_indep_qiskit_9.json mutant_294\n",
      "vqe_indep_qiskit_9.json mutant_295\n",
      "vqe_indep_qiskit_9.json mutant_299\n",
      "vqe_indep_qiskit_9.json mutant_302\n",
      "vqe_indep_qiskit_9.json mutant_310\n",
      "vqe_indep_qiskit_9.json mutant_311\n",
      "vqe_indep_qiskit_9.json mutant_312\n",
      "vqe_indep_qiskit_9.json mutant_313\n",
      "vqe_indep_qiskit_9.json mutant_314\n",
      "vqe_indep_qiskit_9.json mutant_317\n",
      "vqe_indep_qiskit_9.json mutant_318\n",
      "vqe_indep_qiskit_9.json mutant_319\n",
      "vqe_indep_qiskit_9.json mutant_320\n",
      "vqe_indep_qiskit_9.json mutant_321\n",
      "vqe_indep_qiskit_9.json mutant_325\n",
      "vqe_indep_qiskit_9.json mutant_326\n",
      "vqe_indep_qiskit_9.json mutant_329\n",
      "vqe_indep_qiskit_9.json mutant_332\n",
      "vqe_indep_qiskit_9.json mutant_334\n",
      "vqe_indep_qiskit_9.json mutant_335\n",
      "vqe_indep_qiskit_9.json mutant_337\n",
      "vqe_indep_qiskit_9.json mutant_339\n",
      "vqe_indep_qiskit_9.json mutant_341\n",
      "vqe_indep_qiskit_9.json mutant_342\n",
      "vqe_indep_qiskit_9.json mutant_343\n",
      "vqe_indep_qiskit_9.json mutant_345\n",
      "vqe_indep_qiskit_9.json mutant_346\n",
      "vqe_indep_qiskit_9.json mutant_347\n",
      "vqe_indep_qiskit_9.json mutant_348\n",
      "vqe_indep_qiskit_9.json mutant_350\n",
      "vqe_indep_qiskit_9.json mutant_352\n",
      "vqe_indep_qiskit_9.json mutant_353\n",
      "vqe_indep_qiskit_9.json mutant_361\n",
      "vqe_indep_qiskit_9.json mutant_369\n",
      "vqe_indep_qiskit_9.json mutant_370\n",
      "vqe_indep_qiskit_9.json mutant_372\n",
      "vqe_indep_qiskit_9.json mutant_373\n",
      "vqe_indep_qiskit_9.json mutant_376\n",
      "vqe_indep_qiskit_9.json mutant_377\n",
      "vqe_indep_qiskit_9.json mutant_378\n",
      "vqe_indep_qiskit_9.json mutant_379\n",
      "vqe_indep_qiskit_9.json mutant_380\n",
      "vqe_indep_qiskit_9.json mutant_385\n",
      "vqe_indep_qiskit_9.json mutant_388\n",
      "vqe_indep_qiskit_9.json mutant_391\n",
      "vqe_indep_qiskit_9.json mutant_394\n",
      "vqe_indep_qiskit_9.json mutant_403\n",
      "vqe_indep_qiskit_9.json mutant_418\n",
      "vqe_indep_qiskit_9.json mutant_419\n",
      "vqe_indep_qiskit_9.json mutant_423\n",
      "vqe_indep_qiskit_9.json mutant_424\n",
      "vqe_indep_qiskit_9.json mutant_425\n",
      "vqe_indep_qiskit_9.json mutant_426\n",
      "vqe_indep_qiskit_9.json mutant_427\n",
      "vqe_indep_qiskit_9.json mutant_429\n",
      "vqe_indep_qiskit_9.json mutant_430\n",
      "vqe_indep_qiskit_9.json mutant_432\n",
      "vqe_indep_qiskit_9.json mutant_440\n",
      "vqe_indep_qiskit_9.json mutant_441\n",
      "vqe_indep_qiskit_9.json mutant_443\n",
      "vqe_indep_qiskit_9.json mutant_444\n",
      "vqe_indep_qiskit_9.json mutant_445\n",
      "vqe_indep_qiskit_9.json mutant_447\n",
      "vqe_indep_qiskit_9.json mutant_448\n",
      "vqe_indep_qiskit_9.json mutant_449\n",
      "vqe_indep_qiskit_9.json mutant_450\n",
      "vqe_indep_qiskit_9.json mutant_452\n",
      "vqe_indep_qiskit_9.json mutant_454\n",
      "vqe_indep_qiskit_9.json mutant_455\n",
      "vqe_indep_qiskit_9.json mutant_463\n",
      "vqe_indep_qiskit_9.json mutant_471\n",
      "vqe_indep_qiskit_9.json mutant_472\n",
      "vqe_indep_qiskit_9.json mutant_474\n",
      "vqe_indep_qiskit_9.json mutant_475\n",
      "vqe_indep_qiskit_9.json mutant_478\n",
      "vqe_indep_qiskit_9.json mutant_479\n",
      "vqe_indep_qiskit_9.json mutant_480\n",
      "vqe_indep_qiskit_9.json mutant_481\n",
      "vqe_indep_qiskit_9.json mutant_482\n",
      "vqe_indep_qiskit_9.json mutant_489\n",
      "vqe_indep_qiskit_9.json mutant_504\n",
      "vqe_indep_qiskit_9.json mutant_505\n",
      "vqe_indep_qiskit_9.json mutant_509\n",
      "vqe_indep_qiskit_9.json mutant_510\n",
      "vqe_indep_qiskit_9.json mutant_511\n",
      "vqe_indep_qiskit_9.json mutant_512\n",
      "vqe_indep_qiskit_9.json mutant_513\n",
      "vqe_indep_qiskit_9.json mutant_515\n",
      "vqe_indep_qiskit_9.json mutant_516\n",
      "vqe_indep_qiskit_9.json mutant_518\n",
      "vqe_indep_qiskit_9.json mutant_526\n",
      "vqe_indep_qiskit_9.json mutant_558\n",
      "vqe_indep_qiskit_9.json mutant_561\n",
      "vqe_indep_qiskit_9.json mutant_570\n",
      "vqe_indep_qiskit_9.json mutant_572\n",
      "vqe_indep_qiskit_9.json mutant_573\n",
      "vqe_indep_qiskit_9.json mutant_574\n",
      "vqe_indep_qiskit_9.json mutant_576\n",
      "vqe_indep_qiskit_9.json mutant_577\n",
      "vqe_indep_qiskit_9.json mutant_578\n",
      "vqe_indep_qiskit_9.json mutant_579\n",
      "vqe_indep_qiskit_9.json mutant_581\n",
      "vqe_indep_qiskit_9.json mutant_583\n",
      "vqe_indep_qiskit_9.json mutant_584\n",
      "vqe_indep_qiskit_9.json mutant_592\n",
      "vqe_indep_qiskit_9.json mutant_600\n",
      "vqe_indep_qiskit_9.json mutant_601\n",
      "vqe_indep_qiskit_9.json mutant_603\n",
      "vqe_indep_qiskit_9.json mutant_604\n",
      "vqe_indep_qiskit_9.json mutant_607\n",
      "vqe_indep_qiskit_9.json mutant_608\n",
      "vqe_indep_qiskit_9.json mutant_609\n",
      "vqe_indep_qiskit_9.json mutant_610\n",
      "vqe_indep_qiskit_9.json mutant_611\n",
      "vqe_indep_qiskit_9.json mutant_614\n",
      "vqe_indep_qiskit_9.json mutant_646\n",
      "vqe_indep_qiskit_9.json mutant_649\n",
      "vqe_indep_qiskit_9.json mutant_652\n",
      "vqe_indep_qiskit_9.json mutant_657\n",
      "vqe_indep_qiskit_9.json mutant_673\n",
      "vqe_indep_qiskit_9.json mutant_690\n",
      "vqe_indep_qiskit_9.json mutant_699\n",
      "vqe_indep_qiskit_9.json mutant_702\n",
      "vqe_indep_qiskit_9.json mutant_705\n",
      "vqe_indep_qiskit_9.json mutant_731\n",
      "vqe_indep_qiskit_9.json mutant_734\n",
      "vqe_indep_qiskit_9.json mutant_738\n",
      "vqe_indep_qiskit_9.json mutant_758\n",
      "vqe_indep_qiskit_9.json mutant_761\n",
      "vqe_indep_qiskit_9.json mutant_765\n",
      "vqe_indep_qiskit_9.json mutant_785\n",
      "vqe_indep_qiskit_9.json mutant_788\n",
      "vqe_indep_qiskit_9.json mutant_791\n",
      "vqe_indep_qiskit_9.json mutant_828\n",
      "vqe_indep_qiskit_9.json mutant_831\n",
      "vqe_indep_qiskit_9.json mutant_835\n",
      "vqe_indep_qiskit_9.json mutant_840\n",
      "vqe_indep_qiskit_9.json mutant_871\n",
      "vqe_indep_qiskit_9.json mutant_874\n",
      "vqe_indep_qiskit_9.json mutant_878\n",
      "vqe_indep_qiskit_9.json mutant_891\n",
      "vqe_indep_qiskit_9.json mutant_914\n",
      "vqe_indep_qiskit_9.json mutant_917\n",
      "vqe_indep_qiskit_9.json mutant_941\n",
      "vqe_indep_qiskit_9.json mutant_944\n",
      "vqe_indep_qiskit_9.json mutant_948\n",
      "vqe_indep_qiskit_9.json mutant_952\n",
      "vqe_indep_qiskit_9.json mutant_956\n",
      "vqe_indep_qiskit_9.json mutant_968\n",
      "vqe_indep_qiskit_9.json mutant_970\n",
      "vqe_indep_qiskit_9.json mutant_971\n",
      "vqe_indep_qiskit_9.json mutant_974\n",
      "vqe_indep_qiskit_9.json mutant_979\n",
      "vqe_indep_qiskit_9.json mutant_983\n",
      "vqe_indep_qiskit_9.json mutant_988\n",
      "vqe_indep_qiskit_9.json mutant_995\n",
      "vqe_indep_qiskit_9.json mutant_997\n",
      "vqe_indep_qiskit_9.json mutant_998\n",
      "vqe_indep_qiskit_9.json mutant_1001\n",
      "vqe_indep_qiskit_9.json mutant_1022\n",
      "vqe_indep_qiskit_9.json mutant_1025\n",
      "vqe_indep_qiskit_9.json mutant_1029\n"
     ]
    }
   ],
   "source": [
    "for files in tqdm(os.listdir(\"hamiltonian_result/\")):\n",
    "    file = open(\"hamiltonian_result/\"+files,\"r\")\n",
    "    data = json.load(file)\n",
    "    file.close()\n",
    "    file = open(\"ground_truth/\"+files,\"r\")\n",
    "    ground = json.load(file)\n",
    "    file.close()\n",
    "    for k in data.keys():\n",
    "        if \"vqe_indep\" in files:\n",
    "            if data[k][\"qucat_oracle\"]==1 and data[k][\"ham_oracle\"]==1:\n",
    "                ground[k] = 1\n",
    "                print(files,k)\n",
    "        #else:\n",
    "        #    ground[k] = data[k][\"qucat_oracle\"]\n",
    "            \n",
    "    file = open(\"ground_truth/\"+files,\"w\")\n",
    "    json.dump(ground,file)\n",
    "    file.close()"
   ]
  },
  {
   "cell_type": "code",
   "execution_count": null,
   "id": "9e96ed0a",
   "metadata": {},
   "outputs": [],
   "source": []
  },
  {
   "cell_type": "code",
   "execution_count": null,
   "id": "49f2d7db",
   "metadata": {},
   "outputs": [],
   "source": [
    "for files in tqdm(os.listdir(\"hamiltonian_result/\")):\n",
    "    file = open(\"hamiltonian_result/\"+files,\"r\")\n",
    "    data = json.load(file)\n",
    "    file.close()\n",
    "    ground = {}\n",
    "    for k in data.keys():\n",
    "        if data[k][\"qucat_oracle\"]==1 and data[k][\"ham_oracle\"]==0:\n",
    "            ground[k] = 0\n",
    "        else:\n",
    "            ground[k] = data[k][\"qucat_oracle\"]\n",
    "            \n",
    "    file = open(\"ground_truth/\"+files,\"w\")\n",
    "    json.dump(ground,file)\n",
    "    file.close()"
   ]
  },
  {
   "cell_type": "code",
   "execution_count": null,
   "id": "da08f343",
   "metadata": {},
   "outputs": [],
   "source": []
  }
 ],
 "metadata": {
  "kernelspec": {
   "display_name": "Python [conda env:quota]",
   "language": "python",
   "name": "conda-env-quota-py"
  },
  "language_info": {
   "codemirror_mode": {
    "name": "ipython",
    "version": 3
   },
   "file_extension": ".py",
   "mimetype": "text/x-python",
   "name": "python",
   "nbconvert_exporter": "python",
   "pygments_lexer": "ipython3",
   "version": "3.9.19"
  }
 },
 "nbformat": 4,
 "nbformat_minor": 5
}
