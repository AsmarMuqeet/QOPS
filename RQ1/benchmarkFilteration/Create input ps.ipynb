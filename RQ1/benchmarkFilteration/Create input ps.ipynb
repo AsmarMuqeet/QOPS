{
 "cells": [
  {
   "cell_type": "code",
   "execution_count": 1,
   "id": "bb5bba6c",
   "metadata": {
    "slideshow": {
     "slide_type": "skip"
    }
   },
   "outputs": [],
   "source": [
    "from qiskit import QuantumCircuit, transpile, Aer\n",
    "import json\n",
    "import numpy as np\n",
    "import pandas as pd\n",
    "import os\n",
    "from tqdm.notebook import tqdm\n",
    "\n",
    "\n",
    "ideal_simulator = Aer.get_backend('qasm_simulator')"
   ]
  },
  {
   "cell_type": "code",
   "execution_count": 4,
   "id": "1d249524",
   "metadata": {
    "slideshow": {
     "slide_type": "skip"
    }
   },
   "outputs": [],
   "source": [
    "def load_program(name):\n",
    "    \n",
    "    qc = QuantumCircuit.from_qasm_file(\"benchmark/{}\".format(name))\n",
    "    qc.remove_final_measurements()\n",
    "    if len(qc.clbits)>0:\n",
    "        for i in range(len(qc.clbits)):\n",
    "            qc.measure(i,i)\n",
    "    else:\n",
    "        qc.measure_all()\n",
    "        \n",
    "    return qc.copy()\n",
    "\n",
    "\n",
    "def get_ps(qc,simulator,prob=True):\n",
    "    counts = simulator.run(qc,shots=4000,seed_simulator=42).result().get_counts()\n",
    "    if isinstance(counts,list):\n",
    "        PS = []\n",
    "        for count in counts:\n",
    "            temp = dict(sorted(count.items(),key=lambda x: int(x[0],2)))\n",
    "            if prob:\n",
    "                for k in temp.keys():\n",
    "                    temp[k] = temp[k]/4000\n",
    "            PS.append(temp)\n",
    "        return PS\n",
    "    else:\n",
    "        ps = dict(sorted(counts.items(),key=lambda x: int(x[0],2)))\n",
    "        if prob:\n",
    "            for k in ps.keys():\n",
    "                ps[k] = ps[k]/4000\n",
    "        return ps\n",
    "    \n",
    "def generate_0_ps(simulator):\n",
    "    for name in tqdm(sorted(os.listdir(\"benchmark/\"))):\n",
    "        qc = load_program(name)\n",
    "        qc = transpile(qc,basis_gates=simulator.operation_names,optimization_level=0,seed_transpiler=42)\n",
    "        counts = get_ps(qc,simulator,prob=False)\n",
    "        file = open(\"zero_input/{}\".format(name.replace(\".qasm\",\".json\")),\"w\")\n",
    "        json.dump(counts,file)\n",
    "        file.close()"
   ]
  },
  {
   "cell_type": "code",
   "execution_count": 5,
   "id": "10c33cda",
   "metadata": {},
   "outputs": [
    {
     "data": {
      "application/vnd.jupyter.widget-view+json": {
       "model_id": "8c06aac84b8a47aa8ac77f2858633134",
       "version_major": 2,
       "version_minor": 0
      },
      "text/plain": [
       "  0%|          | 0/157 [00:00<?, ?it/s]"
      ]
     },
     "metadata": {},
     "output_type": "display_data"
    }
   ],
   "source": [
    "generate_0_ps(ideal_simulator)"
   ]
  },
  {
   "cell_type": "code",
   "execution_count": null,
   "id": "781793c4",
   "metadata": {},
   "outputs": [],
   "source": []
  }
 ],
 "metadata": {
  "celltoolbar": "Slideshow",
  "kernelspec": {
   "display_name": "Python 3 (ipykernel)",
   "language": "python",
   "name": "python3"
  },
  "language_info": {
   "codemirror_mode": {
    "name": "ipython",
    "version": 3
   },
   "file_extension": ".py",
   "mimetype": "text/x-python",
   "name": "python",
   "nbconvert_exporter": "python",
   "pygments_lexer": "ipython3",
   "version": "3.11.5"
  }
 },
 "nbformat": 4,
 "nbformat_minor": 5
}
