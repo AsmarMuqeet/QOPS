{
 "cells": [
  {
   "cell_type": "code",
   "execution_count": 1,
   "id": "026e3857",
   "metadata": {},
   "outputs": [],
   "source": [
    "import os\n",
    "from tqdm.notebook import tqdm\n",
    "from mutantsGeneratorAsmar import *"
   ]
  },
  {
   "cell_type": "code",
   "execution_count": 4,
   "id": "d1f7c591",
   "metadata": {},
   "outputs": [
    {
     "data": {
      "application/vnd.jupyter.widget-view+json": {
       "model_id": "0aa6a1ff7fea4c22a10cf960af931e88",
       "version_major": 2,
       "version_minor": 0
      },
      "text/plain": [
       "  0%|          | 0/53 [00:00<?, ?it/s]"
      ]
     },
     "metadata": {},
     "output_type": "display_data"
    },
    {
     "name": "stdout",
     "output_type": "stream",
     "text": [
      "random_indep_qiskit_10.qasm\n",
      "random_indep_qiskit_2.qasm\n",
      "random_indep_qiskit_3.qasm\n",
      "random_indep_qiskit_4.qasm\n",
      "random_indep_qiskit_5.qasm\n",
      "random_indep_qiskit_6.qasm\n",
      "random_indep_qiskit_7.qasm\n",
      "random_indep_qiskit_8.qasm\n",
      "random_indep_qiskit_9.qasm\n",
      "realamprandom_indep_qiskit_10.qasm\n",
      "realamprandom_indep_qiskit_2.qasm\n",
      "realamprandom_indep_qiskit_3.qasm\n",
      "realamprandom_indep_qiskit_4.qasm\n",
      "realamprandom_indep_qiskit_5.qasm\n",
      "realamprandom_indep_qiskit_6.qasm\n",
      "realamprandom_indep_qiskit_7.qasm\n",
      "realamprandom_indep_qiskit_8.qasm\n",
      "realamprandom_indep_qiskit_9.qasm\n",
      "su2random_indep_qiskit_10.qasm\n",
      "su2random_indep_qiskit_2.qasm\n",
      "su2random_indep_qiskit_3.qasm\n",
      "su2random_indep_qiskit_4.qasm\n",
      "su2random_indep_qiskit_5.qasm\n",
      "su2random_indep_qiskit_6.qasm\n",
      "su2random_indep_qiskit_7.qasm\n",
      "su2random_indep_qiskit_8.qasm\n",
      "su2random_indep_qiskit_9.qasm\n",
      "twolocalrandom_indep_qiskit_10.qasm\n",
      "twolocalrandom_indep_qiskit_2.qasm\n",
      "twolocalrandom_indep_qiskit_3.qasm\n",
      "twolocalrandom_indep_qiskit_4.qasm\n",
      "twolocalrandom_indep_qiskit_5.qasm\n",
      "twolocalrandom_indep_qiskit_6.qasm\n",
      "twolocalrandom_indep_qiskit_7.qasm\n",
      "twolocalrandom_indep_qiskit_8.qasm\n",
      "twolocalrandom_indep_qiskit_9.qasm\n",
      "vqe_indep_qiskit_10.qasm\n",
      "vqe_indep_qiskit_3.qasm\n",
      "vqe_indep_qiskit_4.qasm\n",
      "vqe_indep_qiskit_5.qasm\n",
      "vqe_indep_qiskit_6.qasm\n",
      "vqe_indep_qiskit_7.qasm\n",
      "vqe_indep_qiskit_8.qasm\n",
      "vqe_indep_qiskit_9.qasm\n",
      "wstate_indep_qiskit_10.qasm\n",
      "wstate_indep_qiskit_2.qasm\n",
      "wstate_indep_qiskit_3.qasm\n",
      "wstate_indep_qiskit_4.qasm\n",
      "wstate_indep_qiskit_5.qasm\n",
      "wstate_indep_qiskit_6.qasm\n",
      "wstate_indep_qiskit_7.qasm\n",
      "wstate_indep_qiskit_8.qasm\n",
      "wstate_indep_qiskit_9.qasm\n"
     ]
    }
   ],
   "source": [
    "for filename in tqdm(sorted(os.listdir(\"benchmark/\"))[104::]):\n",
    "    print(filename)\n",
    "    characteristics = {'All': True}\n",
    "    start(\"benchmark/\"+filename, \"./mutants/\", characteristics)"
   ]
  },
  {
   "cell_type": "code",
   "execution_count": null,
   "id": "7806a643",
   "metadata": {},
   "outputs": [],
   "source": []
  }
 ],
 "metadata": {
  "kernelspec": {
   "display_name": "Python 3 (ipykernel)",
   "language": "python",
   "name": "python3"
  },
  "language_info": {
   "codemirror_mode": {
    "name": "ipython",
    "version": 3
   },
   "file_extension": ".py",
   "mimetype": "text/x-python",
   "name": "python",
   "nbconvert_exporter": "python",
   "pygments_lexer": "ipython3",
   "version": "3.11.5"
  }
 },
 "nbformat": 4,
 "nbformat_minor": 5
}
